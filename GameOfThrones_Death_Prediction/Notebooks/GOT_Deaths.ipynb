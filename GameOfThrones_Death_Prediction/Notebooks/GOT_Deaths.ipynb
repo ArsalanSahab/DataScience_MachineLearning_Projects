{
 "cells": [
  {
   "cell_type": "markdown",
   "metadata": {},
   "source": [
    "# Importing Libraries"
   ]
  },
  {
   "cell_type": "code",
   "execution_count": 33,
   "metadata": {},
   "outputs": [],
   "source": [
    "import pandas as pd\n",
    "import numpy as np \n",
    "import matplotlib.pyplot as plt\n",
    "import plotly.express as px\n",
    "import seaborn as sb\n",
    "from pandas_profiling import ProfileReport\n",
    "\n",
    "from sklearn.model_selection import train_test_split \n",
    "from sklearn.model_selection import cross_val_score\n",
    "from sklearn.linear_model import LogisticRegression\n",
    "from sklearn.tree import DecisionTreeClassifier\n",
    "from sklearn.ensemble import RandomForestClassifier\n",
    "from sklearn.model_selection import RandomizedSearchCV"
   ]
  },
  {
   "cell_type": "code",
   "execution_count": 17,
   "metadata": {},
   "outputs": [],
   "source": [
    "# Loading Dataset\n",
    "\n",
    "got_deaths_df = pd.read_csv(\"../Dataset/character-predictions.csv\")"
   ]
  },
  {
   "cell_type": "markdown",
   "metadata": {},
   "source": [
    "# Exploratory Data Analysis"
   ]
  },
  {
   "cell_type": "code",
   "execution_count": 18,
   "metadata": {},
   "outputs": [
    {
     "output_type": "execute_result",
     "data": {
      "text/plain": "   S.No  actual  pred  alive   plod                  name  \\\n0     1       0     0  0.054  0.946  Viserys II Targaryen   \n1     2       1     0  0.387  0.613           Walder Frey   \n2     3       1     0  0.493  0.507          Addison Hill   \n3     4       0     0  0.076  0.924           Aemma Arryn   \n4     5       1     1  0.617  0.383        Sylva Santagar   \n\n                  title  male   culture  dateOfBirth  ...  isAliveHeir  \\\n0                   NaN     1       NaN          NaN  ...          0.0   \n1  Lord of the Crossing     1  Rivermen        208.0  ...          NaN   \n2                   Ser     1       NaN          NaN  ...          NaN   \n3                 Queen     0       NaN         82.0  ...          NaN   \n4            Greenstone     0   Dornish        276.0  ...          NaN   \n\n  isAliveSpouse isMarried isNoble   age numDeadRelations  boolDeadRelations  \\\n0           NaN         0       0   NaN               11                  1   \n1           1.0         1       1  97.0                1                  1   \n2           NaN         0       1   NaN                0                  0   \n3           0.0         1       1  23.0                0                  0   \n4           1.0         1       1  29.0                0                  0   \n\n   isPopular  popularity  isAlive  \n0          1    0.605351        0  \n1          1    0.896321        1  \n2          0    0.267559        1  \n3          0    0.183946        0  \n4          0    0.043478        1  \n\n[5 rows x 33 columns]",
      "text/html": "<div>\n<style scoped>\n    .dataframe tbody tr th:only-of-type {\n        vertical-align: middle;\n    }\n\n    .dataframe tbody tr th {\n        vertical-align: top;\n    }\n\n    .dataframe thead th {\n        text-align: right;\n    }\n</style>\n<table border=\"1\" class=\"dataframe\">\n  <thead>\n    <tr style=\"text-align: right;\">\n      <th></th>\n      <th>S.No</th>\n      <th>actual</th>\n      <th>pred</th>\n      <th>alive</th>\n      <th>plod</th>\n      <th>name</th>\n      <th>title</th>\n      <th>male</th>\n      <th>culture</th>\n      <th>dateOfBirth</th>\n      <th>...</th>\n      <th>isAliveHeir</th>\n      <th>isAliveSpouse</th>\n      <th>isMarried</th>\n      <th>isNoble</th>\n      <th>age</th>\n      <th>numDeadRelations</th>\n      <th>boolDeadRelations</th>\n      <th>isPopular</th>\n      <th>popularity</th>\n      <th>isAlive</th>\n    </tr>\n  </thead>\n  <tbody>\n    <tr>\n      <th>0</th>\n      <td>1</td>\n      <td>0</td>\n      <td>0</td>\n      <td>0.054</td>\n      <td>0.946</td>\n      <td>Viserys II Targaryen</td>\n      <td>NaN</td>\n      <td>1</td>\n      <td>NaN</td>\n      <td>NaN</td>\n      <td>...</td>\n      <td>0.0</td>\n      <td>NaN</td>\n      <td>0</td>\n      <td>0</td>\n      <td>NaN</td>\n      <td>11</td>\n      <td>1</td>\n      <td>1</td>\n      <td>0.605351</td>\n      <td>0</td>\n    </tr>\n    <tr>\n      <th>1</th>\n      <td>2</td>\n      <td>1</td>\n      <td>0</td>\n      <td>0.387</td>\n      <td>0.613</td>\n      <td>Walder Frey</td>\n      <td>Lord of the Crossing</td>\n      <td>1</td>\n      <td>Rivermen</td>\n      <td>208.0</td>\n      <td>...</td>\n      <td>NaN</td>\n      <td>1.0</td>\n      <td>1</td>\n      <td>1</td>\n      <td>97.0</td>\n      <td>1</td>\n      <td>1</td>\n      <td>1</td>\n      <td>0.896321</td>\n      <td>1</td>\n    </tr>\n    <tr>\n      <th>2</th>\n      <td>3</td>\n      <td>1</td>\n      <td>0</td>\n      <td>0.493</td>\n      <td>0.507</td>\n      <td>Addison Hill</td>\n      <td>Ser</td>\n      <td>1</td>\n      <td>NaN</td>\n      <td>NaN</td>\n      <td>...</td>\n      <td>NaN</td>\n      <td>NaN</td>\n      <td>0</td>\n      <td>1</td>\n      <td>NaN</td>\n      <td>0</td>\n      <td>0</td>\n      <td>0</td>\n      <td>0.267559</td>\n      <td>1</td>\n    </tr>\n    <tr>\n      <th>3</th>\n      <td>4</td>\n      <td>0</td>\n      <td>0</td>\n      <td>0.076</td>\n      <td>0.924</td>\n      <td>Aemma Arryn</td>\n      <td>Queen</td>\n      <td>0</td>\n      <td>NaN</td>\n      <td>82.0</td>\n      <td>...</td>\n      <td>NaN</td>\n      <td>0.0</td>\n      <td>1</td>\n      <td>1</td>\n      <td>23.0</td>\n      <td>0</td>\n      <td>0</td>\n      <td>0</td>\n      <td>0.183946</td>\n      <td>0</td>\n    </tr>\n    <tr>\n      <th>4</th>\n      <td>5</td>\n      <td>1</td>\n      <td>1</td>\n      <td>0.617</td>\n      <td>0.383</td>\n      <td>Sylva Santagar</td>\n      <td>Greenstone</td>\n      <td>0</td>\n      <td>Dornish</td>\n      <td>276.0</td>\n      <td>...</td>\n      <td>NaN</td>\n      <td>1.0</td>\n      <td>1</td>\n      <td>1</td>\n      <td>29.0</td>\n      <td>0</td>\n      <td>0</td>\n      <td>0</td>\n      <td>0.043478</td>\n      <td>1</td>\n    </tr>\n  </tbody>\n</table>\n<p>5 rows × 33 columns</p>\n</div>"
     },
     "metadata": {},
     "execution_count": 18
    }
   ],
   "source": [
    "got_deaths_df.head()"
   ]
  },
  {
   "cell_type": "markdown",
   "metadata": {},
   "source": [
    "### Numerical Exploration"
   ]
  },
  {
   "cell_type": "code",
   "execution_count": 19,
   "metadata": {},
   "outputs": [
    {
     "output_type": "execute_result",
     "data": {
      "text/plain": "(1946, 33)"
     },
     "metadata": {},
     "execution_count": 19
    }
   ],
   "source": [
    "got_deaths_df.shape"
   ]
  },
  {
   "cell_type": "code",
   "execution_count": 20,
   "metadata": {},
   "outputs": [
    {
     "output_type": "execute_result",
     "data": {
      "text/plain": "              S.No       actual         pred        alive         plod  \\\ncount  1946.000000  1946.000000  1946.000000  1946.000000  1946.000000   \nmean    973.500000     0.745632     0.687050     0.634470     0.365530   \nstd     561.906131     0.435617     0.463813     0.312637     0.312637   \nmin       1.000000     0.000000     0.000000     0.000000     0.000000   \n25%     487.250000     0.000000     0.000000     0.391250     0.101000   \n50%     973.500000     1.000000     1.000000     0.735500     0.264500   \n75%    1459.750000     1.000000     1.000000     0.899000     0.608750   \nmax    1946.000000     1.000000     1.000000     1.000000     1.000000   \n\n              male    dateOfBirth    DateoFdeath        book1        book2  \\\ncount  1946.000000     433.000000     444.000000  1946.000000  1946.000000   \nmean      0.619219    1577.364896    2950.193694     0.198356     0.374615   \nstd       0.485704   19565.414460   28192.245529     0.398864     0.484148   \nmin       0.000000     -28.000000       0.000000     0.000000     0.000000   \n25%       0.000000     240.000000     282.000000     0.000000     0.000000   \n50%       1.000000     268.000000     299.000000     0.000000     0.000000   \n75%       1.000000     285.000000     299.000000     0.000000     1.000000   \nmax       1.000000  298299.000000  298299.000000     1.000000     1.000000   \n\n       ...  isAliveHeir  isAliveSpouse    isMarried      isNoble  \\\ncount  ...    23.000000     276.000000  1946.000000  1946.000000   \nmean   ...     0.652174       0.778986     0.141829     0.460946   \nstd    ...     0.486985       0.415684     0.348965     0.498601   \nmin    ...     0.000000       0.000000     0.000000     0.000000   \n25%    ...     0.000000       1.000000     0.000000     0.000000   \n50%    ...     1.000000       1.000000     0.000000     0.000000   \n75%    ...     1.000000       1.000000     0.000000     1.000000   \nmax    ...     1.000000       1.000000     1.000000     1.000000   \n\n                 age  numDeadRelations  boolDeadRelations    isPopular  \\\ncount     433.000000       1946.000000        1946.000000  1946.000000   \nmean    -1293.563510          0.305755           0.074512     0.059096   \nstd     19564.340993          1.383910           0.262669     0.235864   \nmin   -298001.000000          0.000000           0.000000     0.000000   \n25%        18.000000          0.000000           0.000000     0.000000   \n50%        27.000000          0.000000           0.000000     0.000000   \n75%        50.000000          0.000000           0.000000     0.000000   \nmax       100.000000         15.000000           1.000000     1.000000   \n\n        popularity      isAlive  \ncount  1946.000000  1946.000000  \nmean      0.089584     0.745632  \nstd       0.160568     0.435617  \nmin       0.000000     0.000000  \n25%       0.013378     0.000000  \n50%       0.033445     1.000000  \n75%       0.086957     1.000000  \nmax       1.000000     1.000000  \n\n[8 rows x 25 columns]",
      "text/html": "<div>\n<style scoped>\n    .dataframe tbody tr th:only-of-type {\n        vertical-align: middle;\n    }\n\n    .dataframe tbody tr th {\n        vertical-align: top;\n    }\n\n    .dataframe thead th {\n        text-align: right;\n    }\n</style>\n<table border=\"1\" class=\"dataframe\">\n  <thead>\n    <tr style=\"text-align: right;\">\n      <th></th>\n      <th>S.No</th>\n      <th>actual</th>\n      <th>pred</th>\n      <th>alive</th>\n      <th>plod</th>\n      <th>male</th>\n      <th>dateOfBirth</th>\n      <th>DateoFdeath</th>\n      <th>book1</th>\n      <th>book2</th>\n      <th>...</th>\n      <th>isAliveHeir</th>\n      <th>isAliveSpouse</th>\n      <th>isMarried</th>\n      <th>isNoble</th>\n      <th>age</th>\n      <th>numDeadRelations</th>\n      <th>boolDeadRelations</th>\n      <th>isPopular</th>\n      <th>popularity</th>\n      <th>isAlive</th>\n    </tr>\n  </thead>\n  <tbody>\n    <tr>\n      <th>count</th>\n      <td>1946.000000</td>\n      <td>1946.000000</td>\n      <td>1946.000000</td>\n      <td>1946.000000</td>\n      <td>1946.000000</td>\n      <td>1946.000000</td>\n      <td>433.000000</td>\n      <td>444.000000</td>\n      <td>1946.000000</td>\n      <td>1946.000000</td>\n      <td>...</td>\n      <td>23.000000</td>\n      <td>276.000000</td>\n      <td>1946.000000</td>\n      <td>1946.000000</td>\n      <td>433.000000</td>\n      <td>1946.000000</td>\n      <td>1946.000000</td>\n      <td>1946.000000</td>\n      <td>1946.000000</td>\n      <td>1946.000000</td>\n    </tr>\n    <tr>\n      <th>mean</th>\n      <td>973.500000</td>\n      <td>0.745632</td>\n      <td>0.687050</td>\n      <td>0.634470</td>\n      <td>0.365530</td>\n      <td>0.619219</td>\n      <td>1577.364896</td>\n      <td>2950.193694</td>\n      <td>0.198356</td>\n      <td>0.374615</td>\n      <td>...</td>\n      <td>0.652174</td>\n      <td>0.778986</td>\n      <td>0.141829</td>\n      <td>0.460946</td>\n      <td>-1293.563510</td>\n      <td>0.305755</td>\n      <td>0.074512</td>\n      <td>0.059096</td>\n      <td>0.089584</td>\n      <td>0.745632</td>\n    </tr>\n    <tr>\n      <th>std</th>\n      <td>561.906131</td>\n      <td>0.435617</td>\n      <td>0.463813</td>\n      <td>0.312637</td>\n      <td>0.312637</td>\n      <td>0.485704</td>\n      <td>19565.414460</td>\n      <td>28192.245529</td>\n      <td>0.398864</td>\n      <td>0.484148</td>\n      <td>...</td>\n      <td>0.486985</td>\n      <td>0.415684</td>\n      <td>0.348965</td>\n      <td>0.498601</td>\n      <td>19564.340993</td>\n      <td>1.383910</td>\n      <td>0.262669</td>\n      <td>0.235864</td>\n      <td>0.160568</td>\n      <td>0.435617</td>\n    </tr>\n    <tr>\n      <th>min</th>\n      <td>1.000000</td>\n      <td>0.000000</td>\n      <td>0.000000</td>\n      <td>0.000000</td>\n      <td>0.000000</td>\n      <td>0.000000</td>\n      <td>-28.000000</td>\n      <td>0.000000</td>\n      <td>0.000000</td>\n      <td>0.000000</td>\n      <td>...</td>\n      <td>0.000000</td>\n      <td>0.000000</td>\n      <td>0.000000</td>\n      <td>0.000000</td>\n      <td>-298001.000000</td>\n      <td>0.000000</td>\n      <td>0.000000</td>\n      <td>0.000000</td>\n      <td>0.000000</td>\n      <td>0.000000</td>\n    </tr>\n    <tr>\n      <th>25%</th>\n      <td>487.250000</td>\n      <td>0.000000</td>\n      <td>0.000000</td>\n      <td>0.391250</td>\n      <td>0.101000</td>\n      <td>0.000000</td>\n      <td>240.000000</td>\n      <td>282.000000</td>\n      <td>0.000000</td>\n      <td>0.000000</td>\n      <td>...</td>\n      <td>0.000000</td>\n      <td>1.000000</td>\n      <td>0.000000</td>\n      <td>0.000000</td>\n      <td>18.000000</td>\n      <td>0.000000</td>\n      <td>0.000000</td>\n      <td>0.000000</td>\n      <td>0.013378</td>\n      <td>0.000000</td>\n    </tr>\n    <tr>\n      <th>50%</th>\n      <td>973.500000</td>\n      <td>1.000000</td>\n      <td>1.000000</td>\n      <td>0.735500</td>\n      <td>0.264500</td>\n      <td>1.000000</td>\n      <td>268.000000</td>\n      <td>299.000000</td>\n      <td>0.000000</td>\n      <td>0.000000</td>\n      <td>...</td>\n      <td>1.000000</td>\n      <td>1.000000</td>\n      <td>0.000000</td>\n      <td>0.000000</td>\n      <td>27.000000</td>\n      <td>0.000000</td>\n      <td>0.000000</td>\n      <td>0.000000</td>\n      <td>0.033445</td>\n      <td>1.000000</td>\n    </tr>\n    <tr>\n      <th>75%</th>\n      <td>1459.750000</td>\n      <td>1.000000</td>\n      <td>1.000000</td>\n      <td>0.899000</td>\n      <td>0.608750</td>\n      <td>1.000000</td>\n      <td>285.000000</td>\n      <td>299.000000</td>\n      <td>0.000000</td>\n      <td>1.000000</td>\n      <td>...</td>\n      <td>1.000000</td>\n      <td>1.000000</td>\n      <td>0.000000</td>\n      <td>1.000000</td>\n      <td>50.000000</td>\n      <td>0.000000</td>\n      <td>0.000000</td>\n      <td>0.000000</td>\n      <td>0.086957</td>\n      <td>1.000000</td>\n    </tr>\n    <tr>\n      <th>max</th>\n      <td>1946.000000</td>\n      <td>1.000000</td>\n      <td>1.000000</td>\n      <td>1.000000</td>\n      <td>1.000000</td>\n      <td>1.000000</td>\n      <td>298299.000000</td>\n      <td>298299.000000</td>\n      <td>1.000000</td>\n      <td>1.000000</td>\n      <td>...</td>\n      <td>1.000000</td>\n      <td>1.000000</td>\n      <td>1.000000</td>\n      <td>1.000000</td>\n      <td>100.000000</td>\n      <td>15.000000</td>\n      <td>1.000000</td>\n      <td>1.000000</td>\n      <td>1.000000</td>\n      <td>1.000000</td>\n    </tr>\n  </tbody>\n</table>\n<p>8 rows × 25 columns</p>\n</div>"
     },
     "metadata": {},
     "execution_count": 20
    }
   ],
   "source": [
    "# Basic Statistics\n",
    "\n",
    "got_deaths_df.describe()"
   ]
  },
  {
   "cell_type": "code",
   "execution_count": 21,
   "metadata": {},
   "outputs": [
    {
     "output_type": "execute_result",
     "data": {
      "text/plain": "S.No                   int64\nactual                 int64\npred                   int64\nalive                float64\nplod                 float64\nname                  object\ntitle                 object\nmale                   int64\nculture               object\ndateOfBirth          float64\nDateoFdeath          float64\nmother                object\nfather                object\nheir                  object\nhouse                 object\nspouse                object\nbook1                  int64\nbook2                  int64\nbook3                  int64\nbook4                  int64\nbook5                  int64\nisAliveMother        float64\nisAliveFather        float64\nisAliveHeir          float64\nisAliveSpouse        float64\nisMarried              int64\nisNoble                int64\nage                  float64\nnumDeadRelations       int64\nboolDeadRelations      int64\nisPopular              int64\npopularity           float64\nisAlive                int64\ndtype: object"
     },
     "metadata": {},
     "execution_count": 21
    }
   ],
   "source": [
    "# Data Types\n",
    "\n",
    "got_deaths_df.dtypes"
   ]
  },
  {
   "cell_type": "code",
   "execution_count": 22,
   "metadata": {},
   "outputs": [
    {
     "output_type": "execute_result",
     "data": {
      "text/plain": "S.No                    0\nactual                  0\npred                    0\nalive                   0\nplod                    0\nname                    0\ntitle                1008\nmale                    0\nculture              1269\ndateOfBirth          1513\nDateoFdeath          1502\nmother               1925\nfather               1920\nheir                 1923\nhouse                 427\nspouse               1670\nbook1                   0\nbook2                   0\nbook3                   0\nbook4                   0\nbook5                   0\nisAliveMother        1925\nisAliveFather        1920\nisAliveHeir          1923\nisAliveSpouse        1670\nisMarried               0\nisNoble                 0\nage                  1513\nnumDeadRelations        0\nboolDeadRelations       0\nisPopular               0\npopularity              0\nisAlive                 0\ndtype: int64"
     },
     "metadata": {},
     "execution_count": 22
    }
   ],
   "source": [
    "# NaN Values\n",
    "\n",
    "got_deaths_df.isna().sum()"
   ]
  },
  {
   "cell_type": "code",
   "execution_count": 23,
   "metadata": {},
   "outputs": [
    {
     "output_type": "execute_result",
     "data": {
      "text/plain": "S.No                    0\nactual                  0\npred                    0\nalive                   0\nplod                    0\nname                    0\ntitle                1008\nmale                    0\nculture              1269\ndateOfBirth          1513\nDateoFdeath          1502\nmother               1925\nfather               1920\nheir                 1923\nhouse                 427\nspouse               1670\nbook1                   0\nbook2                   0\nbook3                   0\nbook4                   0\nbook5                   0\nisAliveMother        1925\nisAliveFather        1920\nisAliveHeir          1923\nisAliveSpouse        1670\nisMarried               0\nisNoble                 0\nage                  1513\nnumDeadRelations        0\nboolDeadRelations       0\nisPopular               0\npopularity              0\nisAlive                 0\ndtype: int64"
     },
     "metadata": {},
     "execution_count": 23
    }
   ],
   "source": []
  },
  {
   "cell_type": "markdown",
   "metadata": {},
   "source": [
    "### Report Generation"
   ]
  },
  {
   "cell_type": "markdown",
   "metadata": {},
   "source": [
    "### Visual Exploration"
   ]
  },
  {
   "cell_type": "code",
   "execution_count": 28,
   "metadata": {},
   "outputs": [
    {
     "output_type": "display_data",
     "data": {
      "application/vnd.plotly.v1+json": {
       "config": {
        "plotlyServerURL": "https://plot.ly"
       },
       "data": [
        {
         "domain": {
          "x": [
           0,
           1
          ],
          "y": [
           0,
           1
          ]
         },
         "hoverlabel": {
          "namelength": 0
         },
         "hovertemplate": "isAlive_str=%{label}",
         "labels": [
          "Dead",
          "Alive",
          "Alive",
          "Dead",
          "Alive",
          "Alive",
          "Dead",
          "Dead",
          "Dead",
          "Alive",
          "Dead",
          "Alive",
          "Alive",
          "Alive",
          "Alive",
          "Alive",
          "Alive",
          "Alive",
          "Alive",
          "Alive",
          "Alive",
          "Alive",
          "Alive",
          "Alive",
          "Alive",
          "Dead",
          "Dead",
          "Alive",
          "Alive",
          "Dead",
          "Dead",
          "Alive",
          "Alive",
          "Alive",
          "Alive",
          "Alive",
          "Alive",
          "Alive",
          "Alive",
          "Alive",
          "Alive",
          "Dead",
          "Alive",
          "Alive",
          "Alive",
          "Alive",
          "Alive",
          "Alive",
          "Alive",
          "Alive",
          "Dead",
          "Dead",
          "Dead",
          "Dead",
          "Alive",
          "Dead",
          "Alive",
          "Alive",
          "Dead",
          "Dead",
          "Alive",
          "Alive",
          "Alive",
          "Alive",
          "Alive",
          "Dead",
          "Dead",
          "Alive",
          "Alive",
          "Alive",
          "Alive",
          "Alive",
          "Dead",
          "Alive",
          "Alive",
          "Alive",
          "Alive",
          "Alive",
          "Alive",
          "Alive",
          "Dead",
          "Alive",
          "Alive",
          "Alive",
          "Dead",
          "Dead",
          "Dead",
          "Dead",
          "Dead",
          "Alive",
          "Dead",
          "Alive",
          "Dead",
          "Alive",
          "Alive",
          "Alive",
          "Alive",
          "Alive",
          "Alive",
          "Alive",
          "Alive",
          "Dead",
          "Alive",
          "Alive",
          "Alive",
          "Alive",
          "Alive",
          "Alive",
          "Alive",
          "Dead",
          "Alive",
          "Alive",
          "Alive",
          "Alive",
          "Alive",
          "Alive",
          "Alive",
          "Alive",
          "Alive",
          "Alive",
          "Alive",
          "Alive",
          "Alive",
          "Alive",
          "Alive",
          "Alive",
          "Alive",
          "Dead",
          "Alive",
          "Dead",
          "Alive",
          "Alive",
          "Alive",
          "Alive",
          "Alive",
          "Dead",
          "Alive",
          "Alive",
          "Alive",
          "Alive",
          "Dead",
          "Alive",
          "Alive",
          "Alive",
          "Alive",
          "Alive",
          "Alive",
          "Alive",
          "Alive",
          "Alive",
          "Alive",
          "Alive",
          "Alive",
          "Alive",
          "Alive",
          "Alive",
          "Alive",
          "Alive",
          "Alive",
          "Alive",
          "Alive",
          "Alive",
          "Alive",
          "Alive",
          "Dead",
          "Dead",
          "Dead",
          "Dead",
          "Alive",
          "Dead",
          "Alive",
          "Alive",
          "Alive",
          "Alive",
          "Dead",
          "Alive",
          "Alive",
          "Dead",
          "Alive",
          "Alive",
          "Alive",
          "Alive",
          "Alive",
          "Alive",
          "Alive",
          "Alive",
          "Alive",
          "Alive",
          "Alive",
          "Alive",
          "Alive",
          "Dead",
          "Alive",
          "Alive",
          "Alive",
          "Alive",
          "Alive",
          "Alive",
          "Alive",
          "Alive",
          "Dead",
          "Alive",
          "Alive",
          "Dead",
          "Alive",
          "Alive",
          "Dead",
          "Alive",
          "Dead",
          "Alive",
          "Alive",
          "Alive",
          "Alive",
          "Dead",
          "Alive",
          "Alive",
          "Alive",
          "Alive",
          "Alive",
          "Alive",
          "Alive",
          "Dead",
          "Alive",
          "Alive",
          "Alive",
          "Alive",
          "Alive",
          "Alive",
          "Alive",
          "Alive",
          "Alive",
          "Alive",
          "Alive",
          "Dead",
          "Dead",
          "Alive",
          "Dead",
          "Alive",
          "Alive",
          "Alive",
          "Alive",
          "Alive",
          "Alive",
          "Alive",
          "Alive",
          "Alive",
          "Alive",
          "Alive",
          "Alive",
          "Alive",
          "Dead",
          "Dead",
          "Alive",
          "Dead",
          "Alive",
          "Alive",
          "Alive",
          "Alive",
          "Alive",
          "Alive",
          "Alive",
          "Dead",
          "Alive",
          "Alive",
          "Alive",
          "Alive",
          "Alive",
          "Dead",
          "Alive",
          "Alive",
          "Alive",
          "Alive",
          "Dead",
          "Alive",
          "Alive",
          "Alive",
          "Alive",
          "Dead",
          "Alive",
          "Dead",
          "Dead",
          "Dead",
          "Dead",
          "Alive",
          "Dead",
          "Dead",
          "Dead",
          "Dead",
          "Alive",
          "Dead",
          "Alive",
          "Alive",
          "Dead",
          "Alive",
          "Dead",
          "Alive",
          "Dead",
          "Dead",
          "Dead",
          "Alive",
          "Alive",
          "Dead",
          "Alive",
          "Alive",
          "Dead",
          "Alive",
          "Alive",
          "Alive",
          "Alive",
          "Alive",
          "Dead",
          "Dead",
          "Alive",
          "Alive",
          "Alive",
          "Alive",
          "Alive",
          "Dead",
          "Alive",
          "Alive",
          "Alive",
          "Alive",
          "Alive",
          "Alive",
          "Alive",
          "Alive",
          "Alive",
          "Alive",
          "Alive",
          "Dead",
          "Alive",
          "Alive",
          "Dead",
          "Alive",
          "Dead",
          "Alive",
          "Alive",
          "Alive",
          "Alive",
          "Alive",
          "Alive",
          "Alive",
          "Alive",
          "Alive",
          "Alive",
          "Alive",
          "Alive",
          "Alive",
          "Alive",
          "Alive",
          "Dead",
          "Alive",
          "Alive",
          "Alive",
          "Alive",
          "Alive",
          "Alive",
          "Alive",
          "Alive",
          "Alive",
          "Alive",
          "Alive",
          "Alive",
          "Alive",
          "Alive",
          "Alive",
          "Alive",
          "Alive",
          "Alive",
          "Alive",
          "Alive",
          "Alive",
          "Alive",
          "Alive",
          "Alive",
          "Alive",
          "Alive",
          "Alive",
          "Alive",
          "Alive",
          "Alive",
          "Alive",
          "Alive",
          "Alive",
          "Alive",
          "Dead",
          "Alive",
          "Alive",
          "Alive",
          "Alive",
          "Alive",
          "Alive",
          "Dead",
          "Alive",
          "Alive",
          "Alive",
          "Dead",
          "Alive",
          "Alive",
          "Alive",
          "Alive",
          "Alive",
          "Alive",
          "Alive",
          "Alive",
          "Alive",
          "Dead",
          "Alive",
          "Alive",
          "Alive",
          "Dead",
          "Alive",
          "Dead",
          "Alive",
          "Alive",
          "Alive",
          "Alive",
          "Alive",
          "Alive",
          "Alive",
          "Alive",
          "Dead",
          "Alive",
          "Alive",
          "Alive",
          "Alive",
          "Alive",
          "Alive",
          "Alive",
          "Dead",
          "Dead",
          "Dead",
          "Dead",
          "Dead",
          "Alive",
          "Dead",
          "Alive",
          "Dead",
          "Dead",
          "Alive",
          "Alive",
          "Alive",
          "Dead",
          "Alive",
          "Alive",
          "Alive",
          "Alive",
          "Alive",
          "Dead",
          "Alive",
          "Alive",
          "Alive",
          "Alive",
          "Alive",
          "Alive",
          "Alive",
          "Dead",
          "Alive",
          "Dead",
          "Alive",
          "Alive",
          "Dead",
          "Alive",
          "Alive",
          "Alive",
          "Alive",
          "Dead",
          "Alive",
          "Alive",
          "Dead",
          "Alive",
          "Alive",
          "Alive",
          "Alive",
          "Alive",
          "Dead",
          "Dead",
          "Dead",
          "Alive",
          "Alive",
          "Alive",
          "Dead",
          "Alive",
          "Alive",
          "Alive",
          "Alive",
          "Alive",
          "Dead",
          "Alive",
          "Alive",
          "Dead",
          "Alive",
          "Alive",
          "Alive",
          "Alive",
          "Alive",
          "Alive",
          "Alive",
          "Alive",
          "Alive",
          "Alive",
          "Alive",
          "Alive",
          "Alive",
          "Alive",
          "Alive",
          "Alive",
          "Alive",
          "Alive",
          "Alive",
          "Alive",
          "Dead",
          "Alive",
          "Alive",
          "Dead",
          "Alive",
          "Alive",
          "Alive",
          "Alive",
          "Alive",
          "Alive",
          "Alive",
          "Alive",
          "Alive",
          "Alive",
          "Alive",
          "Alive",
          "Alive",
          "Dead",
          "Alive",
          "Alive",
          "Dead",
          "Alive",
          "Dead",
          "Alive",
          "Alive",
          "Dead",
          "Dead",
          "Alive",
          "Alive",
          "Alive",
          "Alive",
          "Alive",
          "Dead",
          "Alive",
          "Alive",
          "Alive",
          "Alive",
          "Alive",
          "Alive",
          "Alive",
          "Alive",
          "Alive",
          "Alive",
          "Alive",
          "Alive",
          "Alive",
          "Alive",
          "Alive",
          "Alive",
          "Alive",
          "Alive",
          "Alive",
          "Alive",
          "Alive",
          "Alive",
          "Alive",
          "Dead",
          "Alive",
          "Alive",
          "Dead",
          "Alive",
          "Alive",
          "Dead",
          "Dead",
          "Dead",
          "Alive",
          "Dead",
          "Alive",
          "Alive",
          "Alive",
          "Alive",
          "Alive",
          "Alive",
          "Dead",
          "Dead",
          "Alive",
          "Alive",
          "Dead",
          "Alive",
          "Alive",
          "Dead",
          "Alive",
          "Alive",
          "Alive",
          "Alive",
          "Dead",
          "Alive",
          "Alive",
          "Alive",
          "Alive",
          "Alive",
          "Alive",
          "Dead",
          "Dead",
          "Alive",
          "Alive",
          "Alive",
          "Alive",
          "Alive",
          "Alive",
          "Alive",
          "Alive",
          "Alive",
          "Alive",
          "Alive",
          "Alive",
          "Dead",
          "Dead",
          "Alive",
          "Dead",
          "Alive",
          "Dead",
          "Dead",
          "Alive",
          "Alive",
          "Alive",
          "Alive",
          "Alive",
          "Alive",
          "Alive",
          "Alive",
          "Alive",
          "Alive",
          "Dead",
          "Dead",
          "Alive",
          "Alive",
          "Alive",
          "Alive",
          "Dead",
          "Alive",
          "Alive",
          "Alive",
          "Alive",
          "Alive",
          "Alive",
          "Alive",
          "Alive",
          "Alive",
          "Alive",
          "Dead",
          "Alive",
          "Dead",
          "Alive",
          "Alive",
          "Alive",
          "Alive",
          "Alive",
          "Alive",
          "Alive",
          "Alive",
          "Alive",
          "Alive",
          "Alive",
          "Dead",
          "Alive",
          "Alive",
          "Alive",
          "Alive",
          "Dead",
          "Alive",
          "Alive",
          "Alive",
          "Alive",
          "Dead",
          "Dead",
          "Dead",
          "Alive",
          "Dead",
          "Alive",
          "Alive",
          "Alive",
          "Alive",
          "Alive",
          "Alive",
          "Alive",
          "Alive",
          "Alive",
          "Alive",
          "Alive",
          "Alive",
          "Dead",
          "Alive",
          "Alive",
          "Alive",
          "Alive",
          "Alive",
          "Alive",
          "Alive",
          "Alive",
          "Alive",
          "Alive",
          "Alive",
          "Alive",
          "Alive",
          "Alive",
          "Alive",
          "Alive",
          "Alive",
          "Dead",
          "Dead",
          "Alive",
          "Alive",
          "Alive",
          "Dead",
          "Alive",
          "Alive",
          "Alive",
          "Dead",
          "Alive",
          "Alive",
          "Alive",
          "Alive",
          "Alive",
          "Alive",
          "Alive",
          "Dead",
          "Alive",
          "Alive",
          "Alive",
          "Alive",
          "Alive",
          "Dead",
          "Dead",
          "Alive",
          "Alive",
          "Alive",
          "Alive",
          "Dead",
          "Alive",
          "Alive",
          "Alive",
          "Alive",
          "Alive",
          "Alive",
          "Alive",
          "Alive",
          "Alive",
          "Alive",
          "Alive",
          "Alive",
          "Alive",
          "Alive",
          "Dead",
          "Alive",
          "Dead",
          "Alive",
          "Alive",
          "Alive",
          "Alive",
          "Alive",
          "Alive",
          "Alive",
          "Alive",
          "Alive",
          "Alive",
          "Alive",
          "Alive",
          "Alive",
          "Alive",
          "Alive",
          "Alive",
          "Alive",
          "Alive",
          "Alive",
          "Dead",
          "Alive",
          "Alive",
          "Alive",
          "Alive",
          "Alive",
          "Alive",
          "Alive",
          "Alive",
          "Alive",
          "Alive",
          "Dead",
          "Alive",
          "Alive",
          "Dead",
          "Alive",
          "Alive",
          "Alive",
          "Alive",
          "Alive",
          "Alive",
          "Alive",
          "Alive",
          "Dead",
          "Dead",
          "Alive",
          "Alive",
          "Alive",
          "Alive",
          "Alive",
          "Alive",
          "Alive",
          "Alive",
          "Alive",
          "Alive",
          "Alive",
          "Alive",
          "Alive",
          "Alive",
          "Alive",
          "Alive",
          "Dead",
          "Alive",
          "Alive",
          "Alive",
          "Dead",
          "Dead",
          "Alive",
          "Alive",
          "Alive",
          "Dead",
          "Dead",
          "Alive",
          "Alive",
          "Alive",
          "Alive",
          "Alive",
          "Alive",
          "Alive",
          "Dead",
          "Alive",
          "Alive",
          "Alive",
          "Alive",
          "Alive",
          "Alive",
          "Alive",
          "Alive",
          "Alive",
          "Dead",
          "Alive",
          "Alive",
          "Dead",
          "Alive",
          "Alive",
          "Alive",
          "Alive",
          "Alive",
          "Alive",
          "Alive",
          "Alive",
          "Alive",
          "Alive",
          "Alive",
          "Dead",
          "Dead",
          "Dead",
          "Alive",
          "Alive",
          "Alive",
          "Alive",
          "Alive",
          "Alive",
          "Alive",
          "Alive",
          "Alive",
          "Alive",
          "Alive",
          "Dead",
          "Alive",
          "Alive",
          "Alive",
          "Alive",
          "Dead",
          "Alive",
          "Alive",
          "Alive",
          "Alive",
          "Alive",
          "Alive",
          "Dead",
          "Dead",
          "Alive",
          "Dead",
          "Alive",
          "Alive",
          "Alive",
          "Alive",
          "Alive",
          "Alive",
          "Alive",
          "Alive",
          "Alive",
          "Alive",
          "Dead",
          "Alive",
          "Dead",
          "Dead",
          "Alive",
          "Dead",
          "Alive",
          "Alive",
          "Alive",
          "Alive",
          "Alive",
          "Alive",
          "Alive",
          "Alive",
          "Alive",
          "Alive",
          "Alive",
          "Alive",
          "Alive",
          "Alive",
          "Alive",
          "Dead",
          "Dead",
          "Alive",
          "Alive",
          "Alive",
          "Alive",
          "Alive",
          "Alive",
          "Alive",
          "Dead",
          "Alive",
          "Alive",
          "Alive",
          "Alive",
          "Alive",
          "Alive",
          "Dead",
          "Alive",
          "Alive",
          "Alive",
          "Alive",
          "Alive",
          "Alive",
          "Dead",
          "Alive",
          "Dead",
          "Dead",
          "Dead",
          "Dead",
          "Alive",
          "Alive",
          "Dead",
          "Alive",
          "Alive",
          "Dead",
          "Dead",
          "Alive",
          "Alive",
          "Dead",
          "Dead",
          "Alive",
          "Alive",
          "Alive",
          "Alive",
          "Alive",
          "Alive",
          "Dead",
          "Dead",
          "Alive",
          "Alive",
          "Alive",
          "Alive",
          "Alive",
          "Dead",
          "Alive",
          "Alive",
          "Alive",
          "Alive",
          "Dead",
          "Alive",
          "Dead",
          "Alive",
          "Alive",
          "Alive",
          "Alive",
          "Dead",
          "Alive",
          "Alive",
          "Dead",
          "Alive",
          "Dead",
          "Alive",
          "Alive",
          "Alive",
          "Alive",
          "Dead",
          "Alive",
          "Alive",
          "Alive",
          "Dead",
          "Alive",
          "Alive",
          "Dead",
          "Alive",
          "Dead",
          "Alive",
          "Alive",
          "Alive",
          "Alive",
          "Dead",
          "Alive",
          "Alive",
          "Alive",
          "Dead",
          "Alive",
          "Alive",
          "Alive",
          "Alive",
          "Alive",
          "Dead",
          "Alive",
          "Alive",
          "Alive",
          "Alive",
          "Dead",
          "Dead",
          "Dead",
          "Alive",
          "Alive",
          "Alive",
          "Alive",
          "Alive",
          "Alive",
          "Alive",
          "Alive",
          "Alive",
          "Alive",
          "Alive",
          "Alive",
          "Alive",
          "Alive",
          "Dead",
          "Alive",
          "Alive",
          "Alive",
          "Alive",
          "Dead",
          "Dead",
          "Alive",
          "Dead",
          "Alive",
          "Alive",
          "Alive",
          "Alive",
          "Alive",
          "Dead",
          "Alive",
          "Alive",
          "Alive",
          "Alive",
          "Alive",
          "Dead",
          "Alive",
          "Alive",
          "Alive",
          "Dead",
          "Alive",
          "Dead",
          "Alive",
          "Dead",
          "Alive",
          "Alive",
          "Alive",
          "Alive",
          "Dead",
          "Dead",
          "Dead",
          "Alive",
          "Alive",
          "Alive",
          "Alive",
          "Alive",
          "Dead",
          "Alive",
          "Alive",
          "Dead",
          "Dead",
          "Dead",
          "Alive",
          "Alive",
          "Dead",
          "Alive",
          "Alive",
          "Alive",
          "Alive",
          "Alive",
          "Alive",
          "Dead",
          "Alive",
          "Alive",
          "Alive",
          "Alive",
          "Alive",
          "Dead",
          "Dead",
          "Dead",
          "Alive",
          "Alive",
          "Alive",
          "Alive",
          "Alive",
          "Alive",
          "Alive",
          "Dead",
          "Dead",
          "Dead",
          "Alive",
          "Alive",
          "Alive",
          "Dead",
          "Alive",
          "Alive",
          "Alive",
          "Alive",
          "Alive",
          "Dead",
          "Dead",
          "Alive",
          "Alive",
          "Alive",
          "Alive",
          "Alive",
          "Alive",
          "Alive",
          "Alive",
          "Alive",
          "Alive",
          "Alive",
          "Dead",
          "Alive",
          "Alive",
          "Alive",
          "Alive",
          "Dead",
          "Alive",
          "Alive",
          "Alive",
          "Alive",
          "Alive",
          "Dead",
          "Alive",
          "Alive",
          "Dead",
          "Alive",
          "Alive",
          "Alive",
          "Alive",
          "Alive",
          "Dead",
          "Alive",
          "Alive",
          "Alive",
          "Alive",
          "Alive",
          "Alive",
          "Alive",
          "Alive",
          "Alive",
          "Dead",
          "Alive",
          "Dead",
          "Alive",
          "Alive",
          "Alive",
          "Alive",
          "Alive",
          "Alive",
          "Alive",
          "Alive",
          "Alive",
          "Dead",
          "Alive",
          "Dead",
          "Alive",
          "Alive",
          "Alive",
          "Alive",
          "Alive",
          "Dead",
          "Dead",
          "Dead",
          "Dead",
          "Alive",
          "Alive",
          "Alive",
          "Alive",
          "Alive",
          "Dead",
          "Alive",
          "Alive",
          "Alive",
          "Dead",
          "Alive",
          "Alive",
          "Alive",
          "Dead",
          "Alive",
          "Alive",
          "Alive",
          "Alive",
          "Alive",
          "Alive",
          "Alive",
          "Dead",
          "Alive",
          "Alive",
          "Alive",
          "Alive",
          "Alive",
          "Dead",
          "Dead",
          "Dead",
          "Alive",
          "Alive",
          "Alive",
          "Alive",
          "Alive",
          "Alive",
          "Alive",
          "Alive",
          "Alive",
          "Alive",
          "Alive",
          "Alive",
          "Alive",
          "Alive",
          "Alive",
          "Alive",
          "Dead",
          "Alive",
          "Alive",
          "Alive",
          "Alive",
          "Alive",
          "Alive",
          "Dead",
          "Alive",
          "Dead",
          "Alive",
          "Alive",
          "Dead",
          "Alive",
          "Alive",
          "Alive",
          "Alive",
          "Alive",
          "Alive",
          "Alive",
          "Alive",
          "Alive",
          "Alive",
          "Dead",
          "Alive",
          "Alive",
          "Alive",
          "Alive",
          "Dead",
          "Dead",
          "Alive",
          "Alive",
          "Alive",
          "Dead",
          "Alive",
          "Alive",
          "Alive",
          "Dead",
          "Alive",
          "Dead",
          "Dead",
          "Dead",
          "Alive",
          "Alive",
          "Alive",
          "Alive",
          "Alive",
          "Alive",
          "Alive",
          "Alive",
          "Alive",
          "Dead",
          "Dead",
          "Alive",
          "Alive",
          "Alive",
          "Dead",
          "Alive",
          "Alive",
          "Alive",
          "Dead",
          "Dead",
          "Alive",
          "Dead",
          "Dead",
          "Alive",
          "Alive",
          "Alive",
          "Alive",
          "Alive",
          "Dead",
          "Alive",
          "Alive",
          "Alive",
          "Alive",
          "Dead",
          "Alive",
          "Alive",
          "Alive",
          "Dead",
          "Alive",
          "Dead",
          "Alive",
          "Alive",
          "Alive",
          "Alive",
          "Alive",
          "Alive",
          "Alive",
          "Alive",
          "Alive",
          "Alive",
          "Alive",
          "Alive",
          "Alive",
          "Alive",
          "Alive",
          "Alive",
          "Alive",
          "Dead",
          "Alive",
          "Dead",
          "Alive",
          "Alive",
          "Alive",
          "Alive",
          "Alive",
          "Alive",
          "Dead",
          "Alive",
          "Alive",
          "Alive",
          "Alive",
          "Dead",
          "Alive",
          "Alive",
          "Alive",
          "Alive",
          "Alive",
          "Alive",
          "Alive",
          "Dead",
          "Alive",
          "Alive",
          "Alive",
          "Alive",
          "Alive",
          "Dead",
          "Alive",
          "Alive",
          "Alive",
          "Alive",
          "Dead",
          "Alive",
          "Alive",
          "Alive",
          "Alive",
          "Alive",
          "Alive",
          "Alive",
          "Alive",
          "Alive",
          "Dead",
          "Alive",
          "Alive",
          "Alive",
          "Alive",
          "Alive",
          "Dead",
          "Alive",
          "Alive",
          "Alive",
          "Alive",
          "Alive",
          "Alive",
          "Dead",
          "Alive",
          "Dead",
          "Alive",
          "Alive",
          "Alive",
          "Dead",
          "Alive",
          "Alive",
          "Alive",
          "Alive",
          "Alive",
          "Alive",
          "Alive",
          "Alive",
          "Dead",
          "Alive",
          "Alive",
          "Dead",
          "Alive",
          "Alive",
          "Dead",
          "Alive",
          "Alive",
          "Alive",
          "Alive",
          "Alive",
          "Alive",
          "Dead",
          "Alive",
          "Dead",
          "Dead",
          "Dead",
          "Alive",
          "Alive",
          "Alive",
          "Alive",
          "Alive",
          "Alive",
          "Alive",
          "Alive",
          "Alive",
          "Alive",
          "Alive",
          "Alive",
          "Alive",
          "Alive",
          "Alive",
          "Alive",
          "Alive",
          "Dead",
          "Dead",
          "Alive",
          "Dead",
          "Alive",
          "Dead",
          "Alive",
          "Alive",
          "Alive",
          "Alive",
          "Alive",
          "Alive",
          "Alive",
          "Alive",
          "Dead",
          "Dead",
          "Dead",
          "Dead",
          "Alive",
          "Alive",
          "Alive",
          "Alive",
          "Alive",
          "Alive",
          "Alive",
          "Alive",
          "Dead",
          "Alive",
          "Alive",
          "Alive",
          "Alive",
          "Alive",
          "Dead",
          "Alive",
          "Dead",
          "Dead",
          "Alive",
          "Alive",
          "Dead",
          "Dead",
          "Dead",
          "Dead",
          "Alive",
          "Dead",
          "Alive",
          "Alive",
          "Dead",
          "Alive",
          "Alive",
          "Alive",
          "Alive",
          "Dead",
          "Alive",
          "Alive",
          "Alive",
          "Alive",
          "Alive",
          "Alive",
          "Alive",
          "Dead",
          "Alive",
          "Alive",
          "Dead",
          "Alive",
          "Alive",
          "Alive",
          "Alive",
          "Alive",
          "Dead",
          "Dead",
          "Alive",
          "Alive",
          "Dead",
          "Alive",
          "Alive",
          "Dead",
          "Alive",
          "Alive",
          "Dead",
          "Dead",
          "Dead",
          "Alive",
          "Dead",
          "Alive",
          "Alive",
          "Dead",
          "Alive",
          "Alive",
          "Dead",
          "Dead",
          "Alive",
          "Alive",
          "Alive",
          "Alive",
          "Dead",
          "Alive",
          "Dead",
          "Alive",
          "Dead",
          "Alive",
          "Alive",
          "Alive",
          "Dead",
          "Dead",
          "Alive",
          "Alive",
          "Dead",
          "Alive",
          "Alive",
          "Dead",
          "Dead",
          "Alive",
          "Dead",
          "Dead",
          "Alive",
          "Alive",
          "Alive",
          "Dead",
          "Dead",
          "Alive",
          "Alive",
          "Alive",
          "Alive",
          "Alive",
          "Dead",
          "Alive",
          "Alive",
          "Alive",
          "Alive",
          "Alive",
          "Alive",
          "Alive",
          "Alive",
          "Alive",
          "Dead",
          "Alive",
          "Alive",
          "Alive",
          "Alive",
          "Alive",
          "Alive",
          "Alive",
          "Dead",
          "Alive",
          "Alive",
          "Dead",
          "Dead",
          "Alive",
          "Alive",
          "Alive",
          "Dead",
          "Alive",
          "Alive",
          "Dead",
          "Dead",
          "Alive",
          "Alive",
          "Dead",
          "Dead",
          "Dead",
          "Dead",
          "Alive",
          "Alive",
          "Alive",
          "Alive",
          "Dead",
          "Alive",
          "Dead",
          "Alive",
          "Dead",
          "Alive",
          "Dead",
          "Alive",
          "Dead",
          "Dead",
          "Dead",
          "Dead",
          "Dead",
          "Alive",
          "Dead",
          "Alive",
          "Alive",
          "Dead",
          "Alive",
          "Dead",
          "Alive",
          "Alive",
          "Alive",
          "Alive",
          "Dead",
          "Alive",
          "Dead",
          "Alive",
          "Alive",
          "Dead",
          "Dead",
          "Dead",
          "Dead",
          "Alive",
          "Alive",
          "Alive",
          "Dead",
          "Dead",
          "Alive",
          "Dead",
          "Alive",
          "Dead",
          "Alive",
          "Alive",
          "Alive",
          "Alive",
          "Alive",
          "Alive",
          "Dead",
          "Dead",
          "Dead",
          "Alive",
          "Alive",
          "Alive",
          "Alive",
          "Alive",
          "Dead",
          "Alive",
          "Alive",
          "Alive",
          "Alive",
          "Alive",
          "Dead",
          "Alive",
          "Dead",
          "Dead",
          "Dead",
          "Dead",
          "Alive",
          "Alive",
          "Alive",
          "Dead",
          "Dead",
          "Dead",
          "Alive",
          "Dead",
          "Alive",
          "Alive",
          "Dead",
          "Dead",
          "Alive",
          "Alive",
          "Dead",
          "Dead",
          "Alive",
          "Dead",
          "Alive",
          "Alive",
          "Dead",
          "Dead",
          "Alive",
          "Alive",
          "Alive",
          "Dead",
          "Alive",
          "Alive",
          "Dead",
          "Dead",
          "Alive",
          "Alive",
          "Alive",
          "Alive",
          "Alive",
          "Alive",
          "Dead",
          "Alive",
          "Dead",
          "Alive",
          "Dead",
          "Alive",
          "Dead",
          "Dead",
          "Alive",
          "Dead",
          "Alive",
          "Alive",
          "Alive",
          "Alive",
          "Alive",
          "Alive",
          "Alive",
          "Dead",
          "Dead",
          "Alive",
          "Dead",
          "Alive",
          "Alive",
          "Alive",
          "Alive",
          "Dead",
          "Alive",
          "Dead",
          "Alive",
          "Alive",
          "Alive",
          "Dead",
          "Alive",
          "Alive",
          "Alive",
          "Dead",
          "Alive",
          "Alive",
          "Dead",
          "Alive",
          "Dead",
          "Alive",
          "Dead",
          "Alive",
          "Dead",
          "Alive",
          "Alive",
          "Dead",
          "Alive",
          "Alive",
          "Alive",
          "Alive",
          "Dead",
          "Alive",
          "Dead",
          "Dead",
          "Alive",
          "Alive",
          "Alive",
          "Dead",
          "Dead",
          "Alive",
          "Alive",
          "Dead",
          "Alive",
          "Alive",
          "Dead",
          "Alive",
          "Alive",
          "Alive",
          "Alive",
          "Dead",
          "Alive",
          "Alive",
          "Alive",
          "Alive",
          "Dead",
          "Alive",
          "Alive",
          "Alive",
          "Dead",
          "Alive",
          "Alive",
          "Alive",
          "Dead",
          "Dead",
          "Alive",
          "Alive",
          "Dead",
          "Dead",
          "Alive",
          "Alive",
          "Alive",
          "Dead",
          "Alive",
          "Alive",
          "Dead",
          "Dead",
          "Dead",
          "Dead",
          "Dead",
          "Dead",
          "Dead",
          "Alive",
          "Alive",
          "Alive",
          "Dead",
          "Dead",
          "Dead",
          "Alive",
          "Alive",
          "Alive",
          "Dead",
          "Dead",
          "Dead",
          "Alive",
          "Dead",
          "Alive",
          "Alive",
          "Alive",
          "Alive",
          "Dead",
          "Alive",
          "Dead",
          "Alive",
          "Alive",
          "Dead",
          "Alive",
          "Alive",
          "Alive",
          "Alive",
          "Dead",
          "Dead",
          "Alive",
          "Dead",
          "Dead",
          "Dead",
          "Alive",
          "Alive",
          "Alive",
          "Dead",
          "Dead",
          "Alive",
          "Alive",
          "Alive",
          "Dead",
          "Dead",
          "Alive",
          "Dead",
          "Alive",
          "Dead",
          "Alive",
          "Alive",
          "Alive",
          "Dead",
          "Dead",
          "Alive",
          "Alive",
          "Dead",
          "Alive",
          "Alive",
          "Dead",
          "Alive",
          "Alive",
          "Alive",
          "Dead",
          "Alive",
          "Dead",
          "Dead",
          "Alive",
          "Alive",
          "Alive",
          "Alive",
          "Dead",
          "Alive",
          "Alive",
          "Alive",
          "Alive",
          "Alive",
          "Alive",
          "Alive",
          "Alive",
          "Alive",
          "Alive",
          "Dead",
          "Alive",
          "Alive",
          "Dead",
          "Dead",
          "Dead",
          "Alive",
          "Alive",
          "Dead",
          "Alive",
          "Dead",
          "Alive",
          "Dead",
          "Alive",
          "Dead",
          "Dead",
          "Dead",
          "Alive",
          "Dead",
          "Alive",
          "Alive",
          "Dead",
          "Dead",
          "Alive",
          "Dead",
          "Alive",
          "Alive",
          "Alive",
          "Alive",
          "Alive",
          "Alive",
          "Alive",
          "Dead",
          "Alive",
          "Alive",
          "Alive",
          "Alive",
          "Dead",
          "Alive",
          "Alive",
          "Dead",
          "Alive",
          "Alive",
          "Dead",
          "Dead",
          "Dead",
          "Alive",
          "Alive",
          "Dead"
         ],
         "legendgroup": "",
         "name": "",
         "showlegend": true,
         "textinfo": "percent+label",
         "textposition": "inside",
         "type": "pie"
        }
       ],
       "layout": {
        "legend": {
         "tracegroupgap": 0
        },
        "template": {
         "data": {
          "bar": [
           {
            "error_x": {
             "color": "#2a3f5f"
            },
            "error_y": {
             "color": "#2a3f5f"
            },
            "marker": {
             "line": {
              "color": "#E5ECF6",
              "width": 0.5
             }
            },
            "type": "bar"
           }
          ],
          "barpolar": [
           {
            "marker": {
             "line": {
              "color": "#E5ECF6",
              "width": 0.5
             }
            },
            "type": "barpolar"
           }
          ],
          "carpet": [
           {
            "aaxis": {
             "endlinecolor": "#2a3f5f",
             "gridcolor": "white",
             "linecolor": "white",
             "minorgridcolor": "white",
             "startlinecolor": "#2a3f5f"
            },
            "baxis": {
             "endlinecolor": "#2a3f5f",
             "gridcolor": "white",
             "linecolor": "white",
             "minorgridcolor": "white",
             "startlinecolor": "#2a3f5f"
            },
            "type": "carpet"
           }
          ],
          "choropleth": [
           {
            "colorbar": {
             "outlinewidth": 0,
             "ticks": ""
            },
            "type": "choropleth"
           }
          ],
          "contour": [
           {
            "colorbar": {
             "outlinewidth": 0,
             "ticks": ""
            },
            "colorscale": [
             [
              0,
              "#0d0887"
             ],
             [
              0.1111111111111111,
              "#46039f"
             ],
             [
              0.2222222222222222,
              "#7201a8"
             ],
             [
              0.3333333333333333,
              "#9c179e"
             ],
             [
              0.4444444444444444,
              "#bd3786"
             ],
             [
              0.5555555555555556,
              "#d8576b"
             ],
             [
              0.6666666666666666,
              "#ed7953"
             ],
             [
              0.7777777777777778,
              "#fb9f3a"
             ],
             [
              0.8888888888888888,
              "#fdca26"
             ],
             [
              1,
              "#f0f921"
             ]
            ],
            "type": "contour"
           }
          ],
          "contourcarpet": [
           {
            "colorbar": {
             "outlinewidth": 0,
             "ticks": ""
            },
            "type": "contourcarpet"
           }
          ],
          "heatmap": [
           {
            "colorbar": {
             "outlinewidth": 0,
             "ticks": ""
            },
            "colorscale": [
             [
              0,
              "#0d0887"
             ],
             [
              0.1111111111111111,
              "#46039f"
             ],
             [
              0.2222222222222222,
              "#7201a8"
             ],
             [
              0.3333333333333333,
              "#9c179e"
             ],
             [
              0.4444444444444444,
              "#bd3786"
             ],
             [
              0.5555555555555556,
              "#d8576b"
             ],
             [
              0.6666666666666666,
              "#ed7953"
             ],
             [
              0.7777777777777778,
              "#fb9f3a"
             ],
             [
              0.8888888888888888,
              "#fdca26"
             ],
             [
              1,
              "#f0f921"
             ]
            ],
            "type": "heatmap"
           }
          ],
          "heatmapgl": [
           {
            "colorbar": {
             "outlinewidth": 0,
             "ticks": ""
            },
            "colorscale": [
             [
              0,
              "#0d0887"
             ],
             [
              0.1111111111111111,
              "#46039f"
             ],
             [
              0.2222222222222222,
              "#7201a8"
             ],
             [
              0.3333333333333333,
              "#9c179e"
             ],
             [
              0.4444444444444444,
              "#bd3786"
             ],
             [
              0.5555555555555556,
              "#d8576b"
             ],
             [
              0.6666666666666666,
              "#ed7953"
             ],
             [
              0.7777777777777778,
              "#fb9f3a"
             ],
             [
              0.8888888888888888,
              "#fdca26"
             ],
             [
              1,
              "#f0f921"
             ]
            ],
            "type": "heatmapgl"
           }
          ],
          "histogram": [
           {
            "marker": {
             "colorbar": {
              "outlinewidth": 0,
              "ticks": ""
             }
            },
            "type": "histogram"
           }
          ],
          "histogram2d": [
           {
            "colorbar": {
             "outlinewidth": 0,
             "ticks": ""
            },
            "colorscale": [
             [
              0,
              "#0d0887"
             ],
             [
              0.1111111111111111,
              "#46039f"
             ],
             [
              0.2222222222222222,
              "#7201a8"
             ],
             [
              0.3333333333333333,
              "#9c179e"
             ],
             [
              0.4444444444444444,
              "#bd3786"
             ],
             [
              0.5555555555555556,
              "#d8576b"
             ],
             [
              0.6666666666666666,
              "#ed7953"
             ],
             [
              0.7777777777777778,
              "#fb9f3a"
             ],
             [
              0.8888888888888888,
              "#fdca26"
             ],
             [
              1,
              "#f0f921"
             ]
            ],
            "type": "histogram2d"
           }
          ],
          "histogram2dcontour": [
           {
            "colorbar": {
             "outlinewidth": 0,
             "ticks": ""
            },
            "colorscale": [
             [
              0,
              "#0d0887"
             ],
             [
              0.1111111111111111,
              "#46039f"
             ],
             [
              0.2222222222222222,
              "#7201a8"
             ],
             [
              0.3333333333333333,
              "#9c179e"
             ],
             [
              0.4444444444444444,
              "#bd3786"
             ],
             [
              0.5555555555555556,
              "#d8576b"
             ],
             [
              0.6666666666666666,
              "#ed7953"
             ],
             [
              0.7777777777777778,
              "#fb9f3a"
             ],
             [
              0.8888888888888888,
              "#fdca26"
             ],
             [
              1,
              "#f0f921"
             ]
            ],
            "type": "histogram2dcontour"
           }
          ],
          "mesh3d": [
           {
            "colorbar": {
             "outlinewidth": 0,
             "ticks": ""
            },
            "type": "mesh3d"
           }
          ],
          "parcoords": [
           {
            "line": {
             "colorbar": {
              "outlinewidth": 0,
              "ticks": ""
             }
            },
            "type": "parcoords"
           }
          ],
          "pie": [
           {
            "automargin": true,
            "type": "pie"
           }
          ],
          "scatter": [
           {
            "marker": {
             "colorbar": {
              "outlinewidth": 0,
              "ticks": ""
             }
            },
            "type": "scatter"
           }
          ],
          "scatter3d": [
           {
            "line": {
             "colorbar": {
              "outlinewidth": 0,
              "ticks": ""
             }
            },
            "marker": {
             "colorbar": {
              "outlinewidth": 0,
              "ticks": ""
             }
            },
            "type": "scatter3d"
           }
          ],
          "scattercarpet": [
           {
            "marker": {
             "colorbar": {
              "outlinewidth": 0,
              "ticks": ""
             }
            },
            "type": "scattercarpet"
           }
          ],
          "scattergeo": [
           {
            "marker": {
             "colorbar": {
              "outlinewidth": 0,
              "ticks": ""
             }
            },
            "type": "scattergeo"
           }
          ],
          "scattergl": [
           {
            "marker": {
             "colorbar": {
              "outlinewidth": 0,
              "ticks": ""
             }
            },
            "type": "scattergl"
           }
          ],
          "scattermapbox": [
           {
            "marker": {
             "colorbar": {
              "outlinewidth": 0,
              "ticks": ""
             }
            },
            "type": "scattermapbox"
           }
          ],
          "scatterpolar": [
           {
            "marker": {
             "colorbar": {
              "outlinewidth": 0,
              "ticks": ""
             }
            },
            "type": "scatterpolar"
           }
          ],
          "scatterpolargl": [
           {
            "marker": {
             "colorbar": {
              "outlinewidth": 0,
              "ticks": ""
             }
            },
            "type": "scatterpolargl"
           }
          ],
          "scatterternary": [
           {
            "marker": {
             "colorbar": {
              "outlinewidth": 0,
              "ticks": ""
             }
            },
            "type": "scatterternary"
           }
          ],
          "surface": [
           {
            "colorbar": {
             "outlinewidth": 0,
             "ticks": ""
            },
            "colorscale": [
             [
              0,
              "#0d0887"
             ],
             [
              0.1111111111111111,
              "#46039f"
             ],
             [
              0.2222222222222222,
              "#7201a8"
             ],
             [
              0.3333333333333333,
              "#9c179e"
             ],
             [
              0.4444444444444444,
              "#bd3786"
             ],
             [
              0.5555555555555556,
              "#d8576b"
             ],
             [
              0.6666666666666666,
              "#ed7953"
             ],
             [
              0.7777777777777778,
              "#fb9f3a"
             ],
             [
              0.8888888888888888,
              "#fdca26"
             ],
             [
              1,
              "#f0f921"
             ]
            ],
            "type": "surface"
           }
          ],
          "table": [
           {
            "cells": {
             "fill": {
              "color": "#EBF0F8"
             },
             "line": {
              "color": "white"
             }
            },
            "header": {
             "fill": {
              "color": "#C8D4E3"
             },
             "line": {
              "color": "white"
             }
            },
            "type": "table"
           }
          ]
         },
         "layout": {
          "annotationdefaults": {
           "arrowcolor": "#2a3f5f",
           "arrowhead": 0,
           "arrowwidth": 1
          },
          "coloraxis": {
           "colorbar": {
            "outlinewidth": 0,
            "ticks": ""
           }
          },
          "colorscale": {
           "diverging": [
            [
             0,
             "#8e0152"
            ],
            [
             0.1,
             "#c51b7d"
            ],
            [
             0.2,
             "#de77ae"
            ],
            [
             0.3,
             "#f1b6da"
            ],
            [
             0.4,
             "#fde0ef"
            ],
            [
             0.5,
             "#f7f7f7"
            ],
            [
             0.6,
             "#e6f5d0"
            ],
            [
             0.7,
             "#b8e186"
            ],
            [
             0.8,
             "#7fbc41"
            ],
            [
             0.9,
             "#4d9221"
            ],
            [
             1,
             "#276419"
            ]
           ],
           "sequential": [
            [
             0,
             "#0d0887"
            ],
            [
             0.1111111111111111,
             "#46039f"
            ],
            [
             0.2222222222222222,
             "#7201a8"
            ],
            [
             0.3333333333333333,
             "#9c179e"
            ],
            [
             0.4444444444444444,
             "#bd3786"
            ],
            [
             0.5555555555555556,
             "#d8576b"
            ],
            [
             0.6666666666666666,
             "#ed7953"
            ],
            [
             0.7777777777777778,
             "#fb9f3a"
            ],
            [
             0.8888888888888888,
             "#fdca26"
            ],
            [
             1,
             "#f0f921"
            ]
           ],
           "sequentialminus": [
            [
             0,
             "#0d0887"
            ],
            [
             0.1111111111111111,
             "#46039f"
            ],
            [
             0.2222222222222222,
             "#7201a8"
            ],
            [
             0.3333333333333333,
             "#9c179e"
            ],
            [
             0.4444444444444444,
             "#bd3786"
            ],
            [
             0.5555555555555556,
             "#d8576b"
            ],
            [
             0.6666666666666666,
             "#ed7953"
            ],
            [
             0.7777777777777778,
             "#fb9f3a"
            ],
            [
             0.8888888888888888,
             "#fdca26"
            ],
            [
             1,
             "#f0f921"
            ]
           ]
          },
          "colorway": [
           "#636efa",
           "#EF553B",
           "#00cc96",
           "#ab63fa",
           "#FFA15A",
           "#19d3f3",
           "#FF6692",
           "#B6E880",
           "#FF97FF",
           "#FECB52"
          ],
          "font": {
           "color": "#2a3f5f"
          },
          "geo": {
           "bgcolor": "white",
           "lakecolor": "white",
           "landcolor": "#E5ECF6",
           "showlakes": true,
           "showland": true,
           "subunitcolor": "white"
          },
          "hoverlabel": {
           "align": "left"
          },
          "hovermode": "closest",
          "mapbox": {
           "style": "light"
          },
          "paper_bgcolor": "white",
          "plot_bgcolor": "#E5ECF6",
          "polar": {
           "angularaxis": {
            "gridcolor": "white",
            "linecolor": "white",
            "ticks": ""
           },
           "bgcolor": "#E5ECF6",
           "radialaxis": {
            "gridcolor": "white",
            "linecolor": "white",
            "ticks": ""
           }
          },
          "scene": {
           "xaxis": {
            "backgroundcolor": "#E5ECF6",
            "gridcolor": "white",
            "gridwidth": 2,
            "linecolor": "white",
            "showbackground": true,
            "ticks": "",
            "zerolinecolor": "white"
           },
           "yaxis": {
            "backgroundcolor": "#E5ECF6",
            "gridcolor": "white",
            "gridwidth": 2,
            "linecolor": "white",
            "showbackground": true,
            "ticks": "",
            "zerolinecolor": "white"
           },
           "zaxis": {
            "backgroundcolor": "#E5ECF6",
            "gridcolor": "white",
            "gridwidth": 2,
            "linecolor": "white",
            "showbackground": true,
            "ticks": "",
            "zerolinecolor": "white"
           }
          },
          "shapedefaults": {
           "line": {
            "color": "#2a3f5f"
           }
          },
          "ternary": {
           "aaxis": {
            "gridcolor": "white",
            "linecolor": "white",
            "ticks": ""
           },
           "baxis": {
            "gridcolor": "white",
            "linecolor": "white",
            "ticks": ""
           },
           "bgcolor": "#E5ECF6",
           "caxis": {
            "gridcolor": "white",
            "linecolor": "white",
            "ticks": ""
           }
          },
          "title": {
           "x": 0.05
          },
          "xaxis": {
           "automargin": true,
           "gridcolor": "white",
           "linecolor": "white",
           "ticks": "",
           "title": {
            "standoff": 15
           },
           "zerolinecolor": "white",
           "zerolinewidth": 2
          },
          "yaxis": {
           "automargin": true,
           "gridcolor": "white",
           "linecolor": "white",
           "ticks": "",
           "title": {
            "standoff": 15
           },
           "zerolinecolor": "white",
           "zerolinewidth": 2
          }
         }
        },
        "title": {
         "text": "Dead vs. Alive All Characters"
        }
       }
      }
     },
     "metadata": {}
    }
   ],
   "source": [
    "# Alive and Dead Pie Charts\n",
    "\n",
    "dead_alive_dict = {1:\"Alive\", 0:\"Dead\"}\n",
    "\n",
    "# Mapping\n",
    "\n",
    "got_deaths_df[\"isAlive_str\"] = got_deaths_df[\"isAlive\"].map(dead_alive_dict)\n",
    "\n",
    "# Pie Chart \n",
    "\n",
    "fig = px.pie(got_deaths_df, names=\"isAlive_str\", title=\"Dead vs. Alive All Characters\")\n",
    "fig.update_traces(textposition='inside', textinfo='percent+label')\n",
    "fig.show()"
   ]
  },
  {
   "cell_type": "code",
   "execution_count": 29,
   "metadata": {},
   "outputs": [],
   "source": [
    "# 75% of chracters are alive"
   ]
  },
  {
   "cell_type": "code",
   "execution_count": 38,
   "metadata": {},
   "outputs": [
    {
     "output_type": "display_data",
     "data": {
      "text/plain": "<Figure size 576x396 with 1 Axes>",
      "image/svg+xml": "<?xml version=\"1.0\" encoding=\"utf-8\" standalone=\"no\"?>\n<!DOCTYPE svg PUBLIC \"-//W3C//DTD SVG 1.1//EN\"\n  \"http://www.w3.org/Graphics/SVG/1.1/DTD/svg11.dtd\">\n<!-- Created with matplotlib (https://matplotlib.org/) -->\n<svg height=\"347.214062pt\" version=\"1.1\" viewBox=\"0 0 507.603594 347.214062\" width=\"507.603594pt\" xmlns=\"http://www.w3.org/2000/svg\" xmlns:xlink=\"http://www.w3.org/1999/xlink\">\n <defs>\n  <style type=\"text/css\">\n*{stroke-linecap:butt;stroke-linejoin:round;}\n  </style>\n </defs>\n <g id=\"figure_1\">\n  <g id=\"patch_1\">\n   <path d=\"M 0 347.214062 \nL 507.603594 347.214062 \nL 507.603594 0 \nL 0 0 \nz\n\" style=\"fill:#ffffff;\"/>\n  </g>\n  <g id=\"axes_1\">\n   <g id=\"patch_2\">\n    <path d=\"M 54.003594 306.18 \nL 500.403594 306.18 \nL 500.403594 7.2 \nL 54.003594 7.2 \nz\n\" style=\"fill:#ffffff;\"/>\n   </g>\n   <g id=\"matplotlib.axis_1\">\n    <g id=\"xtick_1\">\n     <g id=\"text_1\">\n      <!-- Male -->\n      <defs>\n       <path d=\"M 7.421875 0 \nL 7.421875 71.578125 \nL 21.6875 71.578125 \nL 38.625 20.90625 \nQ 40.96875 13.8125 42.046875 10.296875 \nQ 43.265625 14.203125 45.84375 21.78125 \nL 62.984375 71.578125 \nL 75.734375 71.578125 \nL 75.734375 0 \nL 66.609375 0 \nL 66.609375 59.90625 \nL 45.796875 0 \nL 37.25 0 \nL 16.546875 60.9375 \nL 16.546875 0 \nz\n\" id=\"ArialMT-77\"/>\n       <path d=\"M 40.4375 6.390625 \nQ 35.546875 2.25 31.03125 0.53125 \nQ 26.515625 -1.171875 21.34375 -1.171875 \nQ 12.796875 -1.171875 8.203125 3 \nQ 3.609375 7.171875 3.609375 13.671875 \nQ 3.609375 17.484375 5.34375 20.625 \nQ 7.078125 23.78125 9.890625 25.6875 \nQ 12.703125 27.59375 16.21875 28.5625 \nQ 18.796875 29.25 24.03125 29.890625 \nQ 34.671875 31.15625 39.703125 32.90625 \nQ 39.75 34.71875 39.75 35.203125 \nQ 39.75 40.578125 37.25 42.78125 \nQ 33.890625 45.75 27.25 45.75 \nQ 21.046875 45.75 18.09375 43.578125 \nQ 15.140625 41.40625 13.71875 35.890625 \nL 5.125 37.0625 \nQ 6.296875 42.578125 8.984375 45.96875 \nQ 11.671875 49.359375 16.75 51.1875 \nQ 21.828125 53.03125 28.515625 53.03125 \nQ 35.15625 53.03125 39.296875 51.46875 \nQ 43.453125 49.90625 45.40625 47.53125 \nQ 47.359375 45.171875 48.140625 41.546875 \nQ 48.578125 39.3125 48.578125 33.453125 \nL 48.578125 21.734375 \nQ 48.578125 9.46875 49.140625 6.21875 \nQ 49.703125 2.984375 51.375 0 \nL 42.1875 0 \nQ 40.828125 2.734375 40.4375 6.390625 \nz\nM 39.703125 26.03125 \nQ 34.90625 24.078125 25.34375 22.703125 \nQ 19.921875 21.921875 17.671875 20.9375 \nQ 15.4375 19.96875 14.203125 18.09375 \nQ 12.984375 16.21875 12.984375 13.921875 \nQ 12.984375 10.40625 15.640625 8.0625 \nQ 18.3125 5.71875 23.4375 5.71875 \nQ 28.515625 5.71875 32.46875 7.9375 \nQ 36.421875 10.15625 38.28125 14.015625 \nQ 39.703125 17 39.703125 22.796875 \nz\n\" id=\"ArialMT-97\"/>\n       <path d=\"M 6.390625 0 \nL 6.390625 71.578125 \nL 15.1875 71.578125 \nL 15.1875 0 \nz\n\" id=\"ArialMT-108\"/>\n       <path d=\"M 42.09375 16.703125 \nL 51.171875 15.578125 \nQ 49.03125 7.625 43.21875 3.21875 \nQ 37.40625 -1.171875 28.375 -1.171875 \nQ 17 -1.171875 10.328125 5.828125 \nQ 3.65625 12.84375 3.65625 25.484375 \nQ 3.65625 38.578125 10.390625 45.796875 \nQ 17.140625 53.03125 27.875 53.03125 \nQ 38.28125 53.03125 44.875 45.953125 \nQ 51.46875 38.875 51.46875 26.03125 \nQ 51.46875 25.25 51.421875 23.6875 \nL 12.75 23.6875 \nQ 13.234375 15.140625 17.578125 10.59375 \nQ 21.921875 6.0625 28.421875 6.0625 \nQ 33.25 6.0625 36.671875 8.59375 \nQ 40.09375 11.140625 42.09375 16.703125 \nz\nM 13.234375 30.90625 \nL 42.1875 30.90625 \nQ 41.609375 37.453125 38.875 40.71875 \nQ 34.671875 45.796875 27.984375 45.796875 \nQ 21.921875 45.796875 17.796875 41.75 \nQ 13.671875 37.703125 13.234375 30.90625 \nz\n\" id=\"ArialMT-101\"/>\n      </defs>\n      <g style=\"fill:#262626;\" transform=\"translate(154.766875 323.837812)scale(0.1 -0.1)\">\n       <use xlink:href=\"#ArialMT-77\"/>\n       <use x=\"83.300781\" xlink:href=\"#ArialMT-97\"/>\n       <use x=\"138.916016\" xlink:href=\"#ArialMT-108\"/>\n       <use x=\"161.132812\" xlink:href=\"#ArialMT-101\"/>\n      </g>\n     </g>\n    </g>\n    <g id=\"xtick_2\">\n     <g id=\"text_2\">\n      <!-- Female -->\n      <defs>\n       <path d=\"M 8.203125 0 \nL 8.203125 71.578125 \nL 56.5 71.578125 \nL 56.5 63.140625 \nL 17.671875 63.140625 \nL 17.671875 40.96875 \nL 51.265625 40.96875 \nL 51.265625 32.515625 \nL 17.671875 32.515625 \nL 17.671875 0 \nz\n\" id=\"ArialMT-70\"/>\n       <path d=\"M 6.59375 0 \nL 6.59375 51.859375 \nL 14.453125 51.859375 \nL 14.453125 44.578125 \nQ 16.890625 48.390625 20.9375 50.703125 \nQ 25 53.03125 30.171875 53.03125 \nQ 35.9375 53.03125 39.625 50.640625 \nQ 43.3125 48.25 44.828125 43.953125 \nQ 50.984375 53.03125 60.84375 53.03125 \nQ 68.5625 53.03125 72.703125 48.75 \nQ 76.859375 44.484375 76.859375 35.59375 \nL 76.859375 0 \nL 68.109375 0 \nL 68.109375 32.671875 \nQ 68.109375 37.9375 67.25 40.25 \nQ 66.40625 42.578125 64.15625 43.984375 \nQ 61.921875 45.40625 58.890625 45.40625 \nQ 53.421875 45.40625 49.796875 41.765625 \nQ 46.1875 38.140625 46.1875 30.125 \nL 46.1875 0 \nL 37.40625 0 \nL 37.40625 33.6875 \nQ 37.40625 39.546875 35.25 42.46875 \nQ 33.109375 45.40625 28.21875 45.40625 \nQ 24.515625 45.40625 21.359375 43.453125 \nQ 18.21875 41.5 16.796875 37.734375 \nQ 15.375 33.984375 15.375 26.90625 \nL 15.375 0 \nz\n\" id=\"ArialMT-109\"/>\n      </defs>\n      <g style=\"fill:#262626;\" transform=\"translate(372.1325 323.837812)scale(0.1 -0.1)\">\n       <use xlink:href=\"#ArialMT-70\"/>\n       <use x=\"61.083984\" xlink:href=\"#ArialMT-101\"/>\n       <use x=\"116.699219\" xlink:href=\"#ArialMT-109\"/>\n       <use x=\"200\" xlink:href=\"#ArialMT-97\"/>\n       <use x=\"255.615234\" xlink:href=\"#ArialMT-108\"/>\n       <use x=\"277.832031\" xlink:href=\"#ArialMT-101\"/>\n      </g>\n     </g>\n    </g>\n    <g id=\"text_3\">\n     <!-- gender_dict -->\n     <defs>\n      <path d=\"M 4.984375 -4.296875 \nL 13.53125 -5.5625 \nQ 14.0625 -9.515625 16.5 -11.328125 \nQ 19.78125 -13.765625 25.4375 -13.765625 \nQ 31.546875 -13.765625 34.859375 -11.328125 \nQ 38.1875 -8.890625 39.359375 -4.5 \nQ 40.046875 -1.8125 39.984375 6.78125 \nQ 34.234375 0 25.640625 0 \nQ 14.9375 0 9.078125 7.71875 \nQ 3.21875 15.4375 3.21875 26.21875 \nQ 3.21875 33.640625 5.90625 39.90625 \nQ 8.59375 46.1875 13.6875 49.609375 \nQ 18.796875 53.03125 25.6875 53.03125 \nQ 34.859375 53.03125 40.828125 45.609375 \nL 40.828125 51.859375 \nL 48.921875 51.859375 \nL 48.921875 7.03125 \nQ 48.921875 -5.078125 46.453125 -10.125 \nQ 44 -15.1875 38.640625 -18.109375 \nQ 33.296875 -21.046875 25.484375 -21.046875 \nQ 16.21875 -21.046875 10.5 -16.875 \nQ 4.78125 -12.703125 4.984375 -4.296875 \nz\nM 12.25 26.859375 \nQ 12.25 16.65625 16.296875 11.96875 \nQ 20.359375 7.28125 26.46875 7.28125 \nQ 32.515625 7.28125 36.609375 11.9375 \nQ 40.71875 16.609375 40.71875 26.5625 \nQ 40.71875 36.078125 36.5 40.90625 \nQ 32.28125 45.75 26.3125 45.75 \nQ 20.453125 45.75 16.34375 40.984375 \nQ 12.25 36.234375 12.25 26.859375 \nz\n\" id=\"ArialMT-103\"/>\n      <path d=\"M 6.59375 0 \nL 6.59375 51.859375 \nL 14.5 51.859375 \nL 14.5 44.484375 \nQ 20.21875 53.03125 31 53.03125 \nQ 35.6875 53.03125 39.625 51.34375 \nQ 43.5625 49.65625 45.515625 46.921875 \nQ 47.46875 44.1875 48.25 40.4375 \nQ 48.734375 37.984375 48.734375 31.890625 \nL 48.734375 0 \nL 39.9375 0 \nL 39.9375 31.546875 \nQ 39.9375 36.921875 38.90625 39.578125 \nQ 37.890625 42.234375 35.28125 43.8125 \nQ 32.671875 45.40625 29.15625 45.40625 \nQ 23.53125 45.40625 19.453125 41.84375 \nQ 15.375 38.28125 15.375 28.328125 \nL 15.375 0 \nz\n\" id=\"ArialMT-110\"/>\n      <path d=\"M 40.234375 0 \nL 40.234375 6.546875 \nQ 35.296875 -1.171875 25.734375 -1.171875 \nQ 19.53125 -1.171875 14.328125 2.25 \nQ 9.125 5.671875 6.265625 11.796875 \nQ 3.421875 17.921875 3.421875 25.875 \nQ 3.421875 33.640625 6 39.96875 \nQ 8.59375 46.296875 13.765625 49.65625 \nQ 18.953125 53.03125 25.34375 53.03125 \nQ 30.03125 53.03125 33.6875 51.046875 \nQ 37.359375 49.078125 39.65625 45.90625 \nL 39.65625 71.578125 \nL 48.390625 71.578125 \nL 48.390625 0 \nz\nM 12.453125 25.875 \nQ 12.453125 15.921875 16.640625 10.984375 \nQ 20.84375 6.0625 26.5625 6.0625 \nQ 32.328125 6.0625 36.34375 10.765625 \nQ 40.375 15.484375 40.375 25.140625 \nQ 40.375 35.796875 36.265625 40.765625 \nQ 32.171875 45.75 26.171875 45.75 \nQ 20.3125 45.75 16.375 40.96875 \nQ 12.453125 36.1875 12.453125 25.875 \nz\n\" id=\"ArialMT-100\"/>\n      <path d=\"M 6.5 0 \nL 6.5 51.859375 \nL 14.40625 51.859375 \nL 14.40625 44 \nQ 17.4375 49.515625 20 51.265625 \nQ 22.5625 53.03125 25.640625 53.03125 \nQ 30.078125 53.03125 34.671875 50.203125 \nL 31.640625 42.046875 \nQ 28.421875 43.953125 25.203125 43.953125 \nQ 22.3125 43.953125 20.015625 42.21875 \nQ 17.71875 40.484375 16.75 37.40625 \nQ 15.28125 32.71875 15.28125 27.15625 \nL 15.28125 0 \nz\n\" id=\"ArialMT-114\"/>\n      <path d=\"M -1.515625 -19.875 \nL -1.515625 -13.53125 \nL 56.734375 -13.53125 \nL 56.734375 -19.875 \nz\n\" id=\"ArialMT-95\"/>\n      <path d=\"M 6.640625 61.46875 \nL 6.640625 71.578125 \nL 15.4375 71.578125 \nL 15.4375 61.46875 \nz\nM 6.640625 0 \nL 6.640625 51.859375 \nL 15.4375 51.859375 \nL 15.4375 0 \nz\n\" id=\"ArialMT-105\"/>\n      <path d=\"M 40.4375 19 \nL 49.078125 17.875 \nQ 47.65625 8.9375 41.8125 3.875 \nQ 35.984375 -1.171875 27.484375 -1.171875 \nQ 16.84375 -1.171875 10.375 5.78125 \nQ 3.90625 12.75 3.90625 25.734375 \nQ 3.90625 34.125 6.6875 40.421875 \nQ 9.46875 46.734375 15.15625 49.875 \nQ 20.84375 53.03125 27.546875 53.03125 \nQ 35.984375 53.03125 41.359375 48.75 \nQ 46.734375 44.484375 48.25 36.625 \nL 39.703125 35.296875 \nQ 38.484375 40.53125 35.375 43.15625 \nQ 32.28125 45.796875 27.875 45.796875 \nQ 21.234375 45.796875 17.078125 41.03125 \nQ 12.9375 36.28125 12.9375 25.984375 \nQ 12.9375 15.53125 16.9375 10.796875 \nQ 20.953125 6.0625 27.390625 6.0625 \nQ 32.5625 6.0625 36.03125 9.234375 \nQ 39.5 12.40625 40.4375 19 \nz\n\" id=\"ArialMT-99\"/>\n      <path d=\"M 25.78125 7.859375 \nL 27.046875 0.09375 \nQ 23.34375 -0.6875 20.40625 -0.6875 \nQ 15.625 -0.6875 12.984375 0.828125 \nQ 10.359375 2.34375 9.28125 4.8125 \nQ 8.203125 7.28125 8.203125 15.1875 \nL 8.203125 45.015625 \nL 1.765625 45.015625 \nL 1.765625 51.859375 \nL 8.203125 51.859375 \nL 8.203125 64.703125 \nL 16.9375 69.96875 \nL 16.9375 51.859375 \nL 25.78125 51.859375 \nL 25.78125 45.015625 \nL 16.9375 45.015625 \nL 16.9375 14.703125 \nQ 16.9375 10.9375 17.40625 9.859375 \nQ 17.875 8.796875 18.921875 8.15625 \nQ 19.96875 7.515625 21.921875 7.515625 \nQ 23.390625 7.515625 25.78125 7.859375 \nz\n\" id=\"ArialMT-116\"/>\n     </defs>\n     <g style=\"fill:#262626;\" transform=\"translate(248.462656 337.698906)scale(0.11 -0.11)\">\n      <use xlink:href=\"#ArialMT-103\"/>\n      <use x=\"55.615234\" xlink:href=\"#ArialMT-101\"/>\n      <use x=\"111.230469\" xlink:href=\"#ArialMT-110\"/>\n      <use x=\"166.845703\" xlink:href=\"#ArialMT-100\"/>\n      <use x=\"222.460938\" xlink:href=\"#ArialMT-101\"/>\n      <use x=\"278.076172\" xlink:href=\"#ArialMT-114\"/>\n      <use x=\"311.376953\" xlink:href=\"#ArialMT-95\"/>\n      <use x=\"366.992188\" xlink:href=\"#ArialMT-100\"/>\n      <use x=\"422.607422\" xlink:href=\"#ArialMT-105\"/>\n      <use x=\"444.824219\" xlink:href=\"#ArialMT-99\"/>\n      <use x=\"494.824219\" xlink:href=\"#ArialMT-116\"/>\n     </g>\n    </g>\n   </g>\n   <g id=\"matplotlib.axis_2\">\n    <g id=\"ytick_1\">\n     <g id=\"text_4\">\n      <!-- 0 -->\n      <defs>\n       <path d=\"M 4.15625 35.296875 \nQ 4.15625 48 6.765625 55.734375 \nQ 9.375 63.484375 14.515625 67.671875 \nQ 19.671875 71.875 27.484375 71.875 \nQ 33.25 71.875 37.59375 69.546875 \nQ 41.9375 67.234375 44.765625 62.859375 \nQ 47.609375 58.5 49.21875 52.21875 \nQ 50.828125 45.953125 50.828125 35.296875 \nQ 50.828125 22.703125 48.234375 14.96875 \nQ 45.65625 7.234375 40.5 3 \nQ 35.359375 -1.21875 27.484375 -1.21875 \nQ 17.140625 -1.21875 11.234375 6.203125 \nQ 4.15625 15.140625 4.15625 35.296875 \nz\nM 13.1875 35.296875 \nQ 13.1875 17.671875 17.3125 11.828125 \nQ 21.4375 6 27.484375 6 \nQ 33.546875 6 37.671875 11.859375 \nQ 41.796875 17.71875 41.796875 35.296875 \nQ 41.796875 52.984375 37.671875 58.78125 \nQ 33.546875 64.59375 27.390625 64.59375 \nQ 21.34375 64.59375 17.71875 59.46875 \nQ 13.1875 52.9375 13.1875 35.296875 \nz\n\" id=\"ArialMT-48\"/>\n      </defs>\n      <g style=\"fill:#262626;\" transform=\"translate(37.942656 309.758906)scale(0.1 -0.1)\">\n       <use xlink:href=\"#ArialMT-48\"/>\n      </g>\n     </g>\n    </g>\n    <g id=\"ytick_2\">\n     <g id=\"text_5\">\n      <!-- 200 -->\n      <defs>\n       <path d=\"M 50.34375 8.453125 \nL 50.34375 0 \nL 3.03125 0 \nQ 2.9375 3.171875 4.046875 6.109375 \nQ 5.859375 10.9375 9.828125 15.625 \nQ 13.8125 20.3125 21.34375 26.46875 \nQ 33.015625 36.03125 37.109375 41.625 \nQ 41.21875 47.21875 41.21875 52.203125 \nQ 41.21875 57.421875 37.46875 61 \nQ 33.734375 64.59375 27.734375 64.59375 \nQ 21.390625 64.59375 17.578125 60.78125 \nQ 13.765625 56.984375 13.71875 50.25 \nL 4.6875 51.171875 \nQ 5.609375 61.28125 11.65625 66.578125 \nQ 17.71875 71.875 27.9375 71.875 \nQ 38.234375 71.875 44.234375 66.15625 \nQ 50.25 60.453125 50.25 52 \nQ 50.25 47.703125 48.484375 43.546875 \nQ 46.734375 39.40625 42.65625 34.8125 \nQ 38.578125 30.21875 29.109375 22.21875 \nQ 21.1875 15.578125 18.9375 13.203125 \nQ 16.703125 10.84375 15.234375 8.453125 \nz\n\" id=\"ArialMT-50\"/>\n      </defs>\n      <g style=\"fill:#262626;\" transform=\"translate(26.820781 262.498681)scale(0.1 -0.1)\">\n       <use xlink:href=\"#ArialMT-50\"/>\n       <use x=\"55.615234\" xlink:href=\"#ArialMT-48\"/>\n       <use x=\"111.230469\" xlink:href=\"#ArialMT-48\"/>\n      </g>\n     </g>\n    </g>\n    <g id=\"ytick_3\">\n     <g id=\"text_6\">\n      <!-- 400 -->\n      <defs>\n       <path d=\"M 32.328125 0 \nL 32.328125 17.140625 \nL 1.265625 17.140625 \nL 1.265625 25.203125 \nL 33.9375 71.578125 \nL 41.109375 71.578125 \nL 41.109375 25.203125 \nL 50.78125 25.203125 \nL 50.78125 17.140625 \nL 41.109375 17.140625 \nL 41.109375 0 \nz\nM 32.328125 25.203125 \nL 32.328125 57.46875 \nL 9.90625 25.203125 \nz\n\" id=\"ArialMT-52\"/>\n      </defs>\n      <g style=\"fill:#262626;\" transform=\"translate(26.820781 215.238456)scale(0.1 -0.1)\">\n       <use xlink:href=\"#ArialMT-52\"/>\n       <use x=\"55.615234\" xlink:href=\"#ArialMT-48\"/>\n       <use x=\"111.230469\" xlink:href=\"#ArialMT-48\"/>\n      </g>\n     </g>\n    </g>\n    <g id=\"ytick_4\">\n     <g id=\"text_7\">\n      <!-- 600 -->\n      <defs>\n       <path d=\"M 49.75 54.046875 \nL 41.015625 53.375 \nQ 39.84375 58.546875 37.703125 60.890625 \nQ 34.125 64.65625 28.90625 64.65625 \nQ 24.703125 64.65625 21.53125 62.3125 \nQ 17.390625 59.28125 14.984375 53.46875 \nQ 12.59375 47.65625 12.5 36.921875 \nQ 15.671875 41.75 20.265625 44.09375 \nQ 24.859375 46.4375 29.890625 46.4375 \nQ 38.671875 46.4375 44.84375 39.96875 \nQ 51.03125 33.5 51.03125 23.25 \nQ 51.03125 16.5 48.125 10.71875 \nQ 45.21875 4.9375 40.140625 1.859375 \nQ 35.0625 -1.21875 28.609375 -1.21875 \nQ 17.625 -1.21875 10.6875 6.859375 \nQ 3.765625 14.9375 3.765625 33.5 \nQ 3.765625 54.25 11.421875 63.671875 \nQ 18.109375 71.875 29.4375 71.875 \nQ 37.890625 71.875 43.28125 67.140625 \nQ 48.6875 62.40625 49.75 54.046875 \nz\nM 13.875 23.1875 \nQ 13.875 18.65625 15.796875 14.5 \nQ 17.71875 10.359375 21.1875 8.171875 \nQ 24.65625 6 28.46875 6 \nQ 34.03125 6 38.03125 10.484375 \nQ 42.046875 14.984375 42.046875 22.703125 \nQ 42.046875 30.125 38.078125 34.390625 \nQ 34.125 38.671875 28.125 38.671875 \nQ 22.171875 38.671875 18.015625 34.390625 \nQ 13.875 30.125 13.875 23.1875 \nz\n\" id=\"ArialMT-54\"/>\n      </defs>\n      <g style=\"fill:#262626;\" transform=\"translate(26.820781 167.97823)scale(0.1 -0.1)\">\n       <use xlink:href=\"#ArialMT-54\"/>\n       <use x=\"55.615234\" xlink:href=\"#ArialMT-48\"/>\n       <use x=\"111.230469\" xlink:href=\"#ArialMT-48\"/>\n      </g>\n     </g>\n    </g>\n    <g id=\"ytick_5\">\n     <g id=\"text_8\">\n      <!-- 800 -->\n      <defs>\n       <path d=\"M 17.671875 38.8125 \nQ 12.203125 40.828125 9.5625 44.53125 \nQ 6.9375 48.25 6.9375 53.421875 \nQ 6.9375 61.234375 12.546875 66.546875 \nQ 18.171875 71.875 27.484375 71.875 \nQ 36.859375 71.875 42.578125 66.421875 \nQ 48.296875 60.984375 48.296875 53.171875 \nQ 48.296875 48.1875 45.671875 44.5 \nQ 43.0625 40.828125 37.75 38.8125 \nQ 44.34375 36.671875 47.78125 31.875 \nQ 51.21875 27.09375 51.21875 20.453125 \nQ 51.21875 11.28125 44.71875 5.03125 \nQ 38.234375 -1.21875 27.640625 -1.21875 \nQ 17.046875 -1.21875 10.546875 5.046875 \nQ 4.046875 11.328125 4.046875 20.703125 \nQ 4.046875 27.6875 7.59375 32.390625 \nQ 11.140625 37.109375 17.671875 38.8125 \nz\nM 15.921875 53.71875 \nQ 15.921875 48.640625 19.1875 45.40625 \nQ 22.46875 42.1875 27.6875 42.1875 \nQ 32.765625 42.1875 36.015625 45.375 \nQ 39.265625 48.578125 39.265625 53.21875 \nQ 39.265625 58.0625 35.90625 61.359375 \nQ 32.5625 64.65625 27.59375 64.65625 \nQ 22.5625 64.65625 19.234375 61.421875 \nQ 15.921875 58.203125 15.921875 53.71875 \nz\nM 13.09375 20.65625 \nQ 13.09375 16.890625 14.875 13.375 \nQ 16.65625 9.859375 20.171875 7.921875 \nQ 23.6875 6 27.734375 6 \nQ 34.03125 6 38.125 10.046875 \nQ 42.234375 14.109375 42.234375 20.359375 \nQ 42.234375 26.703125 38.015625 30.859375 \nQ 33.796875 35.015625 27.4375 35.015625 \nQ 21.234375 35.015625 17.15625 30.90625 \nQ 13.09375 26.8125 13.09375 20.65625 \nz\n\" id=\"ArialMT-56\"/>\n      </defs>\n      <g style=\"fill:#262626;\" transform=\"translate(26.820781 120.718005)scale(0.1 -0.1)\">\n       <use xlink:href=\"#ArialMT-56\"/>\n       <use x=\"55.615234\" xlink:href=\"#ArialMT-48\"/>\n       <use x=\"111.230469\" xlink:href=\"#ArialMT-48\"/>\n      </g>\n     </g>\n    </g>\n    <g id=\"ytick_6\">\n     <g id=\"text_9\">\n      <!-- 1000 -->\n      <defs>\n       <path d=\"M 37.25 0 \nL 28.46875 0 \nL 28.46875 56 \nQ 25.296875 52.984375 20.140625 49.953125 \nQ 14.984375 46.921875 10.890625 45.40625 \nL 10.890625 53.90625 \nQ 18.265625 57.375 23.78125 62.296875 \nQ 29.296875 67.234375 31.59375 71.875 \nL 37.25 71.875 \nz\n\" id=\"ArialMT-49\"/>\n      </defs>\n      <g style=\"fill:#262626;\" transform=\"translate(21.259844 73.45778)scale(0.1 -0.1)\">\n       <use xlink:href=\"#ArialMT-49\"/>\n       <use x=\"55.615234\" xlink:href=\"#ArialMT-48\"/>\n       <use x=\"111.230469\" xlink:href=\"#ArialMT-48\"/>\n       <use x=\"166.845703\" xlink:href=\"#ArialMT-48\"/>\n      </g>\n     </g>\n    </g>\n    <g id=\"ytick_7\">\n     <g id=\"text_10\">\n      <!-- 1200 -->\n      <g style=\"fill:#262626;\" transform=\"translate(21.259844 26.197555)scale(0.1 -0.1)\">\n       <use xlink:href=\"#ArialMT-49\"/>\n       <use x=\"55.615234\" xlink:href=\"#ArialMT-50\"/>\n       <use x=\"111.230469\" xlink:href=\"#ArialMT-48\"/>\n       <use x=\"166.845703\" xlink:href=\"#ArialMT-48\"/>\n      </g>\n     </g>\n    </g>\n    <g id=\"text_11\">\n     <!-- count -->\n     <defs>\n      <path d=\"M 3.328125 25.921875 \nQ 3.328125 40.328125 11.328125 47.265625 \nQ 18.015625 53.03125 27.640625 53.03125 \nQ 38.328125 53.03125 45.109375 46.015625 \nQ 51.90625 39.015625 51.90625 26.65625 \nQ 51.90625 16.65625 48.90625 10.90625 \nQ 45.90625 5.171875 40.15625 2 \nQ 34.421875 -1.171875 27.640625 -1.171875 \nQ 16.75 -1.171875 10.03125 5.8125 \nQ 3.328125 12.796875 3.328125 25.921875 \nz\nM 12.359375 25.921875 \nQ 12.359375 15.96875 16.703125 11.015625 \nQ 21.046875 6.0625 27.640625 6.0625 \nQ 34.1875 6.0625 38.53125 11.03125 \nQ 42.875 16.015625 42.875 26.21875 \nQ 42.875 35.84375 38.5 40.796875 \nQ 34.125 45.75 27.640625 45.75 \nQ 21.046875 45.75 16.703125 40.8125 \nQ 12.359375 35.890625 12.359375 25.921875 \nz\n\" id=\"ArialMT-111\"/>\n      <path d=\"M 40.578125 0 \nL 40.578125 7.625 \nQ 34.515625 -1.171875 24.125 -1.171875 \nQ 19.53125 -1.171875 15.546875 0.578125 \nQ 11.578125 2.34375 9.640625 5 \nQ 7.71875 7.671875 6.9375 11.53125 \nQ 6.390625 14.109375 6.390625 19.734375 \nL 6.390625 51.859375 \nL 15.1875 51.859375 \nL 15.1875 23.09375 \nQ 15.1875 16.21875 15.71875 13.8125 \nQ 16.546875 10.359375 19.234375 8.375 \nQ 21.921875 6.390625 25.875 6.390625 \nQ 29.828125 6.390625 33.296875 8.421875 \nQ 36.765625 10.453125 38.203125 13.9375 \nQ 39.65625 17.4375 39.65625 24.078125 \nL 39.65625 51.859375 \nL 48.4375 51.859375 \nL 48.4375 0 \nz\n\" id=\"ArialMT-117\"/>\n     </defs>\n     <g style=\"fill:#262626;\" transform=\"translate(15.073594 170.143516)rotate(-90)scale(0.11 -0.11)\">\n      <use xlink:href=\"#ArialMT-99\"/>\n      <use x=\"50\" xlink:href=\"#ArialMT-111\"/>\n      <use x=\"105.615234\" xlink:href=\"#ArialMT-117\"/>\n      <use x=\"161.230469\" xlink:href=\"#ArialMT-110\"/>\n      <use x=\"216.845703\" xlink:href=\"#ArialMT-116\"/>\n     </g>\n    </g>\n   </g>\n   <g id=\"patch_3\">\n    <path clip-path=\"url(#pf6c1a30723)\" d=\"M 76.323594 306.18 \nL 254.883594 306.18 \nL 254.883594 21.437143 \nL 76.323594 21.437143 \nz\n\" style=\"fill:#3274a1;stroke:#ffffff;stroke-linejoin:miter;stroke-width:0.3;\"/>\n   </g>\n   <g id=\"patch_4\">\n    <path clip-path=\"url(#pf6c1a30723)\" d=\"M 299.523594 306.18 \nL 478.083594 306.18 \nL 478.083594 131.080865 \nL 299.523594 131.080865 \nz\n\" style=\"fill:#e1812c;stroke:#ffffff;stroke-linejoin:miter;stroke-width:0.3;\"/>\n   </g>\n   <g id=\"patch_5\">\n    <path d=\"M 54.003594 306.18 \nL 54.003594 7.2 \n\" style=\"fill:none;\"/>\n   </g>\n   <g id=\"patch_6\">\n    <path d=\"M 500.403594 306.18 \nL 500.403594 7.2 \n\" style=\"fill:none;\"/>\n   </g>\n   <g id=\"patch_7\">\n    <path d=\"M 54.003594 306.18 \nL 500.403594 306.18 \n\" style=\"fill:none;\"/>\n   </g>\n   <g id=\"patch_8\">\n    <path d=\"M 54.003594 7.2 \nL 500.403594 7.2 \n\" style=\"fill:none;\"/>\n   </g>\n  </g>\n </g>\n <defs>\n  <clipPath id=\"pf6c1a30723\">\n   <rect height=\"298.98\" width=\"446.4\" x=\"54.003594\" y=\"7.2\"/>\n  </clipPath>\n </defs>\n</svg>\n",
      "image/png": "[encoded data removed]"
     },
     "metadata": {}
    }
   ],
   "source": [
    "# Gender Based Exploration\n",
    "\n",
    "gender_dict = {1:\"Male\", 0:\"Female\"}\n",
    "got_deaths_df[\"gender_dict\"] = got_deaths_df[\"male\"].map(gender_dict)\n",
    "ax = sb.countplot(x=\"gender_dict\", data=got_deaths_df)"
   ]
  },
  {
   "cell_type": "code",
   "execution_count": 39,
   "metadata": {},
   "outputs": [],
   "source": [
    "# 62% Male and 38% Female "
   ]
  },
  {
   "cell_type": "code",
   "execution_count": 44,
   "metadata": {},
   "outputs": [
    {
     "output_type": "display_data",
     "data": {
      "application/vnd.plotly.v1+json": {
       "config": {
        "plotlyServerURL": "https://plot.ly"
       },
       "data": [
        {
         "domain": {
          "x": [
           0,
           1
          ],
          "y": [
           0,
           1
          ]
         },
         "hoverlabel": {
          "namelength": 0
         },
         "hovertemplate": "gender_dict=%{label}",
         "labels": [
          "Male",
          "Female",
          "Male",
          "Male",
          "Male",
          "Male",
          "Female",
          "Male",
          "Female",
          "Female",
          "Male",
          "Male",
          "Male",
          "Male",
          "Male",
          "Female",
          "Male",
          "Female",
          "Male",
          "Male",
          "Male",
          "Male",
          "Male",
          "Female",
          "Female",
          "Female",
          "Female",
          "Female",
          "Female",
          "Male",
          "Male",
          "Male",
          "Male",
          "Female",
          "Male",
          "Male",
          "Male",
          "Female",
          "Female",
          "Male",
          "Female",
          "Female",
          "Female",
          "Male",
          "Male",
          "Male",
          "Female",
          "Male",
          "Female",
          "Male",
          "Male",
          "Female",
          "Male",
          "Female",
          "Male",
          "Male",
          "Male",
          "Female",
          "Male",
          "Male",
          "Male",
          "Male",
          "Male",
          "Male",
          "Female",
          "Male",
          "Male",
          "Male",
          "Male",
          "Male",
          "Male",
          "Male",
          "Male",
          "Male",
          "Female",
          "Male",
          "Female",
          "Male",
          "Male",
          "Male",
          "Male",
          "Female",
          "Female",
          "Male",
          "Male",
          "Male",
          "Female",
          "Male",
          "Male",
          "Female",
          "Male",
          "Female",
          "Male",
          "Female",
          "Male",
          "Male",
          "Male",
          "Male",
          "Female",
          "Male",
          "Male",
          "Female",
          "Female",
          "Male",
          "Male",
          "Male",
          "Male",
          "Male",
          "Female",
          "Female",
          "Male",
          "Male",
          "Female",
          "Male",
          "Male",
          "Male",
          "Male",
          "Male",
          "Male",
          "Female",
          "Female",
          "Male",
          "Male",
          "Male",
          "Female",
          "Female",
          "Female",
          "Male",
          "Female",
          "Female",
          "Female",
          "Male",
          "Female",
          "Male",
          "Male",
          "Female",
          "Female",
          "Male",
          "Female",
          "Male",
          "Male",
          "Male",
          "Female",
          "Male",
          "Female",
          "Male",
          "Female",
          "Female",
          "Male",
          "Male",
          "Male",
          "Male",
          "Male",
          "Female",
          "Male",
          "Female",
          "Male",
          "Female",
          "Male",
          "Male",
          "Male",
          "Male",
          "Female",
          "Male",
          "Male",
          "Male",
          "Male",
          "Female",
          "Male",
          "Female",
          "Male",
          "Male",
          "Male",
          "Male",
          "Female",
          "Male",
          "Male",
          "Male",
          "Male",
          "Female",
          "Female",
          "Male",
          "Male",
          "Male",
          "Male",
          "Male",
          "Female",
          "Male",
          "Male",
          "Male",
          "Male",
          "Male",
          "Male",
          "Male",
          "Female",
          "Male",
          "Male",
          "Male",
          "Female",
          "Male",
          "Male",
          "Male",
          "Female",
          "Female",
          "Female",
          "Male",
          "Female",
          "Male",
          "Male",
          "Male",
          "Male",
          "Female",
          "Male",
          "Female",
          "Male",
          "Male",
          "Male",
          "Male",
          "Male",
          "Male",
          "Male",
          "Male",
          "Female",
          "Male",
          "Male",
          "Female",
          "Male",
          "Male",
          "Male",
          "Male",
          "Male",
          "Male",
          "Male",
          "Male",
          "Male",
          "Male",
          "Male",
          "Male",
          "Male",
          "Female",
          "Male",
          "Male",
          "Male",
          "Male",
          "Male",
          "Male",
          "Male",
          "Male",
          "Female",
          "Male",
          "Female",
          "Male",
          "Male",
          "Male",
          "Male",
          "Male",
          "Male",
          "Male",
          "Male",
          "Male",
          "Male",
          "Male",
          "Male",
          "Male",
          "Male",
          "Male",
          "Male",
          "Male",
          "Female",
          "Female",
          "Male",
          "Female",
          "Female",
          "Male",
          "Male",
          "Male",
          "Male",
          "Male",
          "Male",
          "Male",
          "Male",
          "Female",
          "Male",
          "Female",
          "Female",
          "Male",
          "Male",
          "Male",
          "Male",
          "Female",
          "Male",
          "Female",
          "Male",
          "Male",
          "Male",
          "Male",
          "Male",
          "Male",
          "Male",
          "Male",
          "Male",
          "Male",
          "Female",
          "Female",
          "Male",
          "Male",
          "Male",
          "Male",
          "Male",
          "Male",
          "Male",
          "Male",
          "Male",
          "Male",
          "Male",
          "Male",
          "Female",
          "Male",
          "Male",
          "Male",
          "Male",
          "Male",
          "Female",
          "Male",
          "Male",
          "Male",
          "Male",
          "Female",
          "Male",
          "Male",
          "Male",
          "Male",
          "Female",
          "Male",
          "Male",
          "Male",
          "Male",
          "Male",
          "Male",
          "Male",
          "Male",
          "Male",
          "Female",
          "Male",
          "Female",
          "Female",
          "Male",
          "Male",
          "Female",
          "Male",
          "Male",
          "Male",
          "Male",
          "Male",
          "Male",
          "Male",
          "Male",
          "Male",
          "Male",
          "Male",
          "Male",
          "Male",
          "Male",
          "Male",
          "Male",
          "Male",
          "Male",
          "Male",
          "Male",
          "Male",
          "Male",
          "Male",
          "Male",
          "Male",
          "Male",
          "Male",
          "Female",
          "Male",
          "Male",
          "Male",
          "Male",
          "Female",
          "Female",
          "Male",
          "Male",
          "Male",
          "Male",
          "Male",
          "Male",
          "Male",
          "Male",
          "Male",
          "Male",
          "Male",
          "Female",
          "Male",
          "Male",
          "Female",
          "Male",
          "Male",
          "Male",
          "Female",
          "Male",
          "Male",
          "Female",
          "Female",
          "Male",
          "Male",
          "Male",
          "Female",
          "Female",
          "Male",
          "Male",
          "Male",
          "Male",
          "Male",
          "Male",
          "Male",
          "Male",
          "Male",
          "Male",
          "Male",
          "Female",
          "Female",
          "Male",
          "Female",
          "Female",
          "Male",
          "Female",
          "Male",
          "Male",
          "Male",
          "Male",
          "Male",
          "Male",
          "Male",
          "Female",
          "Male",
          "Male",
          "Female",
          "Male",
          "Male",
          "Male",
          "Male",
          "Female",
          "Female",
          "Male",
          "Male",
          "Male",
          "Male",
          "Female",
          "Male",
          "Male",
          "Female",
          "Male",
          "Male",
          "Male",
          "Male",
          "Male",
          "Male",
          "Male",
          "Male",
          "Male",
          "Female",
          "Male",
          "Male",
          "Male",
          "Female",
          "Male",
          "Male",
          "Male",
          "Female",
          "Male",
          "Female",
          "Male",
          "Female",
          "Female",
          "Male",
          "Male",
          "Male",
          "Male",
          "Male",
          "Female",
          "Male",
          "Male",
          "Male",
          "Female",
          "Male",
          "Female",
          "Female",
          "Male",
          "Female",
          "Male",
          "Male",
          "Male"
         ],
         "legendgroup": "",
         "name": "",
         "showlegend": true,
         "textinfo": "label+percent",
         "textposition": "inside",
         "type": "pie"
        }
       ],
       "layout": {
        "legend": {
         "tracegroupgap": 0
        },
        "template": {
         "data": {
          "bar": [
           {
            "error_x": {
             "color": "#2a3f5f"
            },
            "error_y": {
             "color": "#2a3f5f"
            },
            "marker": {
             "line": {
              "color": "#E5ECF6",
              "width": 0.5
             }
            },
            "type": "bar"
           }
          ],
          "barpolar": [
           {
            "marker": {
             "line": {
              "color": "#E5ECF6",
              "width": 0.5
             }
            },
            "type": "barpolar"
           }
          ],
          "carpet": [
           {
            "aaxis": {
             "endlinecolor": "#2a3f5f",
             "gridcolor": "white",
             "linecolor": "white",
             "minorgridcolor": "white",
             "startlinecolor": "#2a3f5f"
            },
            "baxis": {
             "endlinecolor": "#2a3f5f",
             "gridcolor": "white",
             "linecolor": "white",
             "minorgridcolor": "white",
             "startlinecolor": "#2a3f5f"
            },
            "type": "carpet"
           }
          ],
          "choropleth": [
           {
            "colorbar": {
             "outlinewidth": 0,
             "ticks": ""
            },
            "type": "choropleth"
           }
          ],
          "contour": [
           {
            "colorbar": {
             "outlinewidth": 0,
             "ticks": ""
            },
            "colorscale": [
             [
              0,
              "#0d0887"
             ],
             [
              0.1111111111111111,
              "#46039f"
             ],
             [
              0.2222222222222222,
              "#7201a8"
             ],
             [
              0.3333333333333333,
              "#9c179e"
             ],
             [
              0.4444444444444444,
              "#bd3786"
             ],
             [
              0.5555555555555556,
              "#d8576b"
             ],
             [
              0.6666666666666666,
              "#ed7953"
             ],
             [
              0.7777777777777778,
              "#fb9f3a"
             ],
             [
              0.8888888888888888,
              "#fdca26"
             ],
             [
              1,
              "#f0f921"
             ]
            ],
            "type": "contour"
           }
          ],
          "contourcarpet": [
           {
            "colorbar": {
             "outlinewidth": 0,
             "ticks": ""
            },
            "type": "contourcarpet"
           }
          ],
          "heatmap": [
           {
            "colorbar": {
             "outlinewidth": 0,
             "ticks": ""
            },
            "colorscale": [
             [
              0,
              "#0d0887"
             ],
             [
              0.1111111111111111,
              "#46039f"
             ],
             [
              0.2222222222222222,
              "#7201a8"
             ],
             [
              0.3333333333333333,
              "#9c179e"
             ],
             [
              0.4444444444444444,
              "#bd3786"
             ],
             [
              0.5555555555555556,
              "#d8576b"
             ],
             [
              0.6666666666666666,
              "#ed7953"
             ],
             [
              0.7777777777777778,
              "#fb9f3a"
             ],
             [
              0.8888888888888888,
              "#fdca26"
             ],
             [
              1,
              "#f0f921"
             ]
            ],
            "type": "heatmap"
           }
          ],
          "heatmapgl": [
           {
            "colorbar": {
             "outlinewidth": 0,
             "ticks": ""
            },
            "colorscale": [
             [
              0,
              "#0d0887"
             ],
             [
              0.1111111111111111,
              "#46039f"
             ],
             [
              0.2222222222222222,
              "#7201a8"
             ],
             [
              0.3333333333333333,
              "#9c179e"
             ],
             [
              0.4444444444444444,
              "#bd3786"
             ],
             [
              0.5555555555555556,
              "#d8576b"
             ],
             [
              0.6666666666666666,
              "#ed7953"
             ],
             [
              0.7777777777777778,
              "#fb9f3a"
             ],
             [
              0.8888888888888888,
              "#fdca26"
             ],
             [
              1,
              "#f0f921"
             ]
            ],
            "type": "heatmapgl"
           }
          ],
          "histogram": [
           {
            "marker": {
             "colorbar": {
              "outlinewidth": 0,
              "ticks": ""
             }
            },
            "type": "histogram"
           }
          ],
          "histogram2d": [
           {
            "colorbar": {
             "outlinewidth": 0,
             "ticks": ""
            },
            "colorscale": [
             [
              0,
              "#0d0887"
             ],
             [
              0.1111111111111111,
              "#46039f"
             ],
             [
              0.2222222222222222,
              "#7201a8"
             ],
             [
              0.3333333333333333,
              "#9c179e"
             ],
             [
              0.4444444444444444,
              "#bd3786"
             ],
             [
              0.5555555555555556,
              "#d8576b"
             ],
             [
              0.6666666666666666,
              "#ed7953"
             ],
             [
              0.7777777777777778,
              "#fb9f3a"
             ],
             [
              0.8888888888888888,
              "#fdca26"
             ],
             [
              1,
              "#f0f921"
             ]
            ],
            "type": "histogram2d"
           }
          ],
          "histogram2dcontour": [
           {
            "colorbar": {
             "outlinewidth": 0,
             "ticks": ""
            },
            "colorscale": [
             [
              0,
              "#0d0887"
             ],
             [
              0.1111111111111111,
              "#46039f"
             ],
             [
              0.2222222222222222,
              "#7201a8"
             ],
             [
              0.3333333333333333,
              "#9c179e"
             ],
             [
              0.4444444444444444,
              "#bd3786"
             ],
             [
              0.5555555555555556,
              "#d8576b"
             ],
             [
              0.6666666666666666,
              "#ed7953"
             ],
             [
              0.7777777777777778,
              "#fb9f3a"
             ],
             [
              0.8888888888888888,
              "#fdca26"
             ],
             [
              1,
              "#f0f921"
             ]
            ],
            "type": "histogram2dcontour"
           }
          ],
          "mesh3d": [
           {
            "colorbar": {
             "outlinewidth": 0,
             "ticks": ""
            },
            "type": "mesh3d"
           }
          ],
          "parcoords": [
           {
            "line": {
             "colorbar": {
              "outlinewidth": 0,
              "ticks": ""
             }
            },
            "type": "parcoords"
           }
          ],
          "pie": [
           {
            "automargin": true,
            "type": "pie"
           }
          ],
          "scatter": [
           {
            "marker": {
             "colorbar": {
              "outlinewidth": 0,
              "ticks": ""
             }
            },
            "type": "scatter"
           }
          ],
          "scatter3d": [
           {
            "line": {
             "colorbar": {
              "outlinewidth": 0,
              "ticks": ""
             }
            },
            "marker": {
             "colorbar": {
              "outlinewidth": 0,
              "ticks": ""
             }
            },
            "type": "scatter3d"
           }
          ],
          "scattercarpet": [
           {
            "marker": {
             "colorbar": {
              "outlinewidth": 0,
              "ticks": ""
             }
            },
            "type": "scattercarpet"
           }
          ],
          "scattergeo": [
           {
            "marker": {
             "colorbar": {
              "outlinewidth": 0,
              "ticks": ""
             }
            },
            "type": "scattergeo"
           }
          ],
          "scattergl": [
           {
            "marker": {
             "colorbar": {
              "outlinewidth": 0,
              "ticks": ""
             }
            },
            "type": "scattergl"
           }
          ],
          "scattermapbox": [
           {
            "marker": {
             "colorbar": {
              "outlinewidth": 0,
              "ticks": ""
             }
            },
            "type": "scattermapbox"
           }
          ],
          "scatterpolar": [
           {
            "marker": {
             "colorbar": {
              "outlinewidth": 0,
              "ticks": ""
             }
            },
            "type": "scatterpolar"
           }
          ],
          "scatterpolargl": [
           {
            "marker": {
             "colorbar": {
              "outlinewidth": 0,
              "ticks": ""
             }
            },
            "type": "scatterpolargl"
           }
          ],
          "scatterternary": [
           {
            "marker": {
             "colorbar": {
              "outlinewidth": 0,
              "ticks": ""
             }
            },
            "type": "scatterternary"
           }
          ],
          "surface": [
           {
            "colorbar": {
             "outlinewidth": 0,
             "ticks": ""
            },
            "colorscale": [
             [
              0,
              "#0d0887"
             ],
             [
              0.1111111111111111,
              "#46039f"
             ],
             [
              0.2222222222222222,
              "#7201a8"
             ],
             [
              0.3333333333333333,
              "#9c179e"
             ],
             [
              0.4444444444444444,
              "#bd3786"
             ],
             [
              0.5555555555555556,
              "#d8576b"
             ],
             [
              0.6666666666666666,
              "#ed7953"
             ],
             [
              0.7777777777777778,
              "#fb9f3a"
             ],
             [
              0.8888888888888888,
              "#fdca26"
             ],
             [
              1,
              "#f0f921"
             ]
            ],
            "type": "surface"
           }
          ],
          "table": [
           {
            "cells": {
             "fill": {
              "color": "#EBF0F8"
             },
             "line": {
              "color": "white"
             }
            },
            "header": {
             "fill": {
              "color": "#C8D4E3"
             },
             "line": {
              "color": "white"
             }
            },
            "type": "table"
           }
          ]
         },
         "layout": {
          "annotationdefaults": {
           "arrowcolor": "#2a3f5f",
           "arrowhead": 0,
           "arrowwidth": 1
          },
          "coloraxis": {
           "colorbar": {
            "outlinewidth": 0,
            "ticks": ""
           }
          },
          "colorscale": {
           "diverging": [
            [
             0,
             "#8e0152"
            ],
            [
             0.1,
             "#c51b7d"
            ],
            [
             0.2,
             "#de77ae"
            ],
            [
             0.3,
             "#f1b6da"
            ],
            [
             0.4,
             "#fde0ef"
            ],
            [
             0.5,
             "#f7f7f7"
            ],
            [
             0.6,
             "#e6f5d0"
            ],
            [
             0.7,
             "#b8e186"
            ],
            [
             0.8,
             "#7fbc41"
            ],
            [
             0.9,
             "#4d9221"
            ],
            [
             1,
             "#276419"
            ]
           ],
           "sequential": [
            [
             0,
             "#0d0887"
            ],
            [
             0.1111111111111111,
             "#46039f"
            ],
            [
             0.2222222222222222,
             "#7201a8"
            ],
            [
             0.3333333333333333,
             "#9c179e"
            ],
            [
             0.4444444444444444,
             "#bd3786"
            ],
            [
             0.5555555555555556,
             "#d8576b"
            ],
            [
             0.6666666666666666,
             "#ed7953"
            ],
            [
             0.7777777777777778,
             "#fb9f3a"
            ],
            [
             0.8888888888888888,
             "#fdca26"
            ],
            [
             1,
             "#f0f921"
            ]
           ],
           "sequentialminus": [
            [
             0,
             "#0d0887"
            ],
            [
             0.1111111111111111,
             "#46039f"
            ],
            [
             0.2222222222222222,
             "#7201a8"
            ],
            [
             0.3333333333333333,
             "#9c179e"
            ],
            [
             0.4444444444444444,
             "#bd3786"
            ],
            [
             0.5555555555555556,
             "#d8576b"
            ],
            [
             0.6666666666666666,
             "#ed7953"
            ],
            [
             0.7777777777777778,
             "#fb9f3a"
            ],
            [
             0.8888888888888888,
             "#fdca26"
            ],
            [
             1,
             "#f0f921"
            ]
           ]
          },
          "colorway": [
           "#636efa",
           "#EF553B",
           "#00cc96",
           "#ab63fa",
           "#FFA15A",
           "#19d3f3",
           "#FF6692",
           "#B6E880",
           "#FF97FF",
           "#FECB52"
          ],
          "font": {
           "color": "#2a3f5f"
          },
          "geo": {
           "bgcolor": "white",
           "lakecolor": "white",
           "landcolor": "#E5ECF6",
           "showlakes": true,
           "showland": true,
           "subunitcolor": "white"
          },
          "hoverlabel": {
           "align": "left"
          },
          "hovermode": "closest",
          "mapbox": {
           "style": "light"
          },
          "paper_bgcolor": "white",
          "plot_bgcolor": "#E5ECF6",
          "polar": {
           "angularaxis": {
            "gridcolor": "white",
            "linecolor": "white",
            "ticks": ""
           },
           "bgcolor": "#E5ECF6",
           "radialaxis": {
            "gridcolor": "white",
            "linecolor": "white",
            "ticks": ""
           }
          },
          "scene": {
           "xaxis": {
            "backgroundcolor": "#E5ECF6",
            "gridcolor": "white",
            "gridwidth": 2,
            "linecolor": "white",
            "showbackground": true,
            "ticks": "",
            "zerolinecolor": "white"
           },
           "yaxis": {
            "backgroundcolor": "#E5ECF6",
            "gridcolor": "white",
            "gridwidth": 2,
            "linecolor": "white",
            "showbackground": true,
            "ticks": "",
            "zerolinecolor": "white"
           },
           "zaxis": {
            "backgroundcolor": "#E5ECF6",
            "gridcolor": "white",
            "gridwidth": 2,
            "linecolor": "white",
            "showbackground": true,
            "ticks": "",
            "zerolinecolor": "white"
           }
          },
          "shapedefaults": {
           "line": {
            "color": "#2a3f5f"
           }
          },
          "ternary": {
           "aaxis": {
            "gridcolor": "white",
            "linecolor": "white",
            "ticks": ""
           },
           "baxis": {
            "gridcolor": "white",
            "linecolor": "white",
            "ticks": ""
           },
           "bgcolor": "#E5ECF6",
           "caxis": {
            "gridcolor": "white",
            "linecolor": "white",
            "ticks": ""
           }
          },
          "title": {
           "x": 0.05
          },
          "xaxis": {
           "automargin": true,
           "gridcolor": "white",
           "linecolor": "white",
           "ticks": "",
           "title": {
            "standoff": 15
           },
           "zerolinecolor": "white",
           "zerolinewidth": 2
          },
          "yaxis": {
           "automargin": true,
           "gridcolor": "white",
           "linecolor": "white",
           "ticks": "",
           "title": {
            "standoff": 15
           },
           "zerolinecolor": "white",
           "zerolinewidth": 2
          }
         }
        },
        "title": {
         "text": "Gender of Dead Characters"
        }
       }
      }
     },
     "metadata": {}
    }
   ],
   "source": [
    "# Gender of Dead Chracters\n",
    "\n",
    "dead_df = got_deaths_df[got_deaths_df.isAlive == 0]\n",
    "alive_df = got_deaths_df[got_deaths_df.isAlive == 1]\n",
    "fig = px.pie(dead_df, names=\"gender_dict\", title=\"Gender of Dead Characters\")\n",
    "fig.update_traces(textposition='inside', textinfo='label+percent')\n",
    "fig.show()"
   ]
  },
  {
   "cell_type": "code",
   "execution_count": 42,
   "metadata": {},
   "outputs": [],
   "source": [
    "# More Male Chracters Die\n"
   ]
  },
  {
   "cell_type": "code",
   "execution_count": 45,
   "metadata": {},
   "outputs": [],
   "source": [
    "# House Based Exploration\n",
    "got_deaths_df['houseSize'] = got_deaths_df['house'].map(got_deaths_df['house'].value_counts()) # All Houses Death\n",
    "got_deaths_df['houseAlive'] = alive_df['house'].map(alive_df['house'].value_counts()) # Alive from Houses\n",
    "got_deaths_df['houseDead'] = dead_df['house'].map(dead_df['house'].value_counts()) # Dead from houses\n",
    "got_deaths_df['houseDeathRate'] = got_deaths_df['houseDead']/got_deaths_df['houseSize'] # Dead/Size pf House\n"
   ]
  },
  {
   "cell_type": "code",
   "execution_count": 50,
   "metadata": {},
   "outputs": [
    {
     "output_type": "stream",
     "name": "stderr",
     "text": "/Library/Frameworks/Python.framework/Versions/3.8/lib/python3.8/site-packages/seaborn/axisgrid.py:856: UserWarning:\n\nTight layout not applied. tight_layout cannot make axes width small enough to accommodate all axes decorations\n\n"
    },
    {
     "output_type": "execute_result",
     "data": {
      "text/plain": "<seaborn.axisgrid.FacetGrid at 0x7fbbe96ad460>"
     },
     "metadata": {},
     "execution_count": 50
    },
    {
     "output_type": "stream",
     "name": "stdout",
     "text": "Error in callback <function flush_figures at 0x7fbbf8b2e8b0> (for post_execute):\n"
    },
    {
     "output_type": "error",
     "ename": "KeyboardInterrupt",
     "evalue": "",
     "traceback": [
      "\u001b[0;31m---------------------------------------------------------------------------\u001b[0m",
      "\u001b[0;31mKeyboardInterrupt\u001b[0m                         Traceback (most recent call last)",
      "\u001b[0;32m/Library/Frameworks/Python.framework/Versions/3.8/lib/python3.8/site-packages/ipykernel/pylab/backend_inline.py\u001b[0m in \u001b[0;36mflush_figures\u001b[0;34m()\u001b[0m\n\u001b[1;32m    119\u001b[0m         \u001b[0;31m# ignore the tracking, just draw and close all figures\u001b[0m\u001b[0;34m\u001b[0m\u001b[0;34m\u001b[0m\u001b[0;34m\u001b[0m\u001b[0m\n\u001b[1;32m    120\u001b[0m         \u001b[0;32mtry\u001b[0m\u001b[0;34m:\u001b[0m\u001b[0;34m\u001b[0m\u001b[0;34m\u001b[0m\u001b[0m\n\u001b[0;32m--> 121\u001b[0;31m             \u001b[0;32mreturn\u001b[0m \u001b[0mshow\u001b[0m\u001b[0;34m(\u001b[0m\u001b[0;32mTrue\u001b[0m\u001b[0;34m)\u001b[0m\u001b[0;34m\u001b[0m\u001b[0;34m\u001b[0m\u001b[0m\n\u001b[0m\u001b[1;32m    122\u001b[0m         \u001b[0;32mexcept\u001b[0m \u001b[0mException\u001b[0m \u001b[0;32mas\u001b[0m \u001b[0me\u001b[0m\u001b[0;34m:\u001b[0m\u001b[0;34m\u001b[0m\u001b[0;34m\u001b[0m\u001b[0m\n\u001b[1;32m    123\u001b[0m             \u001b[0;31m# safely show traceback if in IPython, else raise\u001b[0m\u001b[0;34m\u001b[0m\u001b[0;34m\u001b[0m\u001b[0;34m\u001b[0m\u001b[0m\n",
      "\u001b[0;32m/Library/Frameworks/Python.framework/Versions/3.8/lib/python3.8/site-packages/ipykernel/pylab/backend_inline.py\u001b[0m in \u001b[0;36mshow\u001b[0;34m(close, block)\u001b[0m\n\u001b[1;32m     39\u001b[0m     \u001b[0;32mtry\u001b[0m\u001b[0;34m:\u001b[0m\u001b[0;34m\u001b[0m\u001b[0;34m\u001b[0m\u001b[0m\n\u001b[1;32m     40\u001b[0m         \u001b[0;32mfor\u001b[0m \u001b[0mfigure_manager\u001b[0m \u001b[0;32min\u001b[0m \u001b[0mGcf\u001b[0m\u001b[0;34m.\u001b[0m\u001b[0mget_all_fig_managers\u001b[0m\u001b[0;34m(\u001b[0m\u001b[0;34m)\u001b[0m\u001b[0;34m:\u001b[0m\u001b[0;34m\u001b[0m\u001b[0;34m\u001b[0m\u001b[0m\n\u001b[0;32m---> 41\u001b[0;31m             display(\n\u001b[0m\u001b[1;32m     42\u001b[0m                 \u001b[0mfigure_manager\u001b[0m\u001b[0;34m.\u001b[0m\u001b[0mcanvas\u001b[0m\u001b[0;34m.\u001b[0m\u001b[0mfigure\u001b[0m\u001b[0;34m,\u001b[0m\u001b[0;34m\u001b[0m\u001b[0;34m\u001b[0m\u001b[0m\n\u001b[1;32m     43\u001b[0m                 \u001b[0mmetadata\u001b[0m\u001b[0;34m=\u001b[0m\u001b[0m_fetch_figure_metadata\u001b[0m\u001b[0;34m(\u001b[0m\u001b[0mfigure_manager\u001b[0m\u001b[0;34m.\u001b[0m\u001b[0mcanvas\u001b[0m\u001b[0;34m.\u001b[0m\u001b[0mfigure\u001b[0m\u001b[0;34m)\u001b[0m\u001b[0;34m\u001b[0m\u001b[0;34m\u001b[0m\u001b[0m\n",
      "\u001b[0;32m/Library/Frameworks/Python.framework/Versions/3.8/lib/python3.8/site-packages/IPython/core/display.py\u001b[0m in \u001b[0;36mdisplay\u001b[0;34m(include, exclude, metadata, transient, display_id, *objs, **kwargs)\u001b[0m\n\u001b[1;32m    311\u001b[0m             \u001b[0mpublish_display_data\u001b[0m\u001b[0;34m(\u001b[0m\u001b[0mdata\u001b[0m\u001b[0;34m=\u001b[0m\u001b[0mobj\u001b[0m\u001b[0;34m,\u001b[0m \u001b[0mmetadata\u001b[0m\u001b[0;34m=\u001b[0m\u001b[0mmetadata\u001b[0m\u001b[0;34m,\u001b[0m \u001b[0;34m**\u001b[0m\u001b[0mkwargs\u001b[0m\u001b[0;34m)\u001b[0m\u001b[0;34m\u001b[0m\u001b[0;34m\u001b[0m\u001b[0m\n\u001b[1;32m    312\u001b[0m         \u001b[0;32melse\u001b[0m\u001b[0;34m:\u001b[0m\u001b[0;34m\u001b[0m\u001b[0;34m\u001b[0m\u001b[0m\n\u001b[0;32m--> 313\u001b[0;31m             \u001b[0mformat_dict\u001b[0m\u001b[0;34m,\u001b[0m \u001b[0mmd_dict\u001b[0m \u001b[0;34m=\u001b[0m \u001b[0mformat\u001b[0m\u001b[0;34m(\u001b[0m\u001b[0mobj\u001b[0m\u001b[0;34m,\u001b[0m \u001b[0minclude\u001b[0m\u001b[0;34m=\u001b[0m\u001b[0minclude\u001b[0m\u001b[0;34m,\u001b[0m \u001b[0mexclude\u001b[0m\u001b[0;34m=\u001b[0m\u001b[0mexclude\u001b[0m\u001b[0;34m)\u001b[0m\u001b[0;34m\u001b[0m\u001b[0;34m\u001b[0m\u001b[0m\n\u001b[0m\u001b[1;32m    314\u001b[0m             \u001b[0;32mif\u001b[0m \u001b[0;32mnot\u001b[0m \u001b[0mformat_dict\u001b[0m\u001b[0;34m:\u001b[0m\u001b[0;34m\u001b[0m\u001b[0;34m\u001b[0m\u001b[0m\n\u001b[1;32m    315\u001b[0m                 \u001b[0;31m# nothing to display (e.g. _ipython_display_ took over)\u001b[0m\u001b[0;34m\u001b[0m\u001b[0;34m\u001b[0m\u001b[0;34m\u001b[0m\u001b[0m\n",
      "\u001b[0;32m/Library/Frameworks/Python.framework/Versions/3.8/lib/python3.8/site-packages/IPython/core/formatters.py\u001b[0m in \u001b[0;36mformat\u001b[0;34m(self, obj, include, exclude)\u001b[0m\n\u001b[1;32m    178\u001b[0m             \u001b[0mmd\u001b[0m \u001b[0;34m=\u001b[0m \u001b[0;32mNone\u001b[0m\u001b[0;34m\u001b[0m\u001b[0;34m\u001b[0m\u001b[0m\n\u001b[1;32m    179\u001b[0m             \u001b[0;32mtry\u001b[0m\u001b[0;34m:\u001b[0m\u001b[0;34m\u001b[0m\u001b[0;34m\u001b[0m\u001b[0m\n\u001b[0;32m--> 180\u001b[0;31m                 \u001b[0mdata\u001b[0m \u001b[0;34m=\u001b[0m \u001b[0mformatter\u001b[0m\u001b[0;34m(\u001b[0m\u001b[0mobj\u001b[0m\u001b[0;34m)\u001b[0m\u001b[0;34m\u001b[0m\u001b[0;34m\u001b[0m\u001b[0m\n\u001b[0m\u001b[1;32m    181\u001b[0m             \u001b[0;32mexcept\u001b[0m\u001b[0;34m:\u001b[0m\u001b[0;34m\u001b[0m\u001b[0;34m\u001b[0m\u001b[0m\n\u001b[1;32m    182\u001b[0m                 \u001b[0;31m# FIXME: log the exception\u001b[0m\u001b[0;34m\u001b[0m\u001b[0;34m\u001b[0m\u001b[0;34m\u001b[0m\u001b[0m\n",
      "\u001b[0;32m</Library/Frameworks/Python.framework/Versions/3.8/lib/python3.8/site-packages/decorator.py:decorator-gen-9>\u001b[0m in \u001b[0;36m__call__\u001b[0;34m(self, obj)\u001b[0m\n",
      "\u001b[0;32m/Library/Frameworks/Python.framework/Versions/3.8/lib/python3.8/site-packages/IPython/core/formatters.py\u001b[0m in \u001b[0;36mcatch_format_error\u001b[0;34m(method, self, *args, **kwargs)\u001b[0m\n\u001b[1;32m    222\u001b[0m     \u001b[0;34m\"\"\"show traceback on failed format call\"\"\"\u001b[0m\u001b[0;34m\u001b[0m\u001b[0;34m\u001b[0m\u001b[0m\n\u001b[1;32m    223\u001b[0m     \u001b[0;32mtry\u001b[0m\u001b[0;34m:\u001b[0m\u001b[0;34m\u001b[0m\u001b[0;34m\u001b[0m\u001b[0m\n\u001b[0;32m--> 224\u001b[0;31m         \u001b[0mr\u001b[0m \u001b[0;34m=\u001b[0m \u001b[0mmethod\u001b[0m\u001b[0;34m(\u001b[0m\u001b[0mself\u001b[0m\u001b[0;34m,\u001b[0m \u001b[0;34m*\u001b[0m\u001b[0margs\u001b[0m\u001b[0;34m,\u001b[0m \u001b[0;34m**\u001b[0m\u001b[0mkwargs\u001b[0m\u001b[0;34m)\u001b[0m\u001b[0;34m\u001b[0m\u001b[0;34m\u001b[0m\u001b[0m\n\u001b[0m\u001b[1;32m    225\u001b[0m     \u001b[0;32mexcept\u001b[0m \u001b[0mNotImplementedError\u001b[0m\u001b[0;34m:\u001b[0m\u001b[0;34m\u001b[0m\u001b[0;34m\u001b[0m\u001b[0m\n\u001b[1;32m    226\u001b[0m         \u001b[0;31m# don't warn on NotImplementedErrors\u001b[0m\u001b[0;34m\u001b[0m\u001b[0;34m\u001b[0m\u001b[0;34m\u001b[0m\u001b[0m\n",
      "\u001b[0;32m/Library/Frameworks/Python.framework/Versions/3.8/lib/python3.8/site-packages/IPython/core/formatters.py\u001b[0m in \u001b[0;36m__call__\u001b[0;34m(self, obj)\u001b[0m\n\u001b[1;32m    339\u001b[0m                 \u001b[0;32mpass\u001b[0m\u001b[0;34m\u001b[0m\u001b[0;34m\u001b[0m\u001b[0m\n\u001b[1;32m    340\u001b[0m             \u001b[0;32melse\u001b[0m\u001b[0;34m:\u001b[0m\u001b[0;34m\u001b[0m\u001b[0;34m\u001b[0m\u001b[0m\n\u001b[0;32m--> 341\u001b[0;31m                 \u001b[0;32mreturn\u001b[0m \u001b[0mprinter\u001b[0m\u001b[0;34m(\u001b[0m\u001b[0mobj\u001b[0m\u001b[0;34m)\u001b[0m\u001b[0;34m\u001b[0m\u001b[0;34m\u001b[0m\u001b[0m\n\u001b[0m\u001b[1;32m    342\u001b[0m             \u001b[0;31m# Finally look for special method names\u001b[0m\u001b[0;34m\u001b[0m\u001b[0;34m\u001b[0m\u001b[0;34m\u001b[0m\u001b[0m\n\u001b[1;32m    343\u001b[0m             \u001b[0mmethod\u001b[0m \u001b[0;34m=\u001b[0m \u001b[0mget_real_method\u001b[0m\u001b[0;34m(\u001b[0m\u001b[0mobj\u001b[0m\u001b[0;34m,\u001b[0m \u001b[0mself\u001b[0m\u001b[0;34m.\u001b[0m\u001b[0mprint_method\u001b[0m\u001b[0;34m)\u001b[0m\u001b[0;34m\u001b[0m\u001b[0;34m\u001b[0m\u001b[0m\n",
      "\u001b[0;32m/Library/Frameworks/Python.framework/Versions/3.8/lib/python3.8/site-packages/IPython/core/pylabtools.py\u001b[0m in \u001b[0;36m<lambda>\u001b[0;34m(fig)\u001b[0m\n\u001b[1;32m    246\u001b[0m \u001b[0;34m\u001b[0m\u001b[0m\n\u001b[1;32m    247\u001b[0m     \u001b[0;32mif\u001b[0m \u001b[0;34m'png'\u001b[0m \u001b[0;32min\u001b[0m \u001b[0mformats\u001b[0m\u001b[0;34m:\u001b[0m\u001b[0;34m\u001b[0m\u001b[0;34m\u001b[0m\u001b[0m\n\u001b[0;32m--> 248\u001b[0;31m         \u001b[0mpng_formatter\u001b[0m\u001b[0;34m.\u001b[0m\u001b[0mfor_type\u001b[0m\u001b[0;34m(\u001b[0m\u001b[0mFigure\u001b[0m\u001b[0;34m,\u001b[0m \u001b[0;32mlambda\u001b[0m \u001b[0mfig\u001b[0m\u001b[0;34m:\u001b[0m \u001b[0mprint_figure\u001b[0m\u001b[0;34m(\u001b[0m\u001b[0mfig\u001b[0m\u001b[0;34m,\u001b[0m \u001b[0;34m'png'\u001b[0m\u001b[0;34m,\u001b[0m \u001b[0;34m**\u001b[0m\u001b[0mkwargs\u001b[0m\u001b[0;34m)\u001b[0m\u001b[0;34m)\u001b[0m\u001b[0;34m\u001b[0m\u001b[0;34m\u001b[0m\u001b[0m\n\u001b[0m\u001b[1;32m    249\u001b[0m     \u001b[0;32mif\u001b[0m \u001b[0;34m'retina'\u001b[0m \u001b[0;32min\u001b[0m \u001b[0mformats\u001b[0m \u001b[0;32mor\u001b[0m \u001b[0;34m'png2x'\u001b[0m \u001b[0;32min\u001b[0m \u001b[0mformats\u001b[0m\u001b[0;34m:\u001b[0m\u001b[0;34m\u001b[0m\u001b[0;34m\u001b[0m\u001b[0m\n\u001b[1;32m    250\u001b[0m         \u001b[0mpng_formatter\u001b[0m\u001b[0;34m.\u001b[0m\u001b[0mfor_type\u001b[0m\u001b[0;34m(\u001b[0m\u001b[0mFigure\u001b[0m\u001b[0;34m,\u001b[0m \u001b[0;32mlambda\u001b[0m \u001b[0mfig\u001b[0m\u001b[0;34m:\u001b[0m \u001b[0mretina_figure\u001b[0m\u001b[0;34m(\u001b[0m\u001b[0mfig\u001b[0m\u001b[0;34m,\u001b[0m \u001b[0;34m**\u001b[0m\u001b[0mkwargs\u001b[0m\u001b[0;34m)\u001b[0m\u001b[0;34m)\u001b[0m\u001b[0;34m\u001b[0m\u001b[0;34m\u001b[0m\u001b[0m\n",
      "\u001b[0;32m/Library/Frameworks/Python.framework/Versions/3.8/lib/python3.8/site-packages/IPython/core/pylabtools.py\u001b[0m in \u001b[0;36mprint_figure\u001b[0;34m(fig, fmt, bbox_inches, **kwargs)\u001b[0m\n\u001b[1;32m    130\u001b[0m         \u001b[0mFigureCanvasBase\u001b[0m\u001b[0;34m(\u001b[0m\u001b[0mfig\u001b[0m\u001b[0;34m)\u001b[0m\u001b[0;34m\u001b[0m\u001b[0;34m\u001b[0m\u001b[0m\n\u001b[1;32m    131\u001b[0m \u001b[0;34m\u001b[0m\u001b[0m\n\u001b[0;32m--> 132\u001b[0;31m     \u001b[0mfig\u001b[0m\u001b[0;34m.\u001b[0m\u001b[0mcanvas\u001b[0m\u001b[0;34m.\u001b[0m\u001b[0mprint_figure\u001b[0m\u001b[0;34m(\u001b[0m\u001b[0mbytes_io\u001b[0m\u001b[0;34m,\u001b[0m \u001b[0;34m**\u001b[0m\u001b[0mkw\u001b[0m\u001b[0;34m)\u001b[0m\u001b[0;34m\u001b[0m\u001b[0;34m\u001b[0m\u001b[0m\n\u001b[0m\u001b[1;32m    133\u001b[0m     \u001b[0mdata\u001b[0m \u001b[0;34m=\u001b[0m \u001b[0mbytes_io\u001b[0m\u001b[0;34m.\u001b[0m\u001b[0mgetvalue\u001b[0m\u001b[0;34m(\u001b[0m\u001b[0;34m)\u001b[0m\u001b[0;34m\u001b[0m\u001b[0;34m\u001b[0m\u001b[0m\n\u001b[1;32m    134\u001b[0m     \u001b[0;32mif\u001b[0m \u001b[0mfmt\u001b[0m \u001b[0;34m==\u001b[0m \u001b[0;34m'svg'\u001b[0m\u001b[0;34m:\u001b[0m\u001b[0;34m\u001b[0m\u001b[0;34m\u001b[0m\u001b[0m\n",
      "\u001b[0;32m/Library/Frameworks/Python.framework/Versions/3.8/lib/python3.8/site-packages/matplotlib/backend_bases.py\u001b[0m in \u001b[0;36mprint_figure\u001b[0;34m(self, filename, dpi, facecolor, edgecolor, orientation, format, bbox_inches, **kwargs)\u001b[0m\n\u001b[1;32m   2079\u001b[0m                     \u001b[0mself\u001b[0m\u001b[0;34m.\u001b[0m\u001b[0mfigure\u001b[0m\u001b[0;34m.\u001b[0m\u001b[0mdraw\u001b[0m\u001b[0;34m(\u001b[0m\u001b[0mrenderer\u001b[0m\u001b[0;34m)\u001b[0m\u001b[0;34m\u001b[0m\u001b[0;34m\u001b[0m\u001b[0m\n\u001b[1;32m   2080\u001b[0m                     \u001b[0mbbox_artists\u001b[0m \u001b[0;34m=\u001b[0m \u001b[0mkwargs\u001b[0m\u001b[0;34m.\u001b[0m\u001b[0mpop\u001b[0m\u001b[0;34m(\u001b[0m\u001b[0;34m\"bbox_extra_artists\"\u001b[0m\u001b[0;34m,\u001b[0m \u001b[0;32mNone\u001b[0m\u001b[0;34m)\u001b[0m\u001b[0;34m\u001b[0m\u001b[0;34m\u001b[0m\u001b[0m\n\u001b[0;32m-> 2081\u001b[0;31m                     bbox_inches = self.figure.get_tightbbox(renderer,\n\u001b[0m\u001b[1;32m   2082\u001b[0m                             bbox_extra_artists=bbox_artists)\n\u001b[1;32m   2083\u001b[0m                     \u001b[0mpad\u001b[0m \u001b[0;34m=\u001b[0m \u001b[0mkwargs\u001b[0m\u001b[0;34m.\u001b[0m\u001b[0mpop\u001b[0m\u001b[0;34m(\u001b[0m\u001b[0;34m\"pad_inches\"\u001b[0m\u001b[0;34m,\u001b[0m \u001b[0;32mNone\u001b[0m\u001b[0;34m)\u001b[0m\u001b[0;34m\u001b[0m\u001b[0;34m\u001b[0m\u001b[0m\n",
      "\u001b[0;32m/Library/Frameworks/Python.framework/Versions/3.8/lib/python3.8/site-packages/matplotlib/figure.py\u001b[0m in \u001b[0;36mget_tightbbox\u001b[0;34m(self, renderer, bbox_extra_artists)\u001b[0m\n\u001b[1;32m   2392\u001b[0m                 \u001b[0;31m# need this conditional....\u001b[0m\u001b[0;34m\u001b[0m\u001b[0;34m\u001b[0m\u001b[0;34m\u001b[0m\u001b[0m\n\u001b[1;32m   2393\u001b[0m                 \u001b[0;32mtry\u001b[0m\u001b[0;34m:\u001b[0m\u001b[0;34m\u001b[0m\u001b[0;34m\u001b[0m\u001b[0m\n\u001b[0;32m-> 2394\u001b[0;31m                     bbox = ax.get_tightbbox(renderer,\n\u001b[0m\u001b[1;32m   2395\u001b[0m                             bbox_extra_artists=bbox_extra_artists)\n\u001b[1;32m   2396\u001b[0m                 \u001b[0;32mexcept\u001b[0m \u001b[0mTypeError\u001b[0m\u001b[0;34m:\u001b[0m\u001b[0;34m\u001b[0m\u001b[0;34m\u001b[0m\u001b[0m\n",
      "\u001b[0;32m/Library/Frameworks/Python.framework/Versions/3.8/lib/python3.8/site-packages/matplotlib/axes/_base.py\u001b[0m in \u001b[0;36mget_tightbbox\u001b[0;34m(self, renderer, call_axes_locator, bbox_extra_artists)\u001b[0m\n\u001b[1;32m   4327\u001b[0m         \u001b[0mbb\u001b[0m\u001b[0;34m.\u001b[0m\u001b[0mappend\u001b[0m\u001b[0;34m(\u001b[0m\u001b[0maxbbox\u001b[0m\u001b[0;34m)\u001b[0m\u001b[0;34m\u001b[0m\u001b[0;34m\u001b[0m\u001b[0m\n\u001b[1;32m   4328\u001b[0m \u001b[0;34m\u001b[0m\u001b[0m\n\u001b[0;32m-> 4329\u001b[0;31m         \u001b[0mself\u001b[0m\u001b[0;34m.\u001b[0m\u001b[0m_update_title_position\u001b[0m\u001b[0;34m(\u001b[0m\u001b[0mrenderer\u001b[0m\u001b[0;34m)\u001b[0m\u001b[0;34m\u001b[0m\u001b[0;34m\u001b[0m\u001b[0m\n\u001b[0m\u001b[1;32m   4330\u001b[0m         \u001b[0;32mif\u001b[0m \u001b[0mself\u001b[0m\u001b[0;34m.\u001b[0m\u001b[0mtitle\u001b[0m\u001b[0;34m.\u001b[0m\u001b[0mget_visible\u001b[0m\u001b[0;34m(\u001b[0m\u001b[0;34m)\u001b[0m\u001b[0;34m:\u001b[0m\u001b[0;34m\u001b[0m\u001b[0;34m\u001b[0m\u001b[0m\n\u001b[1;32m   4331\u001b[0m             \u001b[0mbb\u001b[0m\u001b[0;34m.\u001b[0m\u001b[0mappend\u001b[0m\u001b[0;34m(\u001b[0m\u001b[0mself\u001b[0m\u001b[0;34m.\u001b[0m\u001b[0mtitle\u001b[0m\u001b[0;34m.\u001b[0m\u001b[0mget_window_extent\u001b[0m\u001b[0;34m(\u001b[0m\u001b[0mrenderer\u001b[0m\u001b[0;34m)\u001b[0m\u001b[0;34m)\u001b[0m\u001b[0;34m\u001b[0m\u001b[0;34m\u001b[0m\u001b[0m\n",
      "\u001b[0;32m/Library/Frameworks/Python.framework/Versions/3.8/lib/python3.8/site-packages/matplotlib/axes/_base.py\u001b[0m in \u001b[0;36m_update_title_position\u001b[0;34m(self, renderer)\u001b[0m\n\u001b[1;32m   2531\u001b[0m                 if (ax.xaxis.get_ticks_position() in ['top', 'unknown']\n\u001b[1;32m   2532\u001b[0m                         or ax.xaxis.get_label_position() == 'top'):\n\u001b[0;32m-> 2533\u001b[0;31m                     \u001b[0mbb\u001b[0m \u001b[0;34m=\u001b[0m \u001b[0max\u001b[0m\u001b[0;34m.\u001b[0m\u001b[0mxaxis\u001b[0m\u001b[0;34m.\u001b[0m\u001b[0mget_tightbbox\u001b[0m\u001b[0;34m(\u001b[0m\u001b[0mrenderer\u001b[0m\u001b[0;34m)\u001b[0m\u001b[0;34m\u001b[0m\u001b[0;34m\u001b[0m\u001b[0m\n\u001b[0m\u001b[1;32m   2534\u001b[0m                 \u001b[0;32melse\u001b[0m\u001b[0;34m:\u001b[0m\u001b[0;34m\u001b[0m\u001b[0;34m\u001b[0m\u001b[0m\n\u001b[1;32m   2535\u001b[0m                     \u001b[0mbb\u001b[0m \u001b[0;34m=\u001b[0m \u001b[0max\u001b[0m\u001b[0;34m.\u001b[0m\u001b[0mget_window_extent\u001b[0m\u001b[0;34m(\u001b[0m\u001b[0mrenderer\u001b[0m\u001b[0;34m)\u001b[0m\u001b[0;34m\u001b[0m\u001b[0;34m\u001b[0m\u001b[0m\n",
      "\u001b[0;32m/Library/Frameworks/Python.framework/Versions/3.8/lib/python3.8/site-packages/matplotlib/axis.py\u001b[0m in \u001b[0;36mget_tightbbox\u001b[0;34m(self, renderer)\u001b[0m\n\u001b[1;32m   1189\u001b[0m \u001b[0;34m\u001b[0m\u001b[0m\n\u001b[1;32m   1190\u001b[0m         \u001b[0;31m# go back to just this axis's tick labels\u001b[0m\u001b[0;34m\u001b[0m\u001b[0;34m\u001b[0m\u001b[0;34m\u001b[0m\u001b[0m\n\u001b[0;32m-> 1191\u001b[0;31m         ticklabelBoxes, ticklabelBoxes2 = self._get_tick_bboxes(\n\u001b[0m\u001b[1;32m   1192\u001b[0m                     ticks_to_draw, renderer)\n\u001b[1;32m   1193\u001b[0m \u001b[0;34m\u001b[0m\u001b[0m\n",
      "\u001b[0;32m/Library/Frameworks/Python.framework/Versions/3.8/lib/python3.8/site-packages/matplotlib/axis.py\u001b[0m in \u001b[0;36m_get_tick_bboxes\u001b[0;34m(self, ticks, renderer)\u001b[0m\n\u001b[1;32m   1171\u001b[0m     \u001b[0;32mdef\u001b[0m \u001b[0m_get_tick_bboxes\u001b[0m\u001b[0;34m(\u001b[0m\u001b[0mself\u001b[0m\u001b[0;34m,\u001b[0m \u001b[0mticks\u001b[0m\u001b[0;34m,\u001b[0m \u001b[0mrenderer\u001b[0m\u001b[0;34m)\u001b[0m\u001b[0;34m:\u001b[0m\u001b[0;34m\u001b[0m\u001b[0;34m\u001b[0m\u001b[0m\n\u001b[1;32m   1172\u001b[0m         \u001b[0;34m\"\"\"Return lists of bboxes for ticks' label1's and label2's.\"\"\"\u001b[0m\u001b[0;34m\u001b[0m\u001b[0;34m\u001b[0m\u001b[0m\n\u001b[0;32m-> 1173\u001b[0;31m         return ([tick.label1.get_window_extent(renderer)\n\u001b[0m\u001b[1;32m   1174\u001b[0m                  for tick in ticks if tick.label1.get_visible()],\n\u001b[1;32m   1175\u001b[0m                 [tick.label2.get_window_extent(renderer)\n",
      "\u001b[0;32m/Library/Frameworks/Python.framework/Versions/3.8/lib/python3.8/site-packages/matplotlib/axis.py\u001b[0m in \u001b[0;36m<listcomp>\u001b[0;34m(.0)\u001b[0m\n\u001b[1;32m   1171\u001b[0m     \u001b[0;32mdef\u001b[0m \u001b[0m_get_tick_bboxes\u001b[0m\u001b[0;34m(\u001b[0m\u001b[0mself\u001b[0m\u001b[0;34m,\u001b[0m \u001b[0mticks\u001b[0m\u001b[0;34m,\u001b[0m \u001b[0mrenderer\u001b[0m\u001b[0;34m)\u001b[0m\u001b[0;34m:\u001b[0m\u001b[0;34m\u001b[0m\u001b[0;34m\u001b[0m\u001b[0m\n\u001b[1;32m   1172\u001b[0m         \u001b[0;34m\"\"\"Return lists of bboxes for ticks' label1's and label2's.\"\"\"\u001b[0m\u001b[0;34m\u001b[0m\u001b[0;34m\u001b[0m\u001b[0m\n\u001b[0;32m-> 1173\u001b[0;31m         return ([tick.label1.get_window_extent(renderer)\n\u001b[0m\u001b[1;32m   1174\u001b[0m                  for tick in ticks if tick.label1.get_visible()],\n\u001b[1;32m   1175\u001b[0m                 [tick.label2.get_window_extent(renderer)\n",
      "\u001b[0;32m/Library/Frameworks/Python.framework/Versions/3.8/lib/python3.8/site-packages/matplotlib/text.py\u001b[0m in \u001b[0;36mget_window_extent\u001b[0;34m(self, renderer, dpi)\u001b[0m\n\u001b[1;32m    903\u001b[0m             \u001b[0;32mraise\u001b[0m \u001b[0mRuntimeError\u001b[0m\u001b[0;34m(\u001b[0m\u001b[0;34m'Cannot get window extent w/o renderer'\u001b[0m\u001b[0;34m)\u001b[0m\u001b[0;34m\u001b[0m\u001b[0;34m\u001b[0m\u001b[0m\n\u001b[1;32m    904\u001b[0m \u001b[0;34m\u001b[0m\u001b[0m\n\u001b[0;32m--> 905\u001b[0;31m         \u001b[0mbbox\u001b[0m\u001b[0;34m,\u001b[0m \u001b[0minfo\u001b[0m\u001b[0;34m,\u001b[0m \u001b[0mdescent\u001b[0m \u001b[0;34m=\u001b[0m \u001b[0mself\u001b[0m\u001b[0;34m.\u001b[0m\u001b[0m_get_layout\u001b[0m\u001b[0;34m(\u001b[0m\u001b[0mself\u001b[0m\u001b[0;34m.\u001b[0m\u001b[0m_renderer\u001b[0m\u001b[0;34m)\u001b[0m\u001b[0;34m\u001b[0m\u001b[0;34m\u001b[0m\u001b[0m\n\u001b[0m\u001b[1;32m    906\u001b[0m         \u001b[0mx\u001b[0m\u001b[0;34m,\u001b[0m \u001b[0my\u001b[0m \u001b[0;34m=\u001b[0m \u001b[0mself\u001b[0m\u001b[0;34m.\u001b[0m\u001b[0mget_unitless_position\u001b[0m\u001b[0;34m(\u001b[0m\u001b[0;34m)\u001b[0m\u001b[0;34m\u001b[0m\u001b[0;34m\u001b[0m\u001b[0m\n\u001b[1;32m    907\u001b[0m         \u001b[0mx\u001b[0m\u001b[0;34m,\u001b[0m \u001b[0my\u001b[0m \u001b[0;34m=\u001b[0m \u001b[0mself\u001b[0m\u001b[0;34m.\u001b[0m\u001b[0mget_transform\u001b[0m\u001b[0;34m(\u001b[0m\u001b[0;34m)\u001b[0m\u001b[0;34m.\u001b[0m\u001b[0mtransform\u001b[0m\u001b[0;34m(\u001b[0m\u001b[0;34m(\u001b[0m\u001b[0mx\u001b[0m\u001b[0;34m,\u001b[0m \u001b[0my\u001b[0m\u001b[0;34m)\u001b[0m\u001b[0;34m)\u001b[0m\u001b[0;34m\u001b[0m\u001b[0;34m\u001b[0m\u001b[0m\n",
      "\u001b[0;32m/Library/Frameworks/Python.framework/Versions/3.8/lib/python3.8/site-packages/matplotlib/text.py\u001b[0m in \u001b[0;36m_get_layout\u001b[0;34m(self, renderer)\u001b[0m\n\u001b[1;32m    297\u001b[0m             \u001b[0mclean_line\u001b[0m\u001b[0;34m,\u001b[0m \u001b[0mismath\u001b[0m \u001b[0;34m=\u001b[0m \u001b[0mself\u001b[0m\u001b[0;34m.\u001b[0m\u001b[0m_preprocess_math\u001b[0m\u001b[0;34m(\u001b[0m\u001b[0mline\u001b[0m\u001b[0;34m)\u001b[0m\u001b[0;34m\u001b[0m\u001b[0;34m\u001b[0m\u001b[0m\n\u001b[1;32m    298\u001b[0m             \u001b[0;32mif\u001b[0m \u001b[0mclean_line\u001b[0m\u001b[0;34m:\u001b[0m\u001b[0;34m\u001b[0m\u001b[0;34m\u001b[0m\u001b[0m\n\u001b[0;32m--> 299\u001b[0;31m                 w, h, d = renderer.get_text_width_height_descent(\n\u001b[0m\u001b[1;32m    300\u001b[0m                     clean_line, self._fontproperties, ismath=ismath)\n\u001b[1;32m    301\u001b[0m             \u001b[0;32melse\u001b[0m\u001b[0;34m:\u001b[0m\u001b[0;34m\u001b[0m\u001b[0;34m\u001b[0m\u001b[0m\n",
      "\u001b[0;32m/Library/Frameworks/Python.framework/Versions/3.8/lib/python3.8/site-packages/matplotlib/backends/backend_agg.py\u001b[0m in \u001b[0;36mget_text_width_height_descent\u001b[0;34m(self, s, prop, ismath)\u001b[0m\n\u001b[1;32m    212\u001b[0m         \u001b[0mflags\u001b[0m \u001b[0;34m=\u001b[0m \u001b[0mget_hinting_flag\u001b[0m\u001b[0;34m(\u001b[0m\u001b[0;34m)\u001b[0m\u001b[0;34m\u001b[0m\u001b[0;34m\u001b[0m\u001b[0m\n\u001b[1;32m    213\u001b[0m         \u001b[0mfont\u001b[0m \u001b[0;34m=\u001b[0m \u001b[0mself\u001b[0m\u001b[0;34m.\u001b[0m\u001b[0m_get_agg_font\u001b[0m\u001b[0;34m(\u001b[0m\u001b[0mprop\u001b[0m\u001b[0;34m)\u001b[0m\u001b[0;34m\u001b[0m\u001b[0;34m\u001b[0m\u001b[0m\n\u001b[0;32m--> 214\u001b[0;31m         \u001b[0mfont\u001b[0m\u001b[0;34m.\u001b[0m\u001b[0mset_text\u001b[0m\u001b[0;34m(\u001b[0m\u001b[0ms\u001b[0m\u001b[0;34m,\u001b[0m \u001b[0;36m0.0\u001b[0m\u001b[0;34m,\u001b[0m \u001b[0mflags\u001b[0m\u001b[0;34m=\u001b[0m\u001b[0mflags\u001b[0m\u001b[0;34m)\u001b[0m\u001b[0;34m\u001b[0m\u001b[0;34m\u001b[0m\u001b[0m\n\u001b[0m\u001b[1;32m    215\u001b[0m         \u001b[0mw\u001b[0m\u001b[0;34m,\u001b[0m \u001b[0mh\u001b[0m \u001b[0;34m=\u001b[0m \u001b[0mfont\u001b[0m\u001b[0;34m.\u001b[0m\u001b[0mget_width_height\u001b[0m\u001b[0;34m(\u001b[0m\u001b[0;34m)\u001b[0m  \u001b[0;31m# width and height of unrotated string\u001b[0m\u001b[0;34m\u001b[0m\u001b[0;34m\u001b[0m\u001b[0m\n\u001b[1;32m    216\u001b[0m         \u001b[0md\u001b[0m \u001b[0;34m=\u001b[0m \u001b[0mfont\u001b[0m\u001b[0;34m.\u001b[0m\u001b[0mget_descent\u001b[0m\u001b[0;34m(\u001b[0m\u001b[0;34m)\u001b[0m\u001b[0;34m\u001b[0m\u001b[0;34m\u001b[0m\u001b[0m\n",
      "\u001b[0;31mKeyboardInterrupt\u001b[0m: "
     ]
    }
   ],
   "source": [
    "sb.catplot(\"house\", col=\"houseDeathRate\", col_wrap=4,\n",
    "                data=got_deaths_df,\n",
    "              kind=\"count\", height=2.5, aspect=.8)"
   ]
  },
  {
   "cell_type": "markdown",
   "metadata": {},
   "source": [
    "# Data Cleaning"
   ]
  },
  {
   "cell_type": "code",
   "execution_count": 52,
   "metadata": {},
   "outputs": [],
   "source": [
    "# Removing Outliers\n",
    "\n",
    "got_deaths_df['age'].values[got_deaths_df['age'] == -298001] = 0\n",
    "got_deaths_df['age'].values[got_deaths_df['age'] == -277980] = 20\n",
    "got_deaths_df['dateOfBirth'].values[got_deaths_df['dateOfBirth'] == 298299] = 298\n",
    "got_deaths_df['dateOfBirth'].values[got_deaths_df['dateOfBirth'] == 278279] = 278"
   ]
  },
  {
   "cell_type": "code",
   "execution_count": 53,
   "metadata": {},
   "outputs": [
    {
     "output_type": "execute_result",
     "data": {
      "text/plain": "      S.No  actual  pred  alive   plod              name          title  male  \\\n1941  1942       0     1  0.803  0.197             Luwin            NaN     1   \n1942  1943       0     1  0.987  0.013              Reek            NaN     1   \n1943  1944       1     1  0.520  0.480  Symeon Star-Eyes            NaN     1   \n1944  1945       1     1  0.637  0.363         Coldhands            NaN     1   \n1945  1946       0     0  0.093  0.907   Tytos Lannister  Casterly Rock     1   \n\n       culture  dateOfBirth  ...  boolDeadRelations isPopular popularity  \\\n1941  Westeros          NaN  ...                  0         1   0.351171   \n1942       NaN          NaN  ...                  0         0   0.096990   \n1943       NaN          NaN  ...                  0         0   0.030100   \n1944       NaN          NaN  ...                  0         0   0.130435   \n1945       NaN        220.0  ...                  1         0   0.210702   \n\n     isAlive isAlive_str gender_dict  houseSize  houseAlive  houseDead  \\\n1941       0        Dead        Male       72.0         NaN       22.0   \n1942       0        Dead        Male       13.0         NaN        4.0   \n1943       1       Alive        Male        NaN         NaN        NaN   \n1944       1       Alive        Male        1.0         1.0        NaN   \n1945       0        Dead        Male       49.0         NaN       18.0   \n\n      houseDeathRate  \n1941        0.305556  \n1942        0.307692  \n1943             NaN  \n1944             NaN  \n1945        0.367347  \n\n[5 rows x 39 columns]",
      "text/html": "<div>\n<style scoped>\n    .dataframe tbody tr th:only-of-type {\n        vertical-align: middle;\n    }\n\n    .dataframe tbody tr th {\n        vertical-align: top;\n    }\n\n    .dataframe thead th {\n        text-align: right;\n    }\n</style>\n<table border=\"1\" class=\"dataframe\">\n  <thead>\n    <tr style=\"text-align: right;\">\n      <th></th>\n      <th>S.No</th>\n      <th>actual</th>\n      <th>pred</th>\n      <th>alive</th>\n      <th>plod</th>\n      <th>name</th>\n      <th>title</th>\n      <th>male</th>\n      <th>culture</th>\n      <th>dateOfBirth</th>\n      <th>...</th>\n      <th>boolDeadRelations</th>\n      <th>isPopular</th>\n      <th>popularity</th>\n      <th>isAlive</th>\n      <th>isAlive_str</th>\n      <th>gender_dict</th>\n      <th>houseSize</th>\n      <th>houseAlive</th>\n      <th>houseDead</th>\n      <th>houseDeathRate</th>\n    </tr>\n  </thead>\n  <tbody>\n    <tr>\n      <th>1941</th>\n      <td>1942</td>\n      <td>0</td>\n      <td>1</td>\n      <td>0.803</td>\n      <td>0.197</td>\n      <td>Luwin</td>\n      <td>NaN</td>\n      <td>1</td>\n      <td>Westeros</td>\n      <td>NaN</td>\n      <td>...</td>\n      <td>0</td>\n      <td>1</td>\n      <td>0.351171</td>\n      <td>0</td>\n      <td>Dead</td>\n      <td>Male</td>\n      <td>72.0</td>\n      <td>NaN</td>\n      <td>22.0</td>\n      <td>0.305556</td>\n    </tr>\n    <tr>\n      <th>1942</th>\n      <td>1943</td>\n      <td>0</td>\n      <td>1</td>\n      <td>0.987</td>\n      <td>0.013</td>\n      <td>Reek</td>\n      <td>NaN</td>\n      <td>1</td>\n      <td>NaN</td>\n      <td>NaN</td>\n      <td>...</td>\n      <td>0</td>\n      <td>0</td>\n      <td>0.096990</td>\n      <td>0</td>\n      <td>Dead</td>\n      <td>Male</td>\n      <td>13.0</td>\n      <td>NaN</td>\n      <td>4.0</td>\n      <td>0.307692</td>\n    </tr>\n    <tr>\n      <th>1943</th>\n      <td>1944</td>\n      <td>1</td>\n      <td>1</td>\n      <td>0.520</td>\n      <td>0.480</td>\n      <td>Symeon Star-Eyes</td>\n      <td>NaN</td>\n      <td>1</td>\n      <td>NaN</td>\n      <td>NaN</td>\n      <td>...</td>\n      <td>0</td>\n      <td>0</td>\n      <td>0.030100</td>\n      <td>1</td>\n      <td>Alive</td>\n      <td>Male</td>\n      <td>NaN</td>\n      <td>NaN</td>\n      <td>NaN</td>\n      <td>NaN</td>\n    </tr>\n    <tr>\n      <th>1944</th>\n      <td>1945</td>\n      <td>1</td>\n      <td>1</td>\n      <td>0.637</td>\n      <td>0.363</td>\n      <td>Coldhands</td>\n      <td>NaN</td>\n      <td>1</td>\n      <td>NaN</td>\n      <td>NaN</td>\n      <td>...</td>\n      <td>0</td>\n      <td>0</td>\n      <td>0.130435</td>\n      <td>1</td>\n      <td>Alive</td>\n      <td>Male</td>\n      <td>1.0</td>\n      <td>1.0</td>\n      <td>NaN</td>\n      <td>NaN</td>\n    </tr>\n    <tr>\n      <th>1945</th>\n      <td>1946</td>\n      <td>0</td>\n      <td>0</td>\n      <td>0.093</td>\n      <td>0.907</td>\n      <td>Tytos Lannister</td>\n      <td>Casterly Rock</td>\n      <td>1</td>\n      <td>NaN</td>\n      <td>220.0</td>\n      <td>...</td>\n      <td>1</td>\n      <td>0</td>\n      <td>0.210702</td>\n      <td>0</td>\n      <td>Dead</td>\n      <td>Male</td>\n      <td>49.0</td>\n      <td>NaN</td>\n      <td>18.0</td>\n      <td>0.367347</td>\n    </tr>\n  </tbody>\n</table>\n<p>5 rows × 39 columns</p>\n</div>"
     },
     "metadata": {},
     "execution_count": 53
    }
   ],
   "source": [
    "got_deaths_df.tail()"
   ]
  },
  {
   "cell_type": "code",
   "execution_count": 55,
   "metadata": {},
   "outputs": [
    {
     "output_type": "display_data",
     "data": {
      "text/plain": "<Figure size 576x396 with 1 Axes>",
      "image/svg+xml": "<?xml version=\"1.0\" encoding=\"utf-8\" standalone=\"no\"?>\n<!DOCTYPE svg PUBLIC \"-//W3C//DTD SVG 1.1//EN\"\n  \"http://www.w3.org/Graphics/SVG/1.1/DTD/svg11.dtd\">\n<!-- Created with matplotlib (https://matplotlib.org/) -->\n<svg height=\"347.085156pt\" version=\"1.1\" viewBox=\"0 0 487.982812 347.085156\" width=\"487.982812pt\" xmlns=\"http://www.w3.org/2000/svg\" xmlns:xlink=\"http://www.w3.org/1999/xlink\">\n <defs>\n  <style type=\"text/css\">\n*{stroke-linecap:butt;stroke-linejoin:round;}\n  </style>\n </defs>\n <g id=\"figure_1\">\n  <g id=\"patch_1\">\n   <path d=\"M 0 347.085156 \nL 487.982812 347.085156 \nL 487.982812 0 \nL 0 0 \nz\n\" style=\"fill:#ffffff;\"/>\n  </g>\n  <g id=\"axes_1\">\n   <g id=\"patch_2\">\n    <path d=\"M 34.382812 306.18 \nL 480.782812 306.18 \nL 480.782812 7.2 \nL 34.382812 7.2 \nz\n\" style=\"fill:#ffffff;\"/>\n   </g>\n   <g id=\"matplotlib.axis_1\">\n    <g id=\"xtick_1\">\n     <g id=\"text_1\">\n      <!-- 0 -->\n      <defs>\n       <path d=\"M 4.15625 35.296875 \nQ 4.15625 48 6.765625 55.734375 \nQ 9.375 63.484375 14.515625 67.671875 \nQ 19.671875 71.875 27.484375 71.875 \nQ 33.25 71.875 37.59375 69.546875 \nQ 41.9375 67.234375 44.765625 62.859375 \nQ 47.609375 58.5 49.21875 52.21875 \nQ 50.828125 45.953125 50.828125 35.296875 \nQ 50.828125 22.703125 48.234375 14.96875 \nQ 45.65625 7.234375 40.5 3 \nQ 35.359375 -1.21875 27.484375 -1.21875 \nQ 17.140625 -1.21875 11.234375 6.203125 \nQ 4.15625 15.140625 4.15625 35.296875 \nz\nM 13.1875 35.296875 \nQ 13.1875 17.671875 17.3125 11.828125 \nQ 21.4375 6 27.484375 6 \nQ 33.546875 6 37.671875 11.859375 \nQ 41.796875 17.71875 41.796875 35.296875 \nQ 41.796875 52.984375 37.671875 58.78125 \nQ 33.546875 64.59375 27.390625 64.59375 \nQ 21.34375 64.59375 17.71875 59.46875 \nQ 13.1875 52.9375 13.1875 35.296875 \nz\n\" id=\"ArialMT-48\"/>\n      </defs>\n      <g style=\"fill:#262626;\" transform=\"translate(51.893253 323.837812)scale(0.1 -0.1)\">\n       <use xlink:href=\"#ArialMT-48\"/>\n      </g>\n     </g>\n    </g>\n    <g id=\"xtick_2\">\n     <g id=\"text_2\">\n      <!-- 20 -->\n      <defs>\n       <path d=\"M 50.34375 8.453125 \nL 50.34375 0 \nL 3.03125 0 \nQ 2.9375 3.171875 4.046875 6.109375 \nQ 5.859375 10.9375 9.828125 15.625 \nQ 13.8125 20.3125 21.34375 26.46875 \nQ 33.015625 36.03125 37.109375 41.625 \nQ 41.21875 47.21875 41.21875 52.203125 \nQ 41.21875 57.421875 37.46875 61 \nQ 33.734375 64.59375 27.734375 64.59375 \nQ 21.390625 64.59375 17.578125 60.78125 \nQ 13.765625 56.984375 13.71875 50.25 \nL 4.6875 51.171875 \nQ 5.609375 61.28125 11.65625 66.578125 \nQ 17.71875 71.875 27.9375 71.875 \nQ 38.234375 71.875 44.234375 66.15625 \nQ 50.25 60.453125 50.25 52 \nQ 50.25 47.703125 48.484375 43.546875 \nQ 46.734375 39.40625 42.65625 34.8125 \nQ 38.578125 30.21875 29.109375 22.21875 \nQ 21.1875 15.578125 18.9375 13.203125 \nQ 16.703125 10.84375 15.234375 8.453125 \nz\n\" id=\"ArialMT-50\"/>\n      </defs>\n      <g style=\"fill:#262626;\" transform=\"translate(130.27642 323.837812)scale(0.1 -0.1)\">\n       <use xlink:href=\"#ArialMT-50\"/>\n       <use x=\"55.615234\" xlink:href=\"#ArialMT-48\"/>\n      </g>\n     </g>\n    </g>\n    <g id=\"xtick_3\">\n     <g id=\"text_3\">\n      <!-- 40 -->\n      <defs>\n       <path d=\"M 32.328125 0 \nL 32.328125 17.140625 \nL 1.265625 17.140625 \nL 1.265625 25.203125 \nL 33.9375 71.578125 \nL 41.109375 71.578125 \nL 41.109375 25.203125 \nL 50.78125 25.203125 \nL 50.78125 17.140625 \nL 41.109375 17.140625 \nL 41.109375 0 \nz\nM 32.328125 25.203125 \nL 32.328125 57.46875 \nL 9.90625 25.203125 \nz\n\" id=\"ArialMT-52\"/>\n      </defs>\n      <g style=\"fill:#262626;\" transform=\"translate(211.440057 323.837812)scale(0.1 -0.1)\">\n       <use xlink:href=\"#ArialMT-52\"/>\n       <use x=\"55.615234\" xlink:href=\"#ArialMT-48\"/>\n      </g>\n     </g>\n    </g>\n    <g id=\"xtick_4\">\n     <g id=\"text_4\">\n      <!-- 60 -->\n      <defs>\n       <path d=\"M 49.75 54.046875 \nL 41.015625 53.375 \nQ 39.84375 58.546875 37.703125 60.890625 \nQ 34.125 64.65625 28.90625 64.65625 \nQ 24.703125 64.65625 21.53125 62.3125 \nQ 17.390625 59.28125 14.984375 53.46875 \nQ 12.59375 47.65625 12.5 36.921875 \nQ 15.671875 41.75 20.265625 44.09375 \nQ 24.859375 46.4375 29.890625 46.4375 \nQ 38.671875 46.4375 44.84375 39.96875 \nQ 51.03125 33.5 51.03125 23.25 \nQ 51.03125 16.5 48.125 10.71875 \nQ 45.21875 4.9375 40.140625 1.859375 \nQ 35.0625 -1.21875 28.609375 -1.21875 \nQ 17.625 -1.21875 10.6875 6.859375 \nQ 3.765625 14.9375 3.765625 33.5 \nQ 3.765625 54.25 11.421875 63.671875 \nQ 18.109375 71.875 29.4375 71.875 \nQ 37.890625 71.875 43.28125 67.140625 \nQ 48.6875 62.40625 49.75 54.046875 \nz\nM 13.875 23.1875 \nQ 13.875 18.65625 15.796875 14.5 \nQ 17.71875 10.359375 21.1875 8.171875 \nQ 24.65625 6 28.46875 6 \nQ 34.03125 6 38.03125 10.484375 \nQ 42.046875 14.984375 42.046875 22.703125 \nQ 42.046875 30.125 38.078125 34.390625 \nQ 34.125 38.671875 28.125 38.671875 \nQ 22.171875 38.671875 18.015625 34.390625 \nQ 13.875 30.125 13.875 23.1875 \nz\n\" id=\"ArialMT-54\"/>\n      </defs>\n      <g style=\"fill:#262626;\" transform=\"translate(292.603693 323.837812)scale(0.1 -0.1)\">\n       <use xlink:href=\"#ArialMT-54\"/>\n       <use x=\"55.615234\" xlink:href=\"#ArialMT-48\"/>\n      </g>\n     </g>\n    </g>\n    <g id=\"xtick_5\">\n     <g id=\"text_5\">\n      <!-- 80 -->\n      <defs>\n       <path d=\"M 17.671875 38.8125 \nQ 12.203125 40.828125 9.5625 44.53125 \nQ 6.9375 48.25 6.9375 53.421875 \nQ 6.9375 61.234375 12.546875 66.546875 \nQ 18.171875 71.875 27.484375 71.875 \nQ 36.859375 71.875 42.578125 66.421875 \nQ 48.296875 60.984375 48.296875 53.171875 \nQ 48.296875 48.1875 45.671875 44.5 \nQ 43.0625 40.828125 37.75 38.8125 \nQ 44.34375 36.671875 47.78125 31.875 \nQ 51.21875 27.09375 51.21875 20.453125 \nQ 51.21875 11.28125 44.71875 5.03125 \nQ 38.234375 -1.21875 27.640625 -1.21875 \nQ 17.046875 -1.21875 10.546875 5.046875 \nQ 4.046875 11.328125 4.046875 20.703125 \nQ 4.046875 27.6875 7.59375 32.390625 \nQ 11.140625 37.109375 17.671875 38.8125 \nz\nM 15.921875 53.71875 \nQ 15.921875 48.640625 19.1875 45.40625 \nQ 22.46875 42.1875 27.6875 42.1875 \nQ 32.765625 42.1875 36.015625 45.375 \nQ 39.265625 48.578125 39.265625 53.21875 \nQ 39.265625 58.0625 35.90625 61.359375 \nQ 32.5625 64.65625 27.59375 64.65625 \nQ 22.5625 64.65625 19.234375 61.421875 \nQ 15.921875 58.203125 15.921875 53.71875 \nz\nM 13.09375 20.65625 \nQ 13.09375 16.890625 14.875 13.375 \nQ 16.65625 9.859375 20.171875 7.921875 \nQ 23.6875 6 27.734375 6 \nQ 34.03125 6 38.125 10.046875 \nQ 42.234375 14.109375 42.234375 20.359375 \nQ 42.234375 26.703125 38.015625 30.859375 \nQ 33.796875 35.015625 27.4375 35.015625 \nQ 21.234375 35.015625 17.15625 30.90625 \nQ 13.09375 26.8125 13.09375 20.65625 \nz\n\" id=\"ArialMT-56\"/>\n      </defs>\n      <g style=\"fill:#262626;\" transform=\"translate(373.76733 323.837812)scale(0.1 -0.1)\">\n       <use xlink:href=\"#ArialMT-56\"/>\n       <use x=\"55.615234\" xlink:href=\"#ArialMT-48\"/>\n      </g>\n     </g>\n    </g>\n    <g id=\"xtick_6\">\n     <g id=\"text_6\">\n      <!-- 100 -->\n      <defs>\n       <path d=\"M 37.25 0 \nL 28.46875 0 \nL 28.46875 56 \nQ 25.296875 52.984375 20.140625 49.953125 \nQ 14.984375 46.921875 10.890625 45.40625 \nL 10.890625 53.90625 \nQ 18.265625 57.375 23.78125 62.296875 \nQ 29.296875 67.234375 31.59375 71.875 \nL 37.25 71.875 \nz\n\" id=\"ArialMT-49\"/>\n      </defs>\n      <g style=\"fill:#262626;\" transform=\"translate(452.150497 323.837812)scale(0.1 -0.1)\">\n       <use xlink:href=\"#ArialMT-49\"/>\n       <use x=\"55.615234\" xlink:href=\"#ArialMT-48\"/>\n       <use x=\"111.230469\" xlink:href=\"#ArialMT-48\"/>\n      </g>\n     </g>\n    </g>\n    <g id=\"text_7\">\n     <!-- age -->\n     <defs>\n      <path d=\"M 40.4375 6.390625 \nQ 35.546875 2.25 31.03125 0.53125 \nQ 26.515625 -1.171875 21.34375 -1.171875 \nQ 12.796875 -1.171875 8.203125 3 \nQ 3.609375 7.171875 3.609375 13.671875 \nQ 3.609375 17.484375 5.34375 20.625 \nQ 7.078125 23.78125 9.890625 25.6875 \nQ 12.703125 27.59375 16.21875 28.5625 \nQ 18.796875 29.25 24.03125 29.890625 \nQ 34.671875 31.15625 39.703125 32.90625 \nQ 39.75 34.71875 39.75 35.203125 \nQ 39.75 40.578125 37.25 42.78125 \nQ 33.890625 45.75 27.25 45.75 \nQ 21.046875 45.75 18.09375 43.578125 \nQ 15.140625 41.40625 13.71875 35.890625 \nL 5.125 37.0625 \nQ 6.296875 42.578125 8.984375 45.96875 \nQ 11.671875 49.359375 16.75 51.1875 \nQ 21.828125 53.03125 28.515625 53.03125 \nQ 35.15625 53.03125 39.296875 51.46875 \nQ 43.453125 49.90625 45.40625 47.53125 \nQ 47.359375 45.171875 48.140625 41.546875 \nQ 48.578125 39.3125 48.578125 33.453125 \nL 48.578125 21.734375 \nQ 48.578125 9.46875 49.140625 6.21875 \nQ 49.703125 2.984375 51.375 0 \nL 42.1875 0 \nQ 40.828125 2.734375 40.4375 6.390625 \nz\nM 39.703125 26.03125 \nQ 34.90625 24.078125 25.34375 22.703125 \nQ 19.921875 21.921875 17.671875 20.9375 \nQ 15.4375 19.96875 14.203125 18.09375 \nQ 12.984375 16.21875 12.984375 13.921875 \nQ 12.984375 10.40625 15.640625 8.0625 \nQ 18.3125 5.71875 23.4375 5.71875 \nQ 28.515625 5.71875 32.46875 7.9375 \nQ 36.421875 10.15625 38.28125 14.015625 \nQ 39.703125 17 39.703125 22.796875 \nz\n\" id=\"ArialMT-97\"/>\n      <path d=\"M 4.984375 -4.296875 \nL 13.53125 -5.5625 \nQ 14.0625 -9.515625 16.5 -11.328125 \nQ 19.78125 -13.765625 25.4375 -13.765625 \nQ 31.546875 -13.765625 34.859375 -11.328125 \nQ 38.1875 -8.890625 39.359375 -4.5 \nQ 40.046875 -1.8125 39.984375 6.78125 \nQ 34.234375 0 25.640625 0 \nQ 14.9375 0 9.078125 7.71875 \nQ 3.21875 15.4375 3.21875 26.21875 \nQ 3.21875 33.640625 5.90625 39.90625 \nQ 8.59375 46.1875 13.6875 49.609375 \nQ 18.796875 53.03125 25.6875 53.03125 \nQ 34.859375 53.03125 40.828125 45.609375 \nL 40.828125 51.859375 \nL 48.921875 51.859375 \nL 48.921875 7.03125 \nQ 48.921875 -5.078125 46.453125 -10.125 \nQ 44 -15.1875 38.640625 -18.109375 \nQ 33.296875 -21.046875 25.484375 -21.046875 \nQ 16.21875 -21.046875 10.5 -16.875 \nQ 4.78125 -12.703125 4.984375 -4.296875 \nz\nM 12.25 26.859375 \nQ 12.25 16.65625 16.296875 11.96875 \nQ 20.359375 7.28125 26.46875 7.28125 \nQ 32.515625 7.28125 36.609375 11.9375 \nQ 40.71875 16.609375 40.71875 26.5625 \nQ 40.71875 36.078125 36.5 40.90625 \nQ 32.28125 45.75 26.3125 45.75 \nQ 20.453125 45.75 16.34375 40.984375 \nQ 12.25 36.234375 12.25 26.859375 \nz\n\" id=\"ArialMT-103\"/>\n      <path d=\"M 42.09375 16.703125 \nL 51.171875 15.578125 \nQ 49.03125 7.625 43.21875 3.21875 \nQ 37.40625 -1.171875 28.375 -1.171875 \nQ 17 -1.171875 10.328125 5.828125 \nQ 3.65625 12.84375 3.65625 25.484375 \nQ 3.65625 38.578125 10.390625 45.796875 \nQ 17.140625 53.03125 27.875 53.03125 \nQ 38.28125 53.03125 44.875 45.953125 \nQ 51.46875 38.875 51.46875 26.03125 \nQ 51.46875 25.25 51.421875 23.6875 \nL 12.75 23.6875 \nQ 13.234375 15.140625 17.578125 10.59375 \nQ 21.921875 6.0625 28.421875 6.0625 \nQ 33.25 6.0625 36.671875 8.59375 \nQ 40.09375 11.140625 42.09375 16.703125 \nz\nM 13.234375 30.90625 \nL 42.1875 30.90625 \nQ 41.609375 37.453125 38.875 40.71875 \nQ 34.671875 45.796875 27.984375 45.796875 \nQ 21.921875 45.796875 17.796875 41.75 \nQ 13.671875 37.703125 13.234375 30.90625 \nz\n\" id=\"ArialMT-101\"/>\n     </defs>\n     <g style=\"fill:#262626;\" transform=\"translate(248.407266 337.57)scale(0.11 -0.11)\">\n      <use xlink:href=\"#ArialMT-97\"/>\n      <use x=\"55.615234\" xlink:href=\"#ArialMT-103\"/>\n      <use x=\"111.230469\" xlink:href=\"#ArialMT-101\"/>\n     </g>\n    </g>\n   </g>\n   <g id=\"matplotlib.axis_2\">\n    <g id=\"ytick_1\">\n     <g id=\"text_8\">\n      <!-- 0 -->\n      <g style=\"fill:#262626;\" transform=\"translate(18.321875 296.168906)scale(0.1 -0.1)\">\n       <use xlink:href=\"#ArialMT-48\"/>\n      </g>\n     </g>\n    </g>\n    <g id=\"ytick_2\">\n     <g id=\"text_9\">\n      <!-- 20 -->\n      <g style=\"fill:#262626;\" transform=\"translate(12.760937 241.808906)scale(0.1 -0.1)\">\n       <use xlink:href=\"#ArialMT-50\"/>\n       <use x=\"55.615234\" xlink:href=\"#ArialMT-48\"/>\n      </g>\n     </g>\n    </g>\n    <g id=\"ytick_3\">\n     <g id=\"text_10\">\n      <!-- 40 -->\n      <g style=\"fill:#262626;\" transform=\"translate(12.760937 187.448906)scale(0.1 -0.1)\">\n       <use xlink:href=\"#ArialMT-52\"/>\n       <use x=\"55.615234\" xlink:href=\"#ArialMT-48\"/>\n      </g>\n     </g>\n    </g>\n    <g id=\"ytick_4\">\n     <g id=\"text_11\">\n      <!-- 60 -->\n      <g style=\"fill:#262626;\" transform=\"translate(12.760937 133.088906)scale(0.1 -0.1)\">\n       <use xlink:href=\"#ArialMT-54\"/>\n       <use x=\"55.615234\" xlink:href=\"#ArialMT-48\"/>\n      </g>\n     </g>\n    </g>\n    <g id=\"ytick_5\">\n     <g id=\"text_12\">\n      <!-- 80 -->\n      <g style=\"fill:#262626;\" transform=\"translate(12.760937 78.728906)scale(0.1 -0.1)\">\n       <use xlink:href=\"#ArialMT-56\"/>\n       <use x=\"55.615234\" xlink:href=\"#ArialMT-48\"/>\n      </g>\n     </g>\n    </g>\n    <g id=\"ytick_6\">\n     <g id=\"text_13\">\n      <!-- 100 -->\n      <g style=\"fill:#262626;\" transform=\"translate(7.2 24.368906)scale(0.1 -0.1)\">\n       <use xlink:href=\"#ArialMT-49\"/>\n       <use x=\"55.615234\" xlink:href=\"#ArialMT-48\"/>\n       <use x=\"111.230469\" xlink:href=\"#ArialMT-48\"/>\n      </g>\n     </g>\n    </g>\n   </g>\n   <g id=\"PathCollection_1\">\n    <defs>\n     <path d=\"M 0 3.5 \nC 0.928211 3.5 1.81853 3.131218 2.474874 2.474874 \nC 3.131218 1.81853 3.5 0.928211 3.5 0 \nC 3.5 -0.928211 3.131218 -1.81853 2.474874 -2.474874 \nC 1.81853 -3.131218 0.928211 -3.5 0 -3.5 \nC -0.928211 -3.5 -1.81853 -3.131218 -2.474874 -2.474874 \nC -3.131218 -1.81853 -3.5 -0.928211 -3.5 0 \nC -3.5 0.928211 -3.131218 1.81853 -2.474874 2.474874 \nC -1.81853 3.131218 -0.928211 3.5 0 3.5 \nz\n\" id=\"m3f74f92fde\" style=\"stroke:#ffffff;stroke-width:0.75;\"/>\n    </defs>\n    <g clip-path=\"url(#p9516160208)\">\n     <use style=\"fill:#1f77b4;stroke:#ffffff;stroke-width:0.75;\" x=\"448.317358\" xlink:href=\"#m3f74f92fde\" y=\"28.944\"/>\n     <use style=\"fill:#1f77b4;stroke:#ffffff;stroke-width:0.75;\" x=\"148.011903\" xlink:href=\"#m3f74f92fde\" y=\"230.076\"/>\n     <use style=\"fill:#1f77b4;stroke:#ffffff;stroke-width:0.75;\" x=\"172.360994\" xlink:href=\"#m3f74f92fde\" y=\"213.768\"/>\n     <use style=\"fill:#1f77b4;stroke:#ffffff;stroke-width:0.75;\" x=\"160.186449\" xlink:href=\"#m3f74f92fde\" y=\"221.922\"/>\n     <use style=\"fill:#1f77b4;stroke:#ffffff;stroke-width:0.75;\" x=\"119.604631\" xlink:href=\"#m3f74f92fde\" y=\"249.102\"/>\n     <use style=\"fill:#1f77b4;stroke:#ffffff;stroke-width:0.75;\" x=\"156.128267\" xlink:href=\"#m3f74f92fde\" y=\"224.64\"/>\n     <use style=\"fill:#1f77b4;stroke:#ffffff;stroke-width:0.75;\" x=\"294.106449\" xlink:href=\"#m3f74f92fde\" y=\"132.228\"/>\n     <use style=\"fill:#1f77b4;stroke:#ffffff;stroke-width:0.75;\" x=\"131.779176\" xlink:href=\"#m3f74f92fde\" y=\"240.948\"/>\n     <use style=\"fill:#1f77b4;stroke:#ffffff;stroke-width:0.75;\" x=\"164.244631\" xlink:href=\"#m3f74f92fde\" y=\"219.204\"/>\n     <use style=\"fill:#1f77b4;stroke:#ffffff;stroke-width:0.75;\" x=\"160.186449\" xlink:href=\"#m3f74f92fde\" y=\"221.922\"/>\n     <use style=\"fill:#1f77b4;stroke:#ffffff;stroke-width:0.75;\" x=\"143.953722\" xlink:href=\"#m3f74f92fde\" y=\"232.794\"/>\n     <use style=\"fill:#1f77b4;stroke:#ffffff;stroke-width:0.75;\" x=\"460.491903\" xlink:href=\"#m3f74f92fde\" y=\"20.79\"/>\n     <use style=\"fill:#1f77b4;stroke:#ffffff;stroke-width:0.75;\" x=\"111.488267\" xlink:href=\"#m3f74f92fde\" y=\"254.538\"/>\n     <use style=\"fill:#1f77b4;stroke:#ffffff;stroke-width:0.75;\" x=\"225.117358\" xlink:href=\"#m3f74f92fde\" y=\"178.434\"/>\n     <use style=\"fill:#1f77b4;stroke:#ffffff;stroke-width:0.75;\" x=\"460.491903\" xlink:href=\"#m3f74f92fde\" y=\"20.79\"/>\n     <use style=\"fill:#1f77b4;stroke:#ffffff;stroke-width:0.75;\" x=\"460.491903\" xlink:href=\"#m3f74f92fde\" y=\"20.79\"/>\n     <use style=\"fill:#1f77b4;stroke:#ffffff;stroke-width:0.75;\" x=\"196.710085\" xlink:href=\"#m3f74f92fde\" y=\"197.46\"/>\n     <use style=\"fill:#1f77b4;stroke:#ffffff;stroke-width:0.75;\" x=\"66.848267\" xlink:href=\"#m3f74f92fde\" y=\"284.436\"/>\n     <use style=\"fill:#1f77b4;stroke:#ffffff;stroke-width:0.75;\" x=\"277.873722\" xlink:href=\"#m3f74f92fde\" y=\"143.1\"/>\n     <use style=\"fill:#1f77b4;stroke:#ffffff;stroke-width:0.75;\" x=\"115.546449\" xlink:href=\"#m3f74f92fde\" y=\"251.82\"/>\n     <use style=\"fill:#1f77b4;stroke:#ffffff;stroke-width:0.75;\" x=\"143.953722\" xlink:href=\"#m3f74f92fde\" y=\"232.794\"/>\n     <use style=\"fill:#1f77b4;stroke:#ffffff;stroke-width:0.75;\" x=\"115.546449\" xlink:href=\"#m3f74f92fde\" y=\"251.82\"/>\n     <use style=\"fill:#1f77b4;stroke:#ffffff;stroke-width:0.75;\" x=\"131.779176\" xlink:href=\"#m3f74f92fde\" y=\"240.948\"/>\n     <use style=\"fill:#1f77b4;stroke:#ffffff;stroke-width:0.75;\" x=\"139.89554\" xlink:href=\"#m3f74f92fde\" y=\"235.512\"/>\n     <use style=\"fill:#1f77b4;stroke:#ffffff;stroke-width:0.75;\" x=\"269.757358\" xlink:href=\"#m3f74f92fde\" y=\"148.536\"/>\n     <use style=\"fill:#1f77b4;stroke:#ffffff;stroke-width:0.75;\" x=\"79.022813\" xlink:href=\"#m3f74f92fde\" y=\"276.282\"/>\n     <use style=\"fill:#1f77b4;stroke:#ffffff;stroke-width:0.75;\" x=\"204.826449\" xlink:href=\"#m3f74f92fde\" y=\"192.024\"/>\n     <use style=\"fill:#1f77b4;stroke:#ffffff;stroke-width:0.75;\" x=\"460.491903\" xlink:href=\"#m3f74f92fde\" y=\"20.79\"/>\n     <use style=\"fill:#1f77b4;stroke:#ffffff;stroke-width:0.75;\" x=\"99.313722\" xlink:href=\"#m3f74f92fde\" y=\"262.692\"/>\n     <use style=\"fill:#1f77b4;stroke:#ffffff;stroke-width:0.75;\" x=\"115.546449\" xlink:href=\"#m3f74f92fde\" y=\"251.82\"/>\n     <use style=\"fill:#1f77b4;stroke:#ffffff;stroke-width:0.75;\" x=\"123.662812\" xlink:href=\"#m3f74f92fde\" y=\"246.384\"/>\n     <use style=\"fill:#1f77b4;stroke:#ffffff;stroke-width:0.75;\" x=\"156.128267\" xlink:href=\"#m3f74f92fde\" y=\"224.64\"/>\n     <use style=\"fill:#1f77b4;stroke:#ffffff;stroke-width:0.75;\" x=\"143.953722\" xlink:href=\"#m3f74f92fde\" y=\"232.794\"/>\n     <use style=\"fill:#1f77b4;stroke:#ffffff;stroke-width:0.75;\" x=\"95.25554\" xlink:href=\"#m3f74f92fde\" y=\"265.41\"/>\n     <use style=\"fill:#1f77b4;stroke:#ffffff;stroke-width:0.75;\" x=\"111.488267\" xlink:href=\"#m3f74f92fde\" y=\"254.538\"/>\n     <use style=\"fill:#1f77b4;stroke:#ffffff;stroke-width:0.75;\" x=\"135.837358\" xlink:href=\"#m3f74f92fde\" y=\"238.23\"/>\n     <use style=\"fill:#1f77b4;stroke:#ffffff;stroke-width:0.75;\" x=\"237.291903\" xlink:href=\"#m3f74f92fde\" y=\"170.28\"/>\n     <use style=\"fill:#1f77b4;stroke:#ffffff;stroke-width:0.75;\" x=\"91.197358\" xlink:href=\"#m3f74f92fde\" y=\"268.128\"/>\n     <use style=\"fill:#1f77b4;stroke:#ffffff;stroke-width:0.75;\" x=\"91.197358\" xlink:href=\"#m3f74f92fde\" y=\"268.128\"/>\n     <use style=\"fill:#1f77b4;stroke:#ffffff;stroke-width:0.75;\" x=\"152.070085\" xlink:href=\"#m3f74f92fde\" y=\"227.358\"/>\n     <use style=\"fill:#1f77b4;stroke:#ffffff;stroke-width:0.75;\" x=\"143.953722\" xlink:href=\"#m3f74f92fde\" y=\"232.794\"/>\n     <use style=\"fill:#1f77b4;stroke:#ffffff;stroke-width:0.75;\" x=\"107.430085\" xlink:href=\"#m3f74f92fde\" y=\"257.256\"/>\n     <use style=\"fill:#1f77b4;stroke:#ffffff;stroke-width:0.75;\" x=\"265.699176\" xlink:href=\"#m3f74f92fde\" y=\"151.254\"/>\n     <use style=\"fill:#1f77b4;stroke:#ffffff;stroke-width:0.75;\" x=\"257.582812\" xlink:href=\"#m3f74f92fde\" y=\"156.69\"/>\n     <use style=\"fill:#1f77b4;stroke:#ffffff;stroke-width:0.75;\" x=\"460.491903\" xlink:href=\"#m3f74f92fde\" y=\"20.79\"/>\n     <use style=\"fill:#1f77b4;stroke:#ffffff;stroke-width:0.75;\" x=\"123.662812\" xlink:href=\"#m3f74f92fde\" y=\"246.384\"/>\n     <use style=\"fill:#1f77b4;stroke:#ffffff;stroke-width:0.75;\" x=\"62.790085\" xlink:href=\"#m3f74f92fde\" y=\"287.154\"/>\n     <use style=\"fill:#1f77b4;stroke:#ffffff;stroke-width:0.75;\" x=\"237.291903\" xlink:href=\"#m3f74f92fde\" y=\"170.28\"/>\n     <use style=\"fill:#1f77b4;stroke:#ffffff;stroke-width:0.75;\" x=\"281.931903\" xlink:href=\"#m3f74f92fde\" y=\"140.382\"/>\n     <use style=\"fill:#1f77b4;stroke:#ffffff;stroke-width:0.75;\" x=\"139.89554\" xlink:href=\"#m3f74f92fde\" y=\"235.512\"/>\n     <use style=\"fill:#1f77b4;stroke:#ffffff;stroke-width:0.75;\" x=\"54.673722\" xlink:href=\"#m3f74f92fde\" y=\"292.59\"/>\n     <use style=\"fill:#1f77b4;stroke:#ffffff;stroke-width:0.75;\" x=\"212.942812\" xlink:href=\"#m3f74f92fde\" y=\"186.588\"/>\n     <use style=\"fill:#1f77b4;stroke:#ffffff;stroke-width:0.75;\" x=\"79.022813\" xlink:href=\"#m3f74f92fde\" y=\"276.282\"/>\n     <use style=\"fill:#1f77b4;stroke:#ffffff;stroke-width:0.75;\" x=\"143.953722\" xlink:href=\"#m3f74f92fde\" y=\"232.794\"/>\n     <use style=\"fill:#1f77b4;stroke:#ffffff;stroke-width:0.75;\" x=\"103.371903\" xlink:href=\"#m3f74f92fde\" y=\"259.974\"/>\n     <use style=\"fill:#1f77b4;stroke:#ffffff;stroke-width:0.75;\" x=\"139.89554\" xlink:href=\"#m3f74f92fde\" y=\"235.512\"/>\n     <use style=\"fill:#1f77b4;stroke:#ffffff;stroke-width:0.75;\" x=\"399.619176\" xlink:href=\"#m3f74f92fde\" y=\"61.56\"/>\n     <use style=\"fill:#1f77b4;stroke:#ffffff;stroke-width:0.75;\" x=\"196.710085\" xlink:href=\"#m3f74f92fde\" y=\"197.46\"/>\n     <use style=\"fill:#1f77b4;stroke:#ffffff;stroke-width:0.75;\" x=\"273.81554\" xlink:href=\"#m3f74f92fde\" y=\"145.818\"/>\n     <use style=\"fill:#1f77b4;stroke:#ffffff;stroke-width:0.75;\" x=\"281.931903\" xlink:href=\"#m3f74f92fde\" y=\"140.382\"/>\n     <use style=\"fill:#1f77b4;stroke:#ffffff;stroke-width:0.75;\" x=\"168.302812\" xlink:href=\"#m3f74f92fde\" y=\"216.486\"/>\n     <use style=\"fill:#1f77b4;stroke:#ffffff;stroke-width:0.75;\" x=\"460.491903\" xlink:href=\"#m3f74f92fde\" y=\"20.79\"/>\n     <use style=\"fill:#1f77b4;stroke:#ffffff;stroke-width:0.75;\" x=\"460.491903\" xlink:href=\"#m3f74f92fde\" y=\"20.79\"/>\n     <use style=\"fill:#1f77b4;stroke:#ffffff;stroke-width:0.75;\" x=\"460.491903\" xlink:href=\"#m3f74f92fde\" y=\"20.79\"/>\n     <use style=\"fill:#1f77b4;stroke:#ffffff;stroke-width:0.75;\" x=\"119.604631\" xlink:href=\"#m3f74f92fde\" y=\"249.102\"/>\n     <use style=\"fill:#1f77b4;stroke:#ffffff;stroke-width:0.75;\" x=\"180.477358\" xlink:href=\"#m3f74f92fde\" y=\"208.332\"/>\n     <use style=\"fill:#1f77b4;stroke:#ffffff;stroke-width:0.75;\" x=\"302.222812\" xlink:href=\"#m3f74f92fde\" y=\"126.792\"/>\n     <use style=\"fill:#1f77b4;stroke:#ffffff;stroke-width:0.75;\" x=\"119.604631\" xlink:href=\"#m3f74f92fde\" y=\"249.102\"/>\n     <use style=\"fill:#1f77b4;stroke:#ffffff;stroke-width:0.75;\" x=\"127.720994\" xlink:href=\"#m3f74f92fde\" y=\"243.666\"/>\n     <use style=\"fill:#1f77b4;stroke:#ffffff;stroke-width:0.75;\" x=\"257.582812\" xlink:href=\"#m3f74f92fde\" y=\"156.69\"/>\n     <use style=\"fill:#1f77b4;stroke:#ffffff;stroke-width:0.75;\" x=\"212.942812\" xlink:href=\"#m3f74f92fde\" y=\"186.588\"/>\n     <use style=\"fill:#1f77b4;stroke:#ffffff;stroke-width:0.75;\" x=\"338.746449\" xlink:href=\"#m3f74f92fde\" y=\"102.33\"/>\n     <use style=\"fill:#1f77b4;stroke:#ffffff;stroke-width:0.75;\" x=\"237.291903\" xlink:href=\"#m3f74f92fde\" y=\"170.28\"/>\n     <use style=\"fill:#1f77b4;stroke:#ffffff;stroke-width:0.75;\" x=\"436.142812\" xlink:href=\"#m3f74f92fde\" y=\"37.098\"/>\n     <use style=\"fill:#1f77b4;stroke:#ffffff;stroke-width:0.75;\" x=\"460.491903\" xlink:href=\"#m3f74f92fde\" y=\"20.79\"/>\n     <use style=\"fill:#1f77b4;stroke:#ffffff;stroke-width:0.75;\" x=\"460.491903\" xlink:href=\"#m3f74f92fde\" y=\"20.79\"/>\n     <use style=\"fill:#1f77b4;stroke:#ffffff;stroke-width:0.75;\" x=\"318.45554\" xlink:href=\"#m3f74f92fde\" y=\"115.92\"/>\n     <use style=\"fill:#1f77b4;stroke:#ffffff;stroke-width:0.75;\" x=\"79.022813\" xlink:href=\"#m3f74f92fde\" y=\"276.282\"/>\n     <use style=\"fill:#1f77b4;stroke:#ffffff;stroke-width:0.75;\" x=\"95.25554\" xlink:href=\"#m3f74f92fde\" y=\"265.41\"/>\n     <use style=\"fill:#1f77b4;stroke:#ffffff;stroke-width:0.75;\" x=\"79.022813\" xlink:href=\"#m3f74f92fde\" y=\"276.282\"/>\n     <use style=\"fill:#1f77b4;stroke:#ffffff;stroke-width:0.75;\" x=\"152.070085\" xlink:href=\"#m3f74f92fde\" y=\"227.358\"/>\n     <use style=\"fill:#1f77b4;stroke:#ffffff;stroke-width:0.75;\" x=\"135.837358\" xlink:href=\"#m3f74f92fde\" y=\"238.23\"/>\n     <use style=\"fill:#1f77b4;stroke:#ffffff;stroke-width:0.75;\" x=\"460.491903\" xlink:href=\"#m3f74f92fde\" y=\"20.79\"/>\n     <use style=\"fill:#1f77b4;stroke:#ffffff;stroke-width:0.75;\" x=\"143.953722\" xlink:href=\"#m3f74f92fde\" y=\"232.794\"/>\n     <use style=\"fill:#1f77b4;stroke:#ffffff;stroke-width:0.75;\" x=\"168.302812\" xlink:href=\"#m3f74f92fde\" y=\"216.486\"/>\n     <use style=\"fill:#1f77b4;stroke:#ffffff;stroke-width:0.75;\" x=\"460.491903\" xlink:href=\"#m3f74f92fde\" y=\"20.79\"/>\n     <use style=\"fill:#1f77b4;stroke:#ffffff;stroke-width:0.75;\" x=\"135.837358\" xlink:href=\"#m3f74f92fde\" y=\"238.23\"/>\n     <use style=\"fill:#1f77b4;stroke:#ffffff;stroke-width:0.75;\" x=\"131.779176\" xlink:href=\"#m3f74f92fde\" y=\"240.948\"/>\n     <use style=\"fill:#1f77b4;stroke:#ffffff;stroke-width:0.75;\" x=\"160.186449\" xlink:href=\"#m3f74f92fde\" y=\"221.922\"/>\n     <use style=\"fill:#1f77b4;stroke:#ffffff;stroke-width:0.75;\" x=\"79.022813\" xlink:href=\"#m3f74f92fde\" y=\"276.282\"/>\n     <use style=\"fill:#1f77b4;stroke:#ffffff;stroke-width:0.75;\" x=\"460.491903\" xlink:href=\"#m3f74f92fde\" y=\"20.79\"/>\n     <use style=\"fill:#1f77b4;stroke:#ffffff;stroke-width:0.75;\" x=\"314.397358\" xlink:href=\"#m3f74f92fde\" y=\"118.638\"/>\n     <use style=\"fill:#1f77b4;stroke:#ffffff;stroke-width:0.75;\" x=\"156.128267\" xlink:href=\"#m3f74f92fde\" y=\"224.64\"/>\n     <use style=\"fill:#1f77b4;stroke:#ffffff;stroke-width:0.75;\" x=\"204.826449\" xlink:href=\"#m3f74f92fde\" y=\"192.024\"/>\n     <use style=\"fill:#1f77b4;stroke:#ffffff;stroke-width:0.75;\" x=\"54.673722\" xlink:href=\"#m3f74f92fde\" y=\"292.59\"/>\n     <use style=\"fill:#1f77b4;stroke:#ffffff;stroke-width:0.75;\" x=\"375.270085\" xlink:href=\"#m3f74f92fde\" y=\"77.868\"/>\n     <use style=\"fill:#1f77b4;stroke:#ffffff;stroke-width:0.75;\" x=\"460.491903\" xlink:href=\"#m3f74f92fde\" y=\"20.79\"/>\n     <use style=\"fill:#1f77b4;stroke:#ffffff;stroke-width:0.75;\" x=\"152.070085\" xlink:href=\"#m3f74f92fde\" y=\"227.358\"/>\n     <use style=\"fill:#1f77b4;stroke:#ffffff;stroke-width:0.75;\" x=\"217.000994\" xlink:href=\"#m3f74f92fde\" y=\"183.87\"/>\n     <use style=\"fill:#1f77b4;stroke:#ffffff;stroke-width:0.75;\" x=\"115.546449\" xlink:href=\"#m3f74f92fde\" y=\"251.82\"/>\n     <use style=\"fill:#1f77b4;stroke:#ffffff;stroke-width:0.75;\" x=\"131.779176\" xlink:href=\"#m3f74f92fde\" y=\"240.948\"/>\n     <use style=\"fill:#1f77b4;stroke:#ffffff;stroke-width:0.75;\" x=\"95.25554\" xlink:href=\"#m3f74f92fde\" y=\"265.41\"/>\n     <use style=\"fill:#1f77b4;stroke:#ffffff;stroke-width:0.75;\" x=\"253.524631\" xlink:href=\"#m3f74f92fde\" y=\"159.408\"/>\n     <use style=\"fill:#1f77b4;stroke:#ffffff;stroke-width:0.75;\" x=\"111.488267\" xlink:href=\"#m3f74f92fde\" y=\"254.538\"/>\n     <use style=\"fill:#1f77b4;stroke:#ffffff;stroke-width:0.75;\" x=\"148.011903\" xlink:href=\"#m3f74f92fde\" y=\"230.076\"/>\n     <use style=\"fill:#1f77b4;stroke:#ffffff;stroke-width:0.75;\" x=\"131.779176\" xlink:href=\"#m3f74f92fde\" y=\"240.948\"/>\n     <use style=\"fill:#1f77b4;stroke:#ffffff;stroke-width:0.75;\" x=\"460.491903\" xlink:href=\"#m3f74f92fde\" y=\"20.79\"/>\n     <use style=\"fill:#1f77b4;stroke:#ffffff;stroke-width:0.75;\" x=\"363.09554\" xlink:href=\"#m3f74f92fde\" y=\"86.022\"/>\n     <use style=\"fill:#1f77b4;stroke:#ffffff;stroke-width:0.75;\" x=\"95.25554\" xlink:href=\"#m3f74f92fde\" y=\"265.41\"/>\n     <use style=\"fill:#1f77b4;stroke:#ffffff;stroke-width:0.75;\" x=\"135.837358\" xlink:href=\"#m3f74f92fde\" y=\"238.23\"/>\n     <use style=\"fill:#1f77b4;stroke:#ffffff;stroke-width:0.75;\" x=\"225.117358\" xlink:href=\"#m3f74f92fde\" y=\"178.434\"/>\n     <use style=\"fill:#1f77b4;stroke:#ffffff;stroke-width:0.75;\" x=\"168.302812\" xlink:href=\"#m3f74f92fde\" y=\"216.486\"/>\n     <use style=\"fill:#1f77b4;stroke:#ffffff;stroke-width:0.75;\" x=\"119.604631\" xlink:href=\"#m3f74f92fde\" y=\"249.102\"/>\n     <use style=\"fill:#1f77b4;stroke:#ffffff;stroke-width:0.75;\" x=\"119.604631\" xlink:href=\"#m3f74f92fde\" y=\"249.102\"/>\n     <use style=\"fill:#1f77b4;stroke:#ffffff;stroke-width:0.75;\" x=\"123.662812\" xlink:href=\"#m3f74f92fde\" y=\"246.384\"/>\n     <use style=\"fill:#1f77b4;stroke:#ffffff;stroke-width:0.75;\" x=\"119.604631\" xlink:href=\"#m3f74f92fde\" y=\"249.102\"/>\n     <use style=\"fill:#1f77b4;stroke:#ffffff;stroke-width:0.75;\" x=\"139.89554\" xlink:href=\"#m3f74f92fde\" y=\"235.512\"/>\n     <use style=\"fill:#1f77b4;stroke:#ffffff;stroke-width:0.75;\" x=\"152.070085\" xlink:href=\"#m3f74f92fde\" y=\"227.358\"/>\n     <use style=\"fill:#1f77b4;stroke:#ffffff;stroke-width:0.75;\" x=\"107.430085\" xlink:href=\"#m3f74f92fde\" y=\"257.256\"/>\n     <use style=\"fill:#1f77b4;stroke:#ffffff;stroke-width:0.75;\" x=\"115.546449\" xlink:href=\"#m3f74f92fde\" y=\"251.82\"/>\n     <use style=\"fill:#1f77b4;stroke:#ffffff;stroke-width:0.75;\" x=\"123.662812\" xlink:href=\"#m3f74f92fde\" y=\"246.384\"/>\n     <use style=\"fill:#1f77b4;stroke:#ffffff;stroke-width:0.75;\" x=\"107.430085\" xlink:href=\"#m3f74f92fde\" y=\"257.256\"/>\n     <use style=\"fill:#1f77b4;stroke:#ffffff;stroke-width:0.75;\" x=\"115.546449\" xlink:href=\"#m3f74f92fde\" y=\"251.82\"/>\n     <use style=\"fill:#1f77b4;stroke:#ffffff;stroke-width:0.75;\" x=\"237.291903\" xlink:href=\"#m3f74f92fde\" y=\"170.28\"/>\n     <use style=\"fill:#1f77b4;stroke:#ffffff;stroke-width:0.75;\" x=\"217.000994\" xlink:href=\"#m3f74f92fde\" y=\"183.87\"/>\n     <use style=\"fill:#1f77b4;stroke:#ffffff;stroke-width:0.75;\" x=\"269.757358\" xlink:href=\"#m3f74f92fde\" y=\"148.536\"/>\n     <use style=\"fill:#1f77b4;stroke:#ffffff;stroke-width:0.75;\" x=\"91.197358\" xlink:href=\"#m3f74f92fde\" y=\"268.128\"/>\n     <use style=\"fill:#1f77b4;stroke:#ffffff;stroke-width:0.75;\" x=\"127.720994\" xlink:href=\"#m3f74f92fde\" y=\"243.666\"/>\n     <use style=\"fill:#1f77b4;stroke:#ffffff;stroke-width:0.75;\" x=\"99.313722\" xlink:href=\"#m3f74f92fde\" y=\"262.692\"/>\n     <use style=\"fill:#1f77b4;stroke:#ffffff;stroke-width:0.75;\" x=\"257.582812\" xlink:href=\"#m3f74f92fde\" y=\"156.69\"/>\n     <use style=\"fill:#1f77b4;stroke:#ffffff;stroke-width:0.75;\" x=\"168.302812\" xlink:href=\"#m3f74f92fde\" y=\"216.486\"/>\n     <use style=\"fill:#1f77b4;stroke:#ffffff;stroke-width:0.75;\" x=\"139.89554\" xlink:href=\"#m3f74f92fde\" y=\"235.512\"/>\n     <use style=\"fill:#1f77b4;stroke:#ffffff;stroke-width:0.75;\" x=\"119.604631\" xlink:href=\"#m3f74f92fde\" y=\"249.102\"/>\n     <use style=\"fill:#1f77b4;stroke:#ffffff;stroke-width:0.75;\" x=\"257.582812\" xlink:href=\"#m3f74f92fde\" y=\"156.69\"/>\n     <use style=\"fill:#1f77b4;stroke:#ffffff;stroke-width:0.75;\" x=\"131.779176\" xlink:href=\"#m3f74f92fde\" y=\"240.948\"/>\n     <use style=\"fill:#1f77b4;stroke:#ffffff;stroke-width:0.75;\" x=\"131.779176\" xlink:href=\"#m3f74f92fde\" y=\"240.948\"/>\n     <use style=\"fill:#1f77b4;stroke:#ffffff;stroke-width:0.75;\" x=\"115.546449\" xlink:href=\"#m3f74f92fde\" y=\"251.82\"/>\n     <use style=\"fill:#1f77b4;stroke:#ffffff;stroke-width:0.75;\" x=\"164.244631\" xlink:href=\"#m3f74f92fde\" y=\"219.204\"/>\n     <use style=\"fill:#1f77b4;stroke:#ffffff;stroke-width:0.75;\" x=\"221.059176\" xlink:href=\"#m3f74f92fde\" y=\"181.152\"/>\n     <use style=\"fill:#1f77b4;stroke:#ffffff;stroke-width:0.75;\" x=\"91.197358\" xlink:href=\"#m3f74f92fde\" y=\"268.128\"/>\n     <use style=\"fill:#1f77b4;stroke:#ffffff;stroke-width:0.75;\" x=\"83.080994\" xlink:href=\"#m3f74f92fde\" y=\"273.564\"/>\n     <use style=\"fill:#1f77b4;stroke:#ffffff;stroke-width:0.75;\" x=\"87.139176\" xlink:href=\"#m3f74f92fde\" y=\"270.846\"/>\n     <use style=\"fill:#1f77b4;stroke:#ffffff;stroke-width:0.75;\" x=\"460.491903\" xlink:href=\"#m3f74f92fde\" y=\"20.79\"/>\n     <use style=\"fill:#1f77b4;stroke:#ffffff;stroke-width:0.75;\" x=\"95.25554\" xlink:href=\"#m3f74f92fde\" y=\"265.41\"/>\n     <use style=\"fill:#1f77b4;stroke:#ffffff;stroke-width:0.75;\" x=\"277.873722\" xlink:href=\"#m3f74f92fde\" y=\"143.1\"/>\n     <use style=\"fill:#1f77b4;stroke:#ffffff;stroke-width:0.75;\" x=\"241.350085\" xlink:href=\"#m3f74f92fde\" y=\"167.562\"/>\n     <use style=\"fill:#1f77b4;stroke:#ffffff;stroke-width:0.75;\" x=\"225.117358\" xlink:href=\"#m3f74f92fde\" y=\"178.434\"/>\n     <use style=\"fill:#1f77b4;stroke:#ffffff;stroke-width:0.75;\" x=\"152.070085\" xlink:href=\"#m3f74f92fde\" y=\"227.358\"/>\n     <use style=\"fill:#1f77b4;stroke:#ffffff;stroke-width:0.75;\" x=\"176.419176\" xlink:href=\"#m3f74f92fde\" y=\"211.05\"/>\n     <use style=\"fill:#1f77b4;stroke:#ffffff;stroke-width:0.75;\" x=\"261.640994\" xlink:href=\"#m3f74f92fde\" y=\"153.972\"/>\n     <use style=\"fill:#1f77b4;stroke:#ffffff;stroke-width:0.75;\" x=\"127.720994\" xlink:href=\"#m3f74f92fde\" y=\"243.666\"/>\n     <use style=\"fill:#1f77b4;stroke:#ffffff;stroke-width:0.75;\" x=\"359.037358\" xlink:href=\"#m3f74f92fde\" y=\"88.74\"/>\n     <use style=\"fill:#1f77b4;stroke:#ffffff;stroke-width:0.75;\" x=\"91.197358\" xlink:href=\"#m3f74f92fde\" y=\"268.128\"/>\n     <use style=\"fill:#1f77b4;stroke:#ffffff;stroke-width:0.75;\" x=\"212.942812\" xlink:href=\"#m3f74f92fde\" y=\"186.588\"/>\n     <use style=\"fill:#1f77b4;stroke:#ffffff;stroke-width:0.75;\" x=\"103.371903\" xlink:href=\"#m3f74f92fde\" y=\"259.974\"/>\n     <use style=\"fill:#1f77b4;stroke:#ffffff;stroke-width:0.75;\" x=\"115.546449\" xlink:href=\"#m3f74f92fde\" y=\"251.82\"/>\n     <use style=\"fill:#1f77b4;stroke:#ffffff;stroke-width:0.75;\" x=\"460.491903\" xlink:href=\"#m3f74f92fde\" y=\"20.79\"/>\n     <use style=\"fill:#1f77b4;stroke:#ffffff;stroke-width:0.75;\" x=\"91.197358\" xlink:href=\"#m3f74f92fde\" y=\"268.128\"/>\n     <use style=\"fill:#1f77b4;stroke:#ffffff;stroke-width:0.75;\" x=\"111.488267\" xlink:href=\"#m3f74f92fde\" y=\"254.538\"/>\n     <use style=\"fill:#1f77b4;stroke:#ffffff;stroke-width:0.75;\" x=\"164.244631\" xlink:href=\"#m3f74f92fde\" y=\"219.204\"/>\n     <use style=\"fill:#1f77b4;stroke:#ffffff;stroke-width:0.75;\" x=\"123.662812\" xlink:href=\"#m3f74f92fde\" y=\"246.384\"/>\n     <use style=\"fill:#1f77b4;stroke:#ffffff;stroke-width:0.75;\" x=\"387.444631\" xlink:href=\"#m3f74f92fde\" y=\"69.714\"/>\n     <use style=\"fill:#1f77b4;stroke:#ffffff;stroke-width:0.75;\" x=\"273.81554\" xlink:href=\"#m3f74f92fde\" y=\"145.818\"/>\n     <use style=\"fill:#1f77b4;stroke:#ffffff;stroke-width:0.75;\" x=\"135.837358\" xlink:href=\"#m3f74f92fde\" y=\"238.23\"/>\n     <use style=\"fill:#1f77b4;stroke:#ffffff;stroke-width:0.75;\" x=\"229.17554\" xlink:href=\"#m3f74f92fde\" y=\"175.716\"/>\n     <use style=\"fill:#1f77b4;stroke:#ffffff;stroke-width:0.75;\" x=\"131.779176\" xlink:href=\"#m3f74f92fde\" y=\"240.948\"/>\n     <use style=\"fill:#1f77b4;stroke:#ffffff;stroke-width:0.75;\" x=\"241.350085\" xlink:href=\"#m3f74f92fde\" y=\"167.562\"/>\n     <use style=\"fill:#1f77b4;stroke:#ffffff;stroke-width:0.75;\" x=\"103.371903\" xlink:href=\"#m3f74f92fde\" y=\"259.974\"/>\n     <use style=\"fill:#1f77b4;stroke:#ffffff;stroke-width:0.75;\" x=\"281.931903\" xlink:href=\"#m3f74f92fde\" y=\"140.382\"/>\n     <use style=\"fill:#1f77b4;stroke:#ffffff;stroke-width:0.75;\" x=\"143.953722\" xlink:href=\"#m3f74f92fde\" y=\"232.794\"/>\n     <use style=\"fill:#1f77b4;stroke:#ffffff;stroke-width:0.75;\" x=\"115.546449\" xlink:href=\"#m3f74f92fde\" y=\"251.82\"/>\n     <use style=\"fill:#1f77b4;stroke:#ffffff;stroke-width:0.75;\" x=\"383.386449\" xlink:href=\"#m3f74f92fde\" y=\"72.432\"/>\n     <use style=\"fill:#1f77b4;stroke:#ffffff;stroke-width:0.75;\" x=\"91.197358\" xlink:href=\"#m3f74f92fde\" y=\"268.128\"/>\n     <use style=\"fill:#1f77b4;stroke:#ffffff;stroke-width:0.75;\" x=\"139.89554\" xlink:href=\"#m3f74f92fde\" y=\"235.512\"/>\n     <use style=\"fill:#1f77b4;stroke:#ffffff;stroke-width:0.75;\" x=\"221.059176\" xlink:href=\"#m3f74f92fde\" y=\"181.152\"/>\n     <use style=\"fill:#1f77b4;stroke:#ffffff;stroke-width:0.75;\" x=\"212.942812\" xlink:href=\"#m3f74f92fde\" y=\"186.588\"/>\n     <use style=\"fill:#1f77b4;stroke:#ffffff;stroke-width:0.75;\" x=\"298.164631\" xlink:href=\"#m3f74f92fde\" y=\"129.51\"/>\n     <use style=\"fill:#1f77b4;stroke:#ffffff;stroke-width:0.75;\" x=\"127.720994\" xlink:href=\"#m3f74f92fde\" y=\"243.666\"/>\n     <use style=\"fill:#1f77b4;stroke:#ffffff;stroke-width:0.75;\" x=\"281.931903\" xlink:href=\"#m3f74f92fde\" y=\"140.382\"/>\n     <use style=\"fill:#1f77b4;stroke:#ffffff;stroke-width:0.75;\" x=\"237.291903\" xlink:href=\"#m3f74f92fde\" y=\"170.28\"/>\n     <use style=\"fill:#1f77b4;stroke:#ffffff;stroke-width:0.75;\" x=\"241.350085\" xlink:href=\"#m3f74f92fde\" y=\"167.562\"/>\n     <use style=\"fill:#1f77b4;stroke:#ffffff;stroke-width:0.75;\" x=\"273.81554\" xlink:href=\"#m3f74f92fde\" y=\"145.818\"/>\n     <use style=\"fill:#1f77b4;stroke:#ffffff;stroke-width:0.75;\" x=\"168.302812\" xlink:href=\"#m3f74f92fde\" y=\"216.486\"/>\n     <use style=\"fill:#1f77b4;stroke:#ffffff;stroke-width:0.75;\" x=\"281.931903\" xlink:href=\"#m3f74f92fde\" y=\"140.382\"/>\n     <use style=\"fill:#1f77b4;stroke:#ffffff;stroke-width:0.75;\" x=\"139.89554\" xlink:href=\"#m3f74f92fde\" y=\"235.512\"/>\n     <use style=\"fill:#1f77b4;stroke:#ffffff;stroke-width:0.75;\" x=\"229.17554\" xlink:href=\"#m3f74f92fde\" y=\"175.716\"/>\n     <use style=\"fill:#1f77b4;stroke:#ffffff;stroke-width:0.75;\" x=\"131.779176\" xlink:href=\"#m3f74f92fde\" y=\"240.948\"/>\n     <use style=\"fill:#1f77b4;stroke:#ffffff;stroke-width:0.75;\" x=\"143.953722\" xlink:href=\"#m3f74f92fde\" y=\"232.794\"/>\n     <use style=\"fill:#1f77b4;stroke:#ffffff;stroke-width:0.75;\" x=\"156.128267\" xlink:href=\"#m3f74f92fde\" y=\"224.64\"/>\n     <use style=\"fill:#1f77b4;stroke:#ffffff;stroke-width:0.75;\" x=\"135.837358\" xlink:href=\"#m3f74f92fde\" y=\"238.23\"/>\n     <use style=\"fill:#1f77b4;stroke:#ffffff;stroke-width:0.75;\" x=\"99.313722\" xlink:href=\"#m3f74f92fde\" y=\"262.692\"/>\n     <use style=\"fill:#1f77b4;stroke:#ffffff;stroke-width:0.75;\" x=\"131.779176\" xlink:href=\"#m3f74f92fde\" y=\"240.948\"/>\n     <use style=\"fill:#1f77b4;stroke:#ffffff;stroke-width:0.75;\" x=\"123.662812\" xlink:href=\"#m3f74f92fde\" y=\"246.384\"/>\n     <use style=\"fill:#1f77b4;stroke:#ffffff;stroke-width:0.75;\" x=\"103.371903\" xlink:href=\"#m3f74f92fde\" y=\"259.974\"/>\n     <use style=\"fill:#1f77b4;stroke:#ffffff;stroke-width:0.75;\" x=\"204.826449\" xlink:href=\"#m3f74f92fde\" y=\"192.024\"/>\n     <use style=\"fill:#1f77b4;stroke:#ffffff;stroke-width:0.75;\" x=\"245.408267\" xlink:href=\"#m3f74f92fde\" y=\"164.844\"/>\n     <use style=\"fill:#1f77b4;stroke:#ffffff;stroke-width:0.75;\" x=\"152.070085\" xlink:href=\"#m3f74f92fde\" y=\"227.358\"/>\n     <use style=\"fill:#1f77b4;stroke:#ffffff;stroke-width:0.75;\" x=\"87.139176\" xlink:href=\"#m3f74f92fde\" y=\"270.846\"/>\n     <use style=\"fill:#1f77b4;stroke:#ffffff;stroke-width:0.75;\" x=\"334.688267\" xlink:href=\"#m3f74f92fde\" y=\"105.048\"/>\n     <use style=\"fill:#1f77b4;stroke:#ffffff;stroke-width:0.75;\" x=\"221.059176\" xlink:href=\"#m3f74f92fde\" y=\"181.152\"/>\n     <use style=\"fill:#1f77b4;stroke:#ffffff;stroke-width:0.75;\" x=\"314.397358\" xlink:href=\"#m3f74f92fde\" y=\"118.638\"/>\n     <use style=\"fill:#1f77b4;stroke:#ffffff;stroke-width:0.75;\" x=\"99.313722\" xlink:href=\"#m3f74f92fde\" y=\"262.692\"/>\n     <use style=\"fill:#1f77b4;stroke:#ffffff;stroke-width:0.75;\" x=\"200.768267\" xlink:href=\"#m3f74f92fde\" y=\"194.742\"/>\n     <use style=\"fill:#1f77b4;stroke:#ffffff;stroke-width:0.75;\" x=\"221.059176\" xlink:href=\"#m3f74f92fde\" y=\"181.152\"/>\n     <use style=\"fill:#1f77b4;stroke:#ffffff;stroke-width:0.75;\" x=\"91.197358\" xlink:href=\"#m3f74f92fde\" y=\"268.128\"/>\n     <use style=\"fill:#1f77b4;stroke:#ffffff;stroke-width:0.75;\" x=\"95.25554\" xlink:href=\"#m3f74f92fde\" y=\"265.41\"/>\n     <use style=\"fill:#1f77b4;stroke:#ffffff;stroke-width:0.75;\" x=\"131.779176\" xlink:href=\"#m3f74f92fde\" y=\"240.948\"/>\n     <use style=\"fill:#1f77b4;stroke:#ffffff;stroke-width:0.75;\" x=\"330.630085\" xlink:href=\"#m3f74f92fde\" y=\"107.766\"/>\n     <use style=\"fill:#1f77b4;stroke:#ffffff;stroke-width:0.75;\" x=\"99.313722\" xlink:href=\"#m3f74f92fde\" y=\"262.692\"/>\n     <use style=\"fill:#1f77b4;stroke:#ffffff;stroke-width:0.75;\" x=\"460.491903\" xlink:href=\"#m3f74f92fde\" y=\"20.79\"/>\n     <use style=\"fill:#1f77b4;stroke:#ffffff;stroke-width:0.75;\" x=\"127.720994\" xlink:href=\"#m3f74f92fde\" y=\"243.666\"/>\n     <use style=\"fill:#1f77b4;stroke:#ffffff;stroke-width:0.75;\" x=\"135.837358\" xlink:href=\"#m3f74f92fde\" y=\"238.23\"/>\n     <use style=\"fill:#1f77b4;stroke:#ffffff;stroke-width:0.75;\" x=\"298.164631\" xlink:href=\"#m3f74f92fde\" y=\"129.51\"/>\n     <use style=\"fill:#1f77b4;stroke:#ffffff;stroke-width:0.75;\" x=\"135.837358\" xlink:href=\"#m3f74f92fde\" y=\"238.23\"/>\n     <use style=\"fill:#1f77b4;stroke:#ffffff;stroke-width:0.75;\" x=\"107.430085\" xlink:href=\"#m3f74f92fde\" y=\"257.256\"/>\n     <use style=\"fill:#1f77b4;stroke:#ffffff;stroke-width:0.75;\" x=\"119.604631\" xlink:href=\"#m3f74f92fde\" y=\"249.102\"/>\n     <use style=\"fill:#1f77b4;stroke:#ffffff;stroke-width:0.75;\" x=\"103.371903\" xlink:href=\"#m3f74f92fde\" y=\"259.974\"/>\n     <use style=\"fill:#1f77b4;stroke:#ffffff;stroke-width:0.75;\" x=\"225.117358\" xlink:href=\"#m3f74f92fde\" y=\"178.434\"/>\n     <use style=\"fill:#1f77b4;stroke:#ffffff;stroke-width:0.75;\" x=\"249.466449\" xlink:href=\"#m3f74f92fde\" y=\"162.126\"/>\n     <use style=\"fill:#1f77b4;stroke:#ffffff;stroke-width:0.75;\" x=\"135.837358\" xlink:href=\"#m3f74f92fde\" y=\"238.23\"/>\n     <use style=\"fill:#1f77b4;stroke:#ffffff;stroke-width:0.75;\" x=\"253.524631\" xlink:href=\"#m3f74f92fde\" y=\"159.408\"/>\n     <use style=\"fill:#1f77b4;stroke:#ffffff;stroke-width:0.75;\" x=\"200.768267\" xlink:href=\"#m3f74f92fde\" y=\"194.742\"/>\n     <use style=\"fill:#1f77b4;stroke:#ffffff;stroke-width:0.75;\" x=\"107.430085\" xlink:href=\"#m3f74f92fde\" y=\"257.256\"/>\n     <use style=\"fill:#1f77b4;stroke:#ffffff;stroke-width:0.75;\" x=\"107.430085\" xlink:href=\"#m3f74f92fde\" y=\"257.256\"/>\n     <use style=\"fill:#1f77b4;stroke:#ffffff;stroke-width:0.75;\" x=\"208.884631\" xlink:href=\"#m3f74f92fde\" y=\"189.306\"/>\n     <use style=\"fill:#1f77b4;stroke:#ffffff;stroke-width:0.75;\" x=\"127.720994\" xlink:href=\"#m3f74f92fde\" y=\"243.666\"/>\n     <use style=\"fill:#1f77b4;stroke:#ffffff;stroke-width:0.75;\" x=\"330.630085\" xlink:href=\"#m3f74f92fde\" y=\"107.766\"/>\n     <use style=\"fill:#1f77b4;stroke:#ffffff;stroke-width:0.75;\" x=\"460.491903\" xlink:href=\"#m3f74f92fde\" y=\"20.79\"/>\n     <use style=\"fill:#1f77b4;stroke:#ffffff;stroke-width:0.75;\" x=\"99.313722\" xlink:href=\"#m3f74f92fde\" y=\"262.692\"/>\n     <use style=\"fill:#1f77b4;stroke:#ffffff;stroke-width:0.75;\" x=\"99.313722\" xlink:href=\"#m3f74f92fde\" y=\"262.692\"/>\n     <use style=\"fill:#1f77b4;stroke:#ffffff;stroke-width:0.75;\" x=\"103.371903\" xlink:href=\"#m3f74f92fde\" y=\"259.974\"/>\n     <use style=\"fill:#1f77b4;stroke:#ffffff;stroke-width:0.75;\" x=\"115.546449\" xlink:href=\"#m3f74f92fde\" y=\"251.82\"/>\n     <use style=\"fill:#1f77b4;stroke:#ffffff;stroke-width:0.75;\" x=\"225.117358\" xlink:href=\"#m3f74f92fde\" y=\"178.434\"/>\n     <use style=\"fill:#1f77b4;stroke:#ffffff;stroke-width:0.75;\" x=\"281.931903\" xlink:href=\"#m3f74f92fde\" y=\"140.382\"/>\n     <use style=\"fill:#1f77b4;stroke:#ffffff;stroke-width:0.75;\" x=\"119.604631\" xlink:href=\"#m3f74f92fde\" y=\"249.102\"/>\n     <use style=\"fill:#1f77b4;stroke:#ffffff;stroke-width:0.75;\" x=\"131.779176\" xlink:href=\"#m3f74f92fde\" y=\"240.948\"/>\n     <use style=\"fill:#1f77b4;stroke:#ffffff;stroke-width:0.75;\" x=\"208.884631\" xlink:href=\"#m3f74f92fde\" y=\"189.306\"/>\n     <use style=\"fill:#1f77b4;stroke:#ffffff;stroke-width:0.75;\" x=\"188.593722\" xlink:href=\"#m3f74f92fde\" y=\"202.896\"/>\n     <use style=\"fill:#1f77b4;stroke:#ffffff;stroke-width:0.75;\" x=\"111.488267\" xlink:href=\"#m3f74f92fde\" y=\"254.538\"/>\n     <use style=\"fill:#1f77b4;stroke:#ffffff;stroke-width:0.75;\" x=\"119.604631\" xlink:href=\"#m3f74f92fde\" y=\"249.102\"/>\n     <use style=\"fill:#1f77b4;stroke:#ffffff;stroke-width:0.75;\" x=\"403.677358\" xlink:href=\"#m3f74f92fde\" y=\"58.842\"/>\n     <use style=\"fill:#1f77b4;stroke:#ffffff;stroke-width:0.75;\" x=\"127.720994\" xlink:href=\"#m3f74f92fde\" y=\"243.666\"/>\n     <use style=\"fill:#1f77b4;stroke:#ffffff;stroke-width:0.75;\" x=\"135.837358\" xlink:href=\"#m3f74f92fde\" y=\"238.23\"/>\n     <use style=\"fill:#1f77b4;stroke:#ffffff;stroke-width:0.75;\" x=\"334.688267\" xlink:href=\"#m3f74f92fde\" y=\"105.048\"/>\n     <use style=\"fill:#1f77b4;stroke:#ffffff;stroke-width:0.75;\" x=\"298.164631\" xlink:href=\"#m3f74f92fde\" y=\"129.51\"/>\n     <use style=\"fill:#1f77b4;stroke:#ffffff;stroke-width:0.75;\" x=\"221.059176\" xlink:href=\"#m3f74f92fde\" y=\"181.152\"/>\n     <use style=\"fill:#1f77b4;stroke:#ffffff;stroke-width:0.75;\" x=\"135.837358\" xlink:href=\"#m3f74f92fde\" y=\"238.23\"/>\n     <use style=\"fill:#1f77b4;stroke:#ffffff;stroke-width:0.75;\" x=\"148.011903\" xlink:href=\"#m3f74f92fde\" y=\"230.076\"/>\n     <use style=\"fill:#1f77b4;stroke:#ffffff;stroke-width:0.75;\" x=\"119.604631\" xlink:href=\"#m3f74f92fde\" y=\"249.102\"/>\n     <use style=\"fill:#1f77b4;stroke:#ffffff;stroke-width:0.75;\" x=\"168.302812\" xlink:href=\"#m3f74f92fde\" y=\"216.486\"/>\n     <use style=\"fill:#1f77b4;stroke:#ffffff;stroke-width:0.75;\" x=\"127.720994\" xlink:href=\"#m3f74f92fde\" y=\"243.666\"/>\n     <use style=\"fill:#1f77b4;stroke:#ffffff;stroke-width:0.75;\" x=\"115.546449\" xlink:href=\"#m3f74f92fde\" y=\"251.82\"/>\n     <use style=\"fill:#1f77b4;stroke:#ffffff;stroke-width:0.75;\" x=\"221.059176\" xlink:href=\"#m3f74f92fde\" y=\"181.152\"/>\n     <use style=\"fill:#1f77b4;stroke:#ffffff;stroke-width:0.75;\" x=\"212.942812\" xlink:href=\"#m3f74f92fde\" y=\"186.588\"/>\n     <use style=\"fill:#1f77b4;stroke:#ffffff;stroke-width:0.75;\" x=\"318.45554\" xlink:href=\"#m3f74f92fde\" y=\"115.92\"/>\n     <use style=\"fill:#1f77b4;stroke:#ffffff;stroke-width:0.75;\" x=\"379.328267\" xlink:href=\"#m3f74f92fde\" y=\"75.15\"/>\n     <use style=\"fill:#1f77b4;stroke:#ffffff;stroke-width:0.75;\" x=\"290.048267\" xlink:href=\"#m3f74f92fde\" y=\"134.946\"/>\n     <use style=\"fill:#1f77b4;stroke:#ffffff;stroke-width:0.75;\" x=\"127.720994\" xlink:href=\"#m3f74f92fde\" y=\"243.666\"/>\n     <use style=\"fill:#1f77b4;stroke:#ffffff;stroke-width:0.75;\" x=\"241.350085\" xlink:href=\"#m3f74f92fde\" y=\"167.562\"/>\n     <use style=\"fill:#1f77b4;stroke:#ffffff;stroke-width:0.75;\" x=\"367.153722\" xlink:href=\"#m3f74f92fde\" y=\"83.304\"/>\n     <use style=\"fill:#1f77b4;stroke:#ffffff;stroke-width:0.75;\" x=\"330.630085\" xlink:href=\"#m3f74f92fde\" y=\"107.766\"/>\n     <use style=\"fill:#1f77b4;stroke:#ffffff;stroke-width:0.75;\" x=\"176.419176\" xlink:href=\"#m3f74f92fde\" y=\"211.05\"/>\n     <use style=\"fill:#1f77b4;stroke:#ffffff;stroke-width:0.75;\" x=\"148.011903\" xlink:href=\"#m3f74f92fde\" y=\"230.076\"/>\n     <use style=\"fill:#1f77b4;stroke:#ffffff;stroke-width:0.75;\" x=\"152.070085\" xlink:href=\"#m3f74f92fde\" y=\"227.358\"/>\n     <use style=\"fill:#1f77b4;stroke:#ffffff;stroke-width:0.75;\" x=\"139.89554\" xlink:href=\"#m3f74f92fde\" y=\"235.512\"/>\n     <use style=\"fill:#1f77b4;stroke:#ffffff;stroke-width:0.75;\" x=\"314.397358\" xlink:href=\"#m3f74f92fde\" y=\"118.638\"/>\n     <use style=\"fill:#1f77b4;stroke:#ffffff;stroke-width:0.75;\" x=\"143.953722\" xlink:href=\"#m3f74f92fde\" y=\"232.794\"/>\n     <use style=\"fill:#1f77b4;stroke:#ffffff;stroke-width:0.75;\" x=\"265.699176\" xlink:href=\"#m3f74f92fde\" y=\"151.254\"/>\n     <use style=\"fill:#1f77b4;stroke:#ffffff;stroke-width:0.75;\" x=\"460.491903\" xlink:href=\"#m3f74f92fde\" y=\"20.79\"/>\n     <use style=\"fill:#1f77b4;stroke:#ffffff;stroke-width:0.75;\" x=\"139.89554\" xlink:href=\"#m3f74f92fde\" y=\"235.512\"/>\n     <use style=\"fill:#1f77b4;stroke:#ffffff;stroke-width:0.75;\" x=\"261.640994\" xlink:href=\"#m3f74f92fde\" y=\"153.972\"/>\n     <use style=\"fill:#1f77b4;stroke:#ffffff;stroke-width:0.75;\" x=\"148.011903\" xlink:href=\"#m3f74f92fde\" y=\"230.076\"/>\n     <use style=\"fill:#1f77b4;stroke:#ffffff;stroke-width:0.75;\" x=\"148.011903\" xlink:href=\"#m3f74f92fde\" y=\"230.076\"/>\n     <use style=\"fill:#1f77b4;stroke:#ffffff;stroke-width:0.75;\" x=\"217.000994\" xlink:href=\"#m3f74f92fde\" y=\"183.87\"/>\n     <use style=\"fill:#1f77b4;stroke:#ffffff;stroke-width:0.75;\" x=\"123.662812\" xlink:href=\"#m3f74f92fde\" y=\"246.384\"/>\n     <use style=\"fill:#1f77b4;stroke:#ffffff;stroke-width:0.75;\" x=\"253.524631\" xlink:href=\"#m3f74f92fde\" y=\"159.408\"/>\n     <use style=\"fill:#1f77b4;stroke:#ffffff;stroke-width:0.75;\" x=\"139.89554\" xlink:href=\"#m3f74f92fde\" y=\"235.512\"/>\n     <use style=\"fill:#1f77b4;stroke:#ffffff;stroke-width:0.75;\" x=\"143.953722\" xlink:href=\"#m3f74f92fde\" y=\"232.794\"/>\n     <use style=\"fill:#1f77b4;stroke:#ffffff;stroke-width:0.75;\" x=\"103.371903\" xlink:href=\"#m3f74f92fde\" y=\"259.974\"/>\n     <use style=\"fill:#1f77b4;stroke:#ffffff;stroke-width:0.75;\" x=\"460.491903\" xlink:href=\"#m3f74f92fde\" y=\"20.79\"/>\n     <use style=\"fill:#1f77b4;stroke:#ffffff;stroke-width:0.75;\" x=\"208.884631\" xlink:href=\"#m3f74f92fde\" y=\"189.306\"/>\n     <use style=\"fill:#1f77b4;stroke:#ffffff;stroke-width:0.75;\" x=\"123.662812\" xlink:href=\"#m3f74f92fde\" y=\"246.384\"/>\n     <use style=\"fill:#1f77b4;stroke:#ffffff;stroke-width:0.75;\" x=\"79.022813\" xlink:href=\"#m3f74f92fde\" y=\"276.282\"/>\n     <use style=\"fill:#1f77b4;stroke:#ffffff;stroke-width:0.75;\" x=\"160.186449\" xlink:href=\"#m3f74f92fde\" y=\"221.922\"/>\n     <use style=\"fill:#1f77b4;stroke:#ffffff;stroke-width:0.75;\" x=\"115.546449\" xlink:href=\"#m3f74f92fde\" y=\"251.82\"/>\n     <use style=\"fill:#1f77b4;stroke:#ffffff;stroke-width:0.75;\" x=\"180.477358\" xlink:href=\"#m3f74f92fde\" y=\"208.332\"/>\n     <use style=\"fill:#1f77b4;stroke:#ffffff;stroke-width:0.75;\" x=\"229.17554\" xlink:href=\"#m3f74f92fde\" y=\"175.716\"/>\n     <use style=\"fill:#1f77b4;stroke:#ffffff;stroke-width:0.75;\" x=\"127.720994\" xlink:href=\"#m3f74f92fde\" y=\"243.666\"/>\n     <use style=\"fill:#1f77b4;stroke:#ffffff;stroke-width:0.75;\" x=\"367.153722\" xlink:href=\"#m3f74f92fde\" y=\"83.304\"/>\n     <use style=\"fill:#1f77b4;stroke:#ffffff;stroke-width:0.75;\" x=\"131.779176\" xlink:href=\"#m3f74f92fde\" y=\"240.948\"/>\n     <use style=\"fill:#1f77b4;stroke:#ffffff;stroke-width:0.75;\" x=\"131.779176\" xlink:href=\"#m3f74f92fde\" y=\"240.948\"/>\n     <use style=\"fill:#1f77b4;stroke:#ffffff;stroke-width:0.75;\" x=\"184.53554\" xlink:href=\"#m3f74f92fde\" y=\"205.614\"/>\n     <use style=\"fill:#1f77b4;stroke:#ffffff;stroke-width:0.75;\" x=\"395.560994\" xlink:href=\"#m3f74f92fde\" y=\"64.278\"/>\n     <use style=\"fill:#1f77b4;stroke:#ffffff;stroke-width:0.75;\" x=\"131.779176\" xlink:href=\"#m3f74f92fde\" y=\"240.948\"/>\n     <use style=\"fill:#1f77b4;stroke:#ffffff;stroke-width:0.75;\" x=\"148.011903\" xlink:href=\"#m3f74f92fde\" y=\"230.076\"/>\n     <use style=\"fill:#1f77b4;stroke:#ffffff;stroke-width:0.75;\" x=\"103.371903\" xlink:href=\"#m3f74f92fde\" y=\"259.974\"/>\n     <use style=\"fill:#1f77b4;stroke:#ffffff;stroke-width:0.75;\" x=\"119.604631\" xlink:href=\"#m3f74f92fde\" y=\"249.102\"/>\n     <use style=\"fill:#1f77b4;stroke:#ffffff;stroke-width:0.75;\" x=\"103.371903\" xlink:href=\"#m3f74f92fde\" y=\"259.974\"/>\n     <use style=\"fill:#1f77b4;stroke:#ffffff;stroke-width:0.75;\" x=\"200.768267\" xlink:href=\"#m3f74f92fde\" y=\"194.742\"/>\n     <use style=\"fill:#1f77b4;stroke:#ffffff;stroke-width:0.75;\" x=\"148.011903\" xlink:href=\"#m3f74f92fde\" y=\"230.076\"/>\n     <use style=\"fill:#1f77b4;stroke:#ffffff;stroke-width:0.75;\" x=\"184.53554\" xlink:href=\"#m3f74f92fde\" y=\"205.614\"/>\n     <use style=\"fill:#1f77b4;stroke:#ffffff;stroke-width:0.75;\" x=\"249.466449\" xlink:href=\"#m3f74f92fde\" y=\"162.126\"/>\n     <use style=\"fill:#1f77b4;stroke:#ffffff;stroke-width:0.75;\" x=\"298.164631\" xlink:href=\"#m3f74f92fde\" y=\"129.51\"/>\n     <use style=\"fill:#1f77b4;stroke:#ffffff;stroke-width:0.75;\" x=\"249.466449\" xlink:href=\"#m3f74f92fde\" y=\"162.126\"/>\n     <use style=\"fill:#1f77b4;stroke:#ffffff;stroke-width:0.75;\" x=\"176.419176\" xlink:href=\"#m3f74f92fde\" y=\"211.05\"/>\n     <use style=\"fill:#1f77b4;stroke:#ffffff;stroke-width:0.75;\" x=\"460.491903\" xlink:href=\"#m3f74f92fde\" y=\"20.79\"/>\n     <use style=\"fill:#1f77b4;stroke:#ffffff;stroke-width:0.75;\" x=\"334.688267\" xlink:href=\"#m3f74f92fde\" y=\"105.048\"/>\n     <use style=\"fill:#1f77b4;stroke:#ffffff;stroke-width:0.75;\" x=\"208.884631\" xlink:href=\"#m3f74f92fde\" y=\"189.306\"/>\n     <use style=\"fill:#1f77b4;stroke:#ffffff;stroke-width:0.75;\" x=\"143.953722\" xlink:href=\"#m3f74f92fde\" y=\"232.794\"/>\n     <use style=\"fill:#1f77b4;stroke:#ffffff;stroke-width:0.75;\" x=\"148.011903\" xlink:href=\"#m3f74f92fde\" y=\"230.076\"/>\n     <use style=\"fill:#1f77b4;stroke:#ffffff;stroke-width:0.75;\" x=\"367.153722\" xlink:href=\"#m3f74f92fde\" y=\"83.304\"/>\n     <use style=\"fill:#1f77b4;stroke:#ffffff;stroke-width:0.75;\" x=\"310.339176\" xlink:href=\"#m3f74f92fde\" y=\"121.356\"/>\n     <use style=\"fill:#1f77b4;stroke:#ffffff;stroke-width:0.75;\" x=\"375.270085\" xlink:href=\"#m3f74f92fde\" y=\"77.868\"/>\n     <use style=\"fill:#1f77b4;stroke:#ffffff;stroke-width:0.75;\" x=\"249.466449\" xlink:href=\"#m3f74f92fde\" y=\"162.126\"/>\n     <use style=\"fill:#1f77b4;stroke:#ffffff;stroke-width:0.75;\" x=\"160.186449\" xlink:href=\"#m3f74f92fde\" y=\"221.922\"/>\n     <use style=\"fill:#1f77b4;stroke:#ffffff;stroke-width:0.75;\" x=\"253.524631\" xlink:href=\"#m3f74f92fde\" y=\"159.408\"/>\n     <use style=\"fill:#1f77b4;stroke:#ffffff;stroke-width:0.75;\" x=\"139.89554\" xlink:href=\"#m3f74f92fde\" y=\"235.512\"/>\n     <use style=\"fill:#1f77b4;stroke:#ffffff;stroke-width:0.75;\" x=\"184.53554\" xlink:href=\"#m3f74f92fde\" y=\"205.614\"/>\n     <use style=\"fill:#1f77b4;stroke:#ffffff;stroke-width:0.75;\" x=\"281.931903\" xlink:href=\"#m3f74f92fde\" y=\"140.382\"/>\n     <use style=\"fill:#1f77b4;stroke:#ffffff;stroke-width:0.75;\" x=\"127.720994\" xlink:href=\"#m3f74f92fde\" y=\"243.666\"/>\n     <use style=\"fill:#1f77b4;stroke:#ffffff;stroke-width:0.75;\" x=\"237.291903\" xlink:href=\"#m3f74f92fde\" y=\"170.28\"/>\n     <use style=\"fill:#1f77b4;stroke:#ffffff;stroke-width:0.75;\" x=\"135.837358\" xlink:href=\"#m3f74f92fde\" y=\"238.23\"/>\n     <use style=\"fill:#1f77b4;stroke:#ffffff;stroke-width:0.75;\" x=\"111.488267\" xlink:href=\"#m3f74f92fde\" y=\"254.538\"/>\n     <use style=\"fill:#1f77b4;stroke:#ffffff;stroke-width:0.75;\" x=\"200.768267\" xlink:href=\"#m3f74f92fde\" y=\"194.742\"/>\n     <use style=\"fill:#1f77b4;stroke:#ffffff;stroke-width:0.75;\" x=\"135.837358\" xlink:href=\"#m3f74f92fde\" y=\"238.23\"/>\n     <use style=\"fill:#1f77b4;stroke:#ffffff;stroke-width:0.75;\" x=\"208.884631\" xlink:href=\"#m3f74f92fde\" y=\"189.306\"/>\n     <use style=\"fill:#1f77b4;stroke:#ffffff;stroke-width:0.75;\" x=\"164.244631\" xlink:href=\"#m3f74f92fde\" y=\"219.204\"/>\n     <use style=\"fill:#1f77b4;stroke:#ffffff;stroke-width:0.75;\" x=\"127.720994\" xlink:href=\"#m3f74f92fde\" y=\"243.666\"/>\n     <use style=\"fill:#1f77b4;stroke:#ffffff;stroke-width:0.75;\" x=\"460.491903\" xlink:href=\"#m3f74f92fde\" y=\"20.79\"/>\n     <use style=\"fill:#1f77b4;stroke:#ffffff;stroke-width:0.75;\" x=\"152.070085\" xlink:href=\"#m3f74f92fde\" y=\"227.358\"/>\n     <use style=\"fill:#1f77b4;stroke:#ffffff;stroke-width:0.75;\" x=\"196.710085\" xlink:href=\"#m3f74f92fde\" y=\"197.46\"/>\n     <use style=\"fill:#1f77b4;stroke:#ffffff;stroke-width:0.75;\" x=\"411.793722\" xlink:href=\"#m3f74f92fde\" y=\"53.406\"/>\n     <use style=\"fill:#1f77b4;stroke:#ffffff;stroke-width:0.75;\" x=\"322.513722\" xlink:href=\"#m3f74f92fde\" y=\"113.202\"/>\n     <use style=\"fill:#1f77b4;stroke:#ffffff;stroke-width:0.75;\" x=\"298.164631\" xlink:href=\"#m3f74f92fde\" y=\"129.51\"/>\n     <use style=\"fill:#1f77b4;stroke:#ffffff;stroke-width:0.75;\" x=\"168.302812\" xlink:href=\"#m3f74f92fde\" y=\"216.486\"/>\n     <use style=\"fill:#1f77b4;stroke:#ffffff;stroke-width:0.75;\" x=\"200.768267\" xlink:href=\"#m3f74f92fde\" y=\"194.742\"/>\n     <use style=\"fill:#1f77b4;stroke:#ffffff;stroke-width:0.75;\" x=\"196.710085\" xlink:href=\"#m3f74f92fde\" y=\"197.46\"/>\n     <use style=\"fill:#1f77b4;stroke:#ffffff;stroke-width:0.75;\" x=\"152.070085\" xlink:href=\"#m3f74f92fde\" y=\"227.358\"/>\n     <use style=\"fill:#1f77b4;stroke:#ffffff;stroke-width:0.75;\" x=\"196.710085\" xlink:href=\"#m3f74f92fde\" y=\"197.46\"/>\n     <use style=\"fill:#1f77b4;stroke:#ffffff;stroke-width:0.75;\" x=\"139.89554\" xlink:href=\"#m3f74f92fde\" y=\"235.512\"/>\n     <use style=\"fill:#1f77b4;stroke:#ffffff;stroke-width:0.75;\" x=\"74.964631\" xlink:href=\"#m3f74f92fde\" y=\"279\"/>\n     <use style=\"fill:#1f77b4;stroke:#ffffff;stroke-width:0.75;\" x=\"192.651903\" xlink:href=\"#m3f74f92fde\" y=\"200.178\"/>\n     <use style=\"fill:#1f77b4;stroke:#ffffff;stroke-width:0.75;\" x=\"237.291903\" xlink:href=\"#m3f74f92fde\" y=\"170.28\"/>\n     <use style=\"fill:#1f77b4;stroke:#ffffff;stroke-width:0.75;\" x=\"123.662812\" xlink:href=\"#m3f74f92fde\" y=\"246.384\"/>\n     <use style=\"fill:#1f77b4;stroke:#ffffff;stroke-width:0.75;\" x=\"306.280994\" xlink:href=\"#m3f74f92fde\" y=\"124.074\"/>\n     <use style=\"fill:#1f77b4;stroke:#ffffff;stroke-width:0.75;\" x=\"143.953722\" xlink:href=\"#m3f74f92fde\" y=\"232.794\"/>\n     <use style=\"fill:#1f77b4;stroke:#ffffff;stroke-width:0.75;\" x=\"212.942812\" xlink:href=\"#m3f74f92fde\" y=\"186.588\"/>\n     <use style=\"fill:#1f77b4;stroke:#ffffff;stroke-width:0.75;\" x=\"383.386449\" xlink:href=\"#m3f74f92fde\" y=\"72.432\"/>\n     <use style=\"fill:#1f77b4;stroke:#ffffff;stroke-width:0.75;\" x=\"143.953722\" xlink:href=\"#m3f74f92fde\" y=\"232.794\"/>\n     <use style=\"fill:#1f77b4;stroke:#ffffff;stroke-width:0.75;\" x=\"281.931903\" xlink:href=\"#m3f74f92fde\" y=\"140.382\"/>\n     <use style=\"fill:#1f77b4;stroke:#ffffff;stroke-width:0.75;\" x=\"460.491903\" xlink:href=\"#m3f74f92fde\" y=\"20.79\"/>\n     <use style=\"fill:#1f77b4;stroke:#ffffff;stroke-width:0.75;\" x=\"221.059176\" xlink:href=\"#m3f74f92fde\" y=\"181.152\"/>\n     <use style=\"fill:#1f77b4;stroke:#ffffff;stroke-width:0.75;\" x=\"192.651903\" xlink:href=\"#m3f74f92fde\" y=\"200.178\"/>\n     <use style=\"fill:#1f77b4;stroke:#ffffff;stroke-width:0.75;\" x=\"322.513722\" xlink:href=\"#m3f74f92fde\" y=\"113.202\"/>\n     <use style=\"fill:#1f77b4;stroke:#ffffff;stroke-width:0.75;\" x=\"111.488267\" xlink:href=\"#m3f74f92fde\" y=\"254.538\"/>\n     <use style=\"fill:#1f77b4;stroke:#ffffff;stroke-width:0.75;\" x=\"290.048267\" xlink:href=\"#m3f74f92fde\" y=\"134.946\"/>\n     <use style=\"fill:#1f77b4;stroke:#ffffff;stroke-width:0.75;\" x=\"225.117358\" xlink:href=\"#m3f74f92fde\" y=\"178.434\"/>\n     <use style=\"fill:#1f77b4;stroke:#ffffff;stroke-width:0.75;\" x=\"160.186449\" xlink:href=\"#m3f74f92fde\" y=\"221.922\"/>\n     <use style=\"fill:#1f77b4;stroke:#ffffff;stroke-width:0.75;\" x=\"460.491903\" xlink:href=\"#m3f74f92fde\" y=\"20.79\"/>\n     <use style=\"fill:#1f77b4;stroke:#ffffff;stroke-width:0.75;\" x=\"192.651903\" xlink:href=\"#m3f74f92fde\" y=\"200.178\"/>\n     <use style=\"fill:#1f77b4;stroke:#ffffff;stroke-width:0.75;\" x=\"237.291903\" xlink:href=\"#m3f74f92fde\" y=\"170.28\"/>\n     <use style=\"fill:#1f77b4;stroke:#ffffff;stroke-width:0.75;\" x=\"119.604631\" xlink:href=\"#m3f74f92fde\" y=\"249.102\"/>\n     <use style=\"fill:#1f77b4;stroke:#ffffff;stroke-width:0.75;\" x=\"143.953722\" xlink:href=\"#m3f74f92fde\" y=\"232.794\"/>\n     <use style=\"fill:#1f77b4;stroke:#ffffff;stroke-width:0.75;\" x=\"164.244631\" xlink:href=\"#m3f74f92fde\" y=\"219.204\"/>\n     <use style=\"fill:#1f77b4;stroke:#ffffff;stroke-width:0.75;\" x=\"131.779176\" xlink:href=\"#m3f74f92fde\" y=\"240.948\"/>\n     <use style=\"fill:#1f77b4;stroke:#ffffff;stroke-width:0.75;\" x=\"107.430085\" xlink:href=\"#m3f74f92fde\" y=\"257.256\"/>\n     <use style=\"fill:#1f77b4;stroke:#ffffff;stroke-width:0.75;\" x=\"212.942812\" xlink:href=\"#m3f74f92fde\" y=\"186.588\"/>\n     <use style=\"fill:#1f77b4;stroke:#ffffff;stroke-width:0.75;\" x=\"290.048267\" xlink:href=\"#m3f74f92fde\" y=\"134.946\"/>\n     <use style=\"fill:#1f77b4;stroke:#ffffff;stroke-width:0.75;\" x=\"322.513722\" xlink:href=\"#m3f74f92fde\" y=\"113.202\"/>\n     <use style=\"fill:#1f77b4;stroke:#ffffff;stroke-width:0.75;\" x=\"269.757358\" xlink:href=\"#m3f74f92fde\" y=\"148.536\"/>\n     <use style=\"fill:#1f77b4;stroke:#ffffff;stroke-width:0.75;\" x=\"139.89554\" xlink:href=\"#m3f74f92fde\" y=\"235.512\"/>\n     <use style=\"fill:#1f77b4;stroke:#ffffff;stroke-width:0.75;\" x=\"196.710085\" xlink:href=\"#m3f74f92fde\" y=\"197.46\"/>\n     <use style=\"fill:#1f77b4;stroke:#ffffff;stroke-width:0.75;\" x=\"237.291903\" xlink:href=\"#m3f74f92fde\" y=\"170.28\"/>\n     <use style=\"fill:#1f77b4;stroke:#ffffff;stroke-width:0.75;\" x=\"184.53554\" xlink:href=\"#m3f74f92fde\" y=\"205.614\"/>\n     <use style=\"fill:#1f77b4;stroke:#ffffff;stroke-width:0.75;\" x=\"460.491903\" xlink:href=\"#m3f74f92fde\" y=\"20.79\"/>\n     <use style=\"fill:#1f77b4;stroke:#ffffff;stroke-width:0.75;\" x=\"180.477358\" xlink:href=\"#m3f74f92fde\" y=\"208.332\"/>\n     <use style=\"fill:#1f77b4;stroke:#ffffff;stroke-width:0.75;\" x=\"322.513722\" xlink:href=\"#m3f74f92fde\" y=\"113.202\"/>\n     <use style=\"fill:#1f77b4;stroke:#ffffff;stroke-width:0.75;\" x=\"225.117358\" xlink:href=\"#m3f74f92fde\" y=\"178.434\"/>\n     <use style=\"fill:#1f77b4;stroke:#ffffff;stroke-width:0.75;\" x=\"265.699176\" xlink:href=\"#m3f74f92fde\" y=\"151.254\"/>\n     <use style=\"fill:#1f77b4;stroke:#ffffff;stroke-width:0.75;\" x=\"346.862812\" xlink:href=\"#m3f74f92fde\" y=\"96.894\"/>\n     <use style=\"fill:#1f77b4;stroke:#ffffff;stroke-width:0.75;\" x=\"204.826449\" xlink:href=\"#m3f74f92fde\" y=\"192.024\"/>\n     <use style=\"fill:#1f77b4;stroke:#ffffff;stroke-width:0.75;\" x=\"143.953722\" xlink:href=\"#m3f74f92fde\" y=\"232.794\"/>\n     <use style=\"fill:#1f77b4;stroke:#ffffff;stroke-width:0.75;\" x=\"204.826449\" xlink:href=\"#m3f74f92fde\" y=\"192.024\"/>\n     <use style=\"fill:#1f77b4;stroke:#ffffff;stroke-width:0.75;\" x=\"192.651903\" xlink:href=\"#m3f74f92fde\" y=\"200.178\"/>\n     <use style=\"fill:#1f77b4;stroke:#ffffff;stroke-width:0.75;\" x=\"135.837358\" xlink:href=\"#m3f74f92fde\" y=\"238.23\"/>\n     <use style=\"fill:#1f77b4;stroke:#ffffff;stroke-width:0.75;\" x=\"115.546449\" xlink:href=\"#m3f74f92fde\" y=\"251.82\"/>\n     <use style=\"fill:#1f77b4;stroke:#ffffff;stroke-width:0.75;\" x=\"184.53554\" xlink:href=\"#m3f74f92fde\" y=\"205.614\"/>\n     <use style=\"fill:#1f77b4;stroke:#ffffff;stroke-width:0.75;\" x=\"139.89554\" xlink:href=\"#m3f74f92fde\" y=\"235.512\"/>\n     <use style=\"fill:#1f77b4;stroke:#ffffff;stroke-width:0.75;\" x=\"127.720994\" xlink:href=\"#m3f74f92fde\" y=\"243.666\"/>\n     <use style=\"fill:#1f77b4;stroke:#ffffff;stroke-width:0.75;\" x=\"131.779176\" xlink:href=\"#m3f74f92fde\" y=\"240.948\"/>\n     <use style=\"fill:#1f77b4;stroke:#ffffff;stroke-width:0.75;\" x=\"74.964631\" xlink:href=\"#m3f74f92fde\" y=\"279\"/>\n     <use style=\"fill:#1f77b4;stroke:#ffffff;stroke-width:0.75;\" x=\"176.419176\" xlink:href=\"#m3f74f92fde\" y=\"211.05\"/>\n     <use style=\"fill:#1f77b4;stroke:#ffffff;stroke-width:0.75;\" x=\"318.45554\" xlink:href=\"#m3f74f92fde\" y=\"115.92\"/>\n     <use style=\"fill:#1f77b4;stroke:#ffffff;stroke-width:0.75;\" x=\"245.408267\" xlink:href=\"#m3f74f92fde\" y=\"164.844\"/>\n     <use style=\"fill:#1f77b4;stroke:#ffffff;stroke-width:0.75;\" x=\"131.779176\" xlink:href=\"#m3f74f92fde\" y=\"240.948\"/>\n     <use style=\"fill:#1f77b4;stroke:#ffffff;stroke-width:0.75;\" x=\"253.524631\" xlink:href=\"#m3f74f92fde\" y=\"159.408\"/>\n     <use style=\"fill:#1f77b4;stroke:#ffffff;stroke-width:0.75;\" x=\"334.688267\" xlink:href=\"#m3f74f92fde\" y=\"105.048\"/>\n     <use style=\"fill:#1f77b4;stroke:#ffffff;stroke-width:0.75;\" x=\"54.673722\" xlink:href=\"#m3f74f92fde\" y=\"292.59\"/>\n     <use style=\"fill:#1f77b4;stroke:#ffffff;stroke-width:0.75;\" x=\"338.746449\" xlink:href=\"#m3f74f92fde\" y=\"102.33\"/>\n     <use style=\"fill:#1f77b4;stroke:#ffffff;stroke-width:0.75;\" x=\"180.477358\" xlink:href=\"#m3f74f92fde\" y=\"208.332\"/>\n     <use style=\"fill:#1f77b4;stroke:#ffffff;stroke-width:0.75;\" x=\"95.25554\" xlink:href=\"#m3f74f92fde\" y=\"265.41\"/>\n     <use style=\"fill:#1f77b4;stroke:#ffffff;stroke-width:0.75;\" x=\"148.011903\" xlink:href=\"#m3f74f92fde\" y=\"230.076\"/>\n     <use style=\"fill:#1f77b4;stroke:#ffffff;stroke-width:0.75;\" x=\"143.953722\" xlink:href=\"#m3f74f92fde\" y=\"232.794\"/>\n     <use style=\"fill:#1f77b4;stroke:#ffffff;stroke-width:0.75;\" x=\"460.491903\" xlink:href=\"#m3f74f92fde\" y=\"20.79\"/>\n     <use style=\"fill:#1f77b4;stroke:#ffffff;stroke-width:0.75;\" x=\"273.81554\" xlink:href=\"#m3f74f92fde\" y=\"145.818\"/>\n     <use style=\"fill:#1f77b4;stroke:#ffffff;stroke-width:0.75;\" x=\"172.360994\" xlink:href=\"#m3f74f92fde\" y=\"213.768\"/>\n     <use style=\"fill:#1f77b4;stroke:#ffffff;stroke-width:0.75;\" x=\"277.873722\" xlink:href=\"#m3f74f92fde\" y=\"143.1\"/>\n     <use style=\"fill:#1f77b4;stroke:#ffffff;stroke-width:0.75;\" x=\"363.09554\" xlink:href=\"#m3f74f92fde\" y=\"86.022\"/>\n     <use style=\"fill:#1f77b4;stroke:#ffffff;stroke-width:0.75;\" x=\"318.45554\" xlink:href=\"#m3f74f92fde\" y=\"115.92\"/>\n     <use style=\"fill:#1f77b4;stroke:#ffffff;stroke-width:0.75;\" x=\"156.128267\" xlink:href=\"#m3f74f92fde\" y=\"224.64\"/>\n     <use style=\"fill:#1f77b4;stroke:#ffffff;stroke-width:0.75;\" x=\"66.848267\" xlink:href=\"#m3f74f92fde\" y=\"284.436\"/>\n     <use style=\"fill:#1f77b4;stroke:#ffffff;stroke-width:0.75;\" x=\"172.360994\" xlink:href=\"#m3f74f92fde\" y=\"213.768\"/>\n     <use style=\"fill:#1f77b4;stroke:#ffffff;stroke-width:0.75;\" x=\"460.491903\" xlink:href=\"#m3f74f92fde\" y=\"20.79\"/>\n     <use style=\"fill:#1f77b4;stroke:#ffffff;stroke-width:0.75;\" x=\"135.837358\" xlink:href=\"#m3f74f92fde\" y=\"238.23\"/>\n     <use style=\"fill:#1f77b4;stroke:#ffffff;stroke-width:0.75;\" x=\"432.084631\" xlink:href=\"#m3f74f92fde\" y=\"39.816\"/>\n     <use style=\"fill:#1f77b4;stroke:#ffffff;stroke-width:0.75;\" x=\"107.430085\" xlink:href=\"#m3f74f92fde\" y=\"257.256\"/>\n     <use style=\"fill:#1f77b4;stroke:#ffffff;stroke-width:0.75;\" x=\"148.011903\" xlink:href=\"#m3f74f92fde\" y=\"230.076\"/>\n     <use style=\"fill:#1f77b4;stroke:#ffffff;stroke-width:0.75;\" x=\"172.360994\" xlink:href=\"#m3f74f92fde\" y=\"213.768\"/>\n     <use style=\"fill:#1f77b4;stroke:#ffffff;stroke-width:0.75;\" x=\"131.779176\" xlink:href=\"#m3f74f92fde\" y=\"240.948\"/>\n     <use style=\"fill:#1f77b4;stroke:#ffffff;stroke-width:0.75;\" x=\"148.011903\" xlink:href=\"#m3f74f92fde\" y=\"230.076\"/>\n     <use style=\"fill:#1f77b4;stroke:#ffffff;stroke-width:0.75;\" x=\"277.873722\" xlink:href=\"#m3f74f92fde\" y=\"143.1\"/>\n     <use style=\"fill:#1f77b4;stroke:#ffffff;stroke-width:0.75;\" x=\"156.128267\" xlink:href=\"#m3f74f92fde\" y=\"224.64\"/>\n     <use style=\"fill:#1f77b4;stroke:#ffffff;stroke-width:0.75;\" x=\"152.070085\" xlink:href=\"#m3f74f92fde\" y=\"227.358\"/>\n     <use style=\"fill:#1f77b4;stroke:#ffffff;stroke-width:0.75;\" x=\"184.53554\" xlink:href=\"#m3f74f92fde\" y=\"205.614\"/>\n     <use style=\"fill:#1f77b4;stroke:#ffffff;stroke-width:0.75;\" x=\"58.731903\" xlink:href=\"#m3f74f92fde\" y=\"289.872\"/>\n     <use style=\"fill:#1f77b4;stroke:#ffffff;stroke-width:0.75;\" x=\"330.630085\" xlink:href=\"#m3f74f92fde\" y=\"107.766\"/>\n     <use style=\"fill:#1f77b4;stroke:#ffffff;stroke-width:0.75;\" x=\"127.720994\" xlink:href=\"#m3f74f92fde\" y=\"243.666\"/>\n     <use style=\"fill:#1f77b4;stroke:#ffffff;stroke-width:0.75;\" x=\"139.89554\" xlink:href=\"#m3f74f92fde\" y=\"235.512\"/>\n     <use style=\"fill:#1f77b4;stroke:#ffffff;stroke-width:0.75;\" x=\"148.011903\" xlink:href=\"#m3f74f92fde\" y=\"230.076\"/>\n     <use style=\"fill:#1f77b4;stroke:#ffffff;stroke-width:0.75;\" x=\"460.491903\" xlink:href=\"#m3f74f92fde\" y=\"20.79\"/>\n     <use style=\"fill:#1f77b4;stroke:#ffffff;stroke-width:0.75;\" x=\"148.011903\" xlink:href=\"#m3f74f92fde\" y=\"230.076\"/>\n     <use style=\"fill:#1f77b4;stroke:#ffffff;stroke-width:0.75;\" x=\"164.244631\" xlink:href=\"#m3f74f92fde\" y=\"219.204\"/>\n     <use style=\"fill:#1f77b4;stroke:#ffffff;stroke-width:0.75;\" x=\"245.408267\" xlink:href=\"#m3f74f92fde\" y=\"164.844\"/>\n    </g>\n   </g>\n   <g id=\"patch_3\">\n    <path d=\"M 34.382812 306.18 \nL 34.382812 7.2 \n\" style=\"fill:none;\"/>\n   </g>\n   <g id=\"patch_4\">\n    <path d=\"M 480.782812 306.18 \nL 480.782812 7.2 \n\" style=\"fill:none;\"/>\n   </g>\n   <g id=\"patch_5\">\n    <path d=\"M 34.382812 306.18 \nL 480.782812 306.18 \n\" style=\"fill:none;\"/>\n   </g>\n   <g id=\"patch_6\">\n    <path d=\"M 34.382812 7.2 \nL 480.782812 7.2 \n\" style=\"fill:none;\"/>\n   </g>\n  </g>\n </g>\n <defs>\n  <clipPath id=\"p9516160208\">\n   <rect height=\"298.98\" width=\"446.4\" x=\"34.382812\" y=\"7.2\"/>\n  </clipPath>\n </defs>\n</svg>\n",
      "image/png": "[encoded data removed]"
     },
     "metadata": {}
    }
   ],
   "source": [
    "ax = sb.scatterplot(x=\"age\",y=got_deaths_df['age'].values, data=got_deaths_df)"
   ]
  },
  {
   "cell_type": "code",
   "execution_count": 56,
   "metadata": {},
   "outputs": [],
   "source": [
    "# Imputing Missing Values (By Median)\n",
    "\n",
    "\n",
    "dob_med = got_deaths_df['dateOfBirth'].median()\n",
    "got_deaths_df['dateOfBirth'] = got_deaths_df['dateOfBirth'].fillna(dob_med).round(3)\n",
    "age_med = got_deaths_df['age'].median()\n",
    "got_deaths_df['age'] = got_deaths_df['age'].fillna(age_med).round(3)\n",
    "\n"
   ]
  },
  {
   "cell_type": "code",
   "execution_count": 57,
   "metadata": {},
   "outputs": [],
   "source": [
    "# Imputing Categorical Values\n",
    "\n",
    "cat_vals =['title', 'culture','mother','father', 'heir', 'house', 'spouse']\n",
    "\n",
    "for col in got_deaths_df[cat_vals]:\n",
    "    if got_deaths_df[col].isnull().astype(int).sum() > 0:\n",
    "        got_deaths_df[col] = got_deaths_df[col].fillna('NULL')"
   ]
  },
  {
   "cell_type": "code",
   "execution_count": 58,
   "metadata": {},
   "outputs": [
    {
     "output_type": "execute_result",
     "data": {
      "text/plain": "S.No                    0\nactual                  0\npred                    0\nalive                   0\nplod                    0\nname                    0\ntitle                   0\nmale                    0\nculture                 0\ndateOfBirth             0\nDateoFdeath          1502\nmother                  0\nfather                  0\nheir                    0\nhouse                   0\nspouse                  0\nbook1                   0\nbook2                   0\nbook3                   0\nbook4                   0\nbook5                   0\nisAliveMother        1925\nisAliveFather        1920\nisAliveHeir          1923\nisAliveSpouse        1670\nisMarried               0\nisNoble                 0\nage                     0\nnumDeadRelations        0\nboolDeadRelations       0\nisPopular               0\npopularity              0\nisAlive                 0\nisAlive_str             0\ngender_dict             0\nhouseSize             427\nhouseAlive            827\nhouseDead            1546\nhouseDeathRate       1546\ndtype: int64"
     },
     "metadata": {},
     "execution_count": 58
    }
   ],
   "source": [
    "# Null Values\n",
    "\n",
    "got_deaths_df.isnull().sum()"
   ]
  },
  {
   "cell_type": "markdown",
   "metadata": {},
   "source": [
    "# Machine Learning"
   ]
  },
  {
   "cell_type": "code",
   "execution_count": null,
   "metadata": {},
   "outputs": [],
   "source": []
  },
  {
   "cell_type": "code",
   "execution_count": null,
   "metadata": {},
   "outputs": [],
   "source": []
  }
 ],
 "metadata": {
  "language_info": {
   "codemirror_mode": {
    "name": "ipython",
    "version": 2
   },
   "file_extension": ".py",
   "mimetype": "text/x-python",
   "name": "python",
   "nbconvert_exporter": "python",
   "pygments_lexer": "ipython2",
   "version": "3.8.0-final"
  },
  "orig_nbformat": 2,
  "kernelspec": {
   "name": "kpmg",
   "display_name": "KPMG"
  }
 },
 "nbformat": 4,
 "nbformat_minor": 2
}