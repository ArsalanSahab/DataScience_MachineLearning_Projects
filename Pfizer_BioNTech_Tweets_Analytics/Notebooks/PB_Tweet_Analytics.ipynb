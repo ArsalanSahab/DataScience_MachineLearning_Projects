{
 "metadata": {
  "language_info": {
   "codemirror_mode": {
    "name": "ipython",
    "version": 3
   },
   "file_extension": ".py",
   "mimetype": "text/x-python",
   "name": "python",
   "nbconvert_exporter": "python",
   "pygments_lexer": "ipython3",
   "version": "3.7.6-final"
  },
  "orig_nbformat": 2,
  "kernelspec": {
   "name": "python3",
   "display_name": "Python 3"
  }
 },
 "nbformat": 4,
 "nbformat_minor": 2,
 "cells": [
  {
   "cell_type": "code",
   "execution_count": 23,
   "metadata": {},
   "outputs": [
    {
     "output_type": "stream",
     "name": "stdout",
     "text": [
      "Package         Version\n--------------- -------\ncycler          0.10.0\nkiwisolver      1.3.1\nmatplotlib      3.3.4\nnumpy           1.20.1\npandas          1.2.3\nPillow          8.1.2\npip             21.0.1\npyparsing       2.4.7\npython-dateutil 2.8.1\npytz            2021.1\nscipy           1.6.1\nseaborn         0.11.1\nsetuptools      50.3.2\nsix             1.15.0\nwheel           0.35.1\n"
     ]
    }
   ],
   "source": [
    "!pip3 list"
   ]
  },
  {
   "cell_type": "code",
   "execution_count": 24,
   "metadata": {},
   "outputs": [],
   "source": [
    "# Basic Libraries\n",
    "import pandas as pd\n",
    "import numpy as np \n",
    "import seaborn as sb \n",
    "import matplotlib.pyplot as plt \n",
    "\n",
    "%matplotlib inline"
   ]
  },
  {
   "cell_type": "code",
   "execution_count": 4,
   "metadata": {},
   "outputs": [],
   "source": [
    "# Loading Data Set\n",
    "tweets = pd.read_csv(\"../Datasets/pfi_bnt_tweets.csv\")"
   ]
  },
  {
   "source": [
    "## Initial Data Exploration"
   ],
   "cell_type": "markdown",
   "metadata": {}
  },
  {
   "cell_type": "code",
   "execution_count": 28,
   "metadata": {},
   "outputs": [
    {
     "output_type": "execute_result",
     "data": {
      "text/plain": [
       "                    id             user_name                user_location  \\\n",
       "0  1340539111971516416            Rachel Roh    La Crescenta-Montrose, CA   \n",
       "1  1338158543359250433           Albert Fong            San Francisco, CA   \n",
       "2  1337858199140118533              eli🇱🇹🇪🇺👌                     Your Bed   \n",
       "3  1337855739918835717         Charles Adler       Vancouver, BC - Canada   \n",
       "4  1337854064604966912  Citizen News Channel                          NaN   \n",
       "5  1337852648389832708                   Dee          Birmingham, England   \n",
       "6  1337851215875608579     Gunther Fehlinger  Austria, Ukraine and Kosovo   \n",
       "7  1337850832256176136   Dr.Krutika Kuppalli                          NaN   \n",
       "8  1337850023531347969           Erin Despas                          NaN   \n",
       "9  1337842295857623042          Ch.Amjad Ali                    Islamabad   \n",
       "\n",
       "                                    user_description         user_created  \\\n",
       "0  Aggregator of Asian American news; scanning di...  2009-04-08 17:52:46   \n",
       "1  Marketing dude, tech geek, heavy metal & '80s ...  2009-09-21 15:27:30   \n",
       "2                                     heil, hydra 🖐☺  2020-06-25 23:30:28   \n",
       "3  Hosting \"CharlesAdlerTonight\" Global News Radi...  2008-09-10 11:28:53   \n",
       "4  Citizen News Channel bringing you an alternati...  2020-04-23 17:58:42   \n",
       "5  Gastroenterology trainee, Clinical Research Fe...  2020-01-26 21:43:12   \n",
       "6  End North Stream 2 now - the pipeline of corru...  2013-06-10 17:49:22   \n",
       "7  ID, Global Health, VHF, Pandemic Prep, Emergin...  2019-03-25 04:14:29   \n",
       "8  Designing&selling on Teespring. Like 90s Disne...  2009-10-30 17:53:54   \n",
       "9  #ProudPakistani #LovePakArmy #PMIK @insafiansp...  2012-11-12 04:18:12   \n",
       "\n",
       "   user_followers  user_friends  user_favourites  user_verified  \\\n",
       "0             405          1692             3247          False   \n",
       "1             834           666              178          False   \n",
       "2              10            88              155          False   \n",
       "3           49165          3933            21853           True   \n",
       "4             152           580             1473          False   \n",
       "5             105           108              106          False   \n",
       "6            2731          5001            69344          False   \n",
       "7           21924           593             7815           True   \n",
       "8             887          1515             9639          False   \n",
       "9             671          2368            20469          False   \n",
       "\n",
       "                  date                                               text  \\\n",
       "0  2020-12-20 06:06:44  Same folks said daikon paste could treat a cyt...   \n",
       "1  2020-12-13 16:27:13  While the world has been on the wrong side of ...   \n",
       "2  2020-12-12 20:33:45  #coronavirus #SputnikV #AstraZeneca #PfizerBio...   \n",
       "3  2020-12-12 20:23:59  Facts are immutable, Senator, even when you're...   \n",
       "4  2020-12-12 20:17:19  Explain to me again why we need a vaccine @Bor...   \n",
       "5  2020-12-12 20:11:42  Does anyone have any useful advice/guidance fo...   \n",
       "6  2020-12-12 20:06:00  it is a bit sad to claim the fame for success ...   \n",
       "7  2020-12-12 20:04:29  There have not been many bright days in 2020 b...   \n",
       "8  2020-12-12 20:01:16  Covid vaccine; You getting it?\\n\\n #CovidVacci...   \n",
       "9  2020-12-12 19:30:33  #CovidVaccine \\n\\nStates will start getting #C...   \n",
       "\n",
       "                                            hashtags               source  \\\n",
       "0                                 ['PfizerBioNTech']  Twitter for Android   \n",
       "1                                                NaN      Twitter Web App   \n",
       "2  ['coronavirus', 'SputnikV', 'AstraZeneca', 'Pf...  Twitter for Android   \n",
       "3                                                NaN      Twitter Web App   \n",
       "4     ['whereareallthesickpeople', 'PfizerBioNTech']   Twitter for iPhone   \n",
       "5                                                NaN   Twitter for iPhone   \n",
       "6                                    ['vaccination']      Twitter Web App   \n",
       "7                    ['BidenHarris', 'Election2020']   Twitter for iPhone   \n",
       "8  ['CovidVaccine', 'covid19', 'PfizerBioNTech', ...      Twitter Web App   \n",
       "9  ['CovidVaccine', 'COVID19Vaccine', 'US', 'paku...      Twitter Web App   \n",
       "\n",
       "   retweets  favorites  is_retweet  \n",
       "0         0          0       False  \n",
       "1         1          1       False  \n",
       "2         0          0       False  \n",
       "3       446       2129       False  \n",
       "4         0          0       False  \n",
       "5         0          0       False  \n",
       "6         0          4       False  \n",
       "7         2         22       False  \n",
       "8         2          1       False  \n",
       "9         0          0       False  "
      ],
      "text/html": "<div>\n<style scoped>\n    .dataframe tbody tr th:only-of-type {\n        vertical-align: middle;\n    }\n\n    .dataframe tbody tr th {\n        vertical-align: top;\n    }\n\n    .dataframe thead th {\n        text-align: right;\n    }\n</style>\n<table border=\"1\" class=\"dataframe\">\n  <thead>\n    <tr style=\"text-align: right;\">\n      <th></th>\n      <th>id</th>\n      <th>user_name</th>\n      <th>user_location</th>\n      <th>user_description</th>\n      <th>user_created</th>\n      <th>user_followers</th>\n      <th>user_friends</th>\n      <th>user_favourites</th>\n      <th>user_verified</th>\n      <th>date</th>\n      <th>text</th>\n      <th>hashtags</th>\n      <th>source</th>\n      <th>retweets</th>\n      <th>favorites</th>\n      <th>is_retweet</th>\n    </tr>\n  </thead>\n  <tbody>\n    <tr>\n      <th>0</th>\n      <td>1340539111971516416</td>\n      <td>Rachel Roh</td>\n      <td>La Crescenta-Montrose, CA</td>\n      <td>Aggregator of Asian American news; scanning di...</td>\n      <td>2009-04-08 17:52:46</td>\n      <td>405</td>\n      <td>1692</td>\n      <td>3247</td>\n      <td>False</td>\n      <td>2020-12-20 06:06:44</td>\n      <td>Same folks said daikon paste could treat a cyt...</td>\n      <td>['PfizerBioNTech']</td>\n      <td>Twitter for Android</td>\n      <td>0</td>\n      <td>0</td>\n      <td>False</td>\n    </tr>\n    <tr>\n      <th>1</th>\n      <td>1338158543359250433</td>\n      <td>Albert Fong</td>\n      <td>San Francisco, CA</td>\n      <td>Marketing dude, tech geek, heavy metal &amp; '80s ...</td>\n      <td>2009-09-21 15:27:30</td>\n      <td>834</td>\n      <td>666</td>\n      <td>178</td>\n      <td>False</td>\n      <td>2020-12-13 16:27:13</td>\n      <td>While the world has been on the wrong side of ...</td>\n      <td>NaN</td>\n      <td>Twitter Web App</td>\n      <td>1</td>\n      <td>1</td>\n      <td>False</td>\n    </tr>\n    <tr>\n      <th>2</th>\n      <td>1337858199140118533</td>\n      <td>eli🇱🇹🇪🇺👌</td>\n      <td>Your Bed</td>\n      <td>heil, hydra 🖐☺</td>\n      <td>2020-06-25 23:30:28</td>\n      <td>10</td>\n      <td>88</td>\n      <td>155</td>\n      <td>False</td>\n      <td>2020-12-12 20:33:45</td>\n      <td>#coronavirus #SputnikV #AstraZeneca #PfizerBio...</td>\n      <td>['coronavirus', 'SputnikV', 'AstraZeneca', 'Pf...</td>\n      <td>Twitter for Android</td>\n      <td>0</td>\n      <td>0</td>\n      <td>False</td>\n    </tr>\n    <tr>\n      <th>3</th>\n      <td>1337855739918835717</td>\n      <td>Charles Adler</td>\n      <td>Vancouver, BC - Canada</td>\n      <td>Hosting \"CharlesAdlerTonight\" Global News Radi...</td>\n      <td>2008-09-10 11:28:53</td>\n      <td>49165</td>\n      <td>3933</td>\n      <td>21853</td>\n      <td>True</td>\n      <td>2020-12-12 20:23:59</td>\n      <td>Facts are immutable, Senator, even when you're...</td>\n      <td>NaN</td>\n      <td>Twitter Web App</td>\n      <td>446</td>\n      <td>2129</td>\n      <td>False</td>\n    </tr>\n    <tr>\n      <th>4</th>\n      <td>1337854064604966912</td>\n      <td>Citizen News Channel</td>\n      <td>NaN</td>\n      <td>Citizen News Channel bringing you an alternati...</td>\n      <td>2020-04-23 17:58:42</td>\n      <td>152</td>\n      <td>580</td>\n      <td>1473</td>\n      <td>False</td>\n      <td>2020-12-12 20:17:19</td>\n      <td>Explain to me again why we need a vaccine @Bor...</td>\n      <td>['whereareallthesickpeople', 'PfizerBioNTech']</td>\n      <td>Twitter for iPhone</td>\n      <td>0</td>\n      <td>0</td>\n      <td>False</td>\n    </tr>\n    <tr>\n      <th>5</th>\n      <td>1337852648389832708</td>\n      <td>Dee</td>\n      <td>Birmingham, England</td>\n      <td>Gastroenterology trainee, Clinical Research Fe...</td>\n      <td>2020-01-26 21:43:12</td>\n      <td>105</td>\n      <td>108</td>\n      <td>106</td>\n      <td>False</td>\n      <td>2020-12-12 20:11:42</td>\n      <td>Does anyone have any useful advice/guidance fo...</td>\n      <td>NaN</td>\n      <td>Twitter for iPhone</td>\n      <td>0</td>\n      <td>0</td>\n      <td>False</td>\n    </tr>\n    <tr>\n      <th>6</th>\n      <td>1337851215875608579</td>\n      <td>Gunther Fehlinger</td>\n      <td>Austria, Ukraine and Kosovo</td>\n      <td>End North Stream 2 now - the pipeline of corru...</td>\n      <td>2013-06-10 17:49:22</td>\n      <td>2731</td>\n      <td>5001</td>\n      <td>69344</td>\n      <td>False</td>\n      <td>2020-12-12 20:06:00</td>\n      <td>it is a bit sad to claim the fame for success ...</td>\n      <td>['vaccination']</td>\n      <td>Twitter Web App</td>\n      <td>0</td>\n      <td>4</td>\n      <td>False</td>\n    </tr>\n    <tr>\n      <th>7</th>\n      <td>1337850832256176136</td>\n      <td>Dr.Krutika Kuppalli</td>\n      <td>NaN</td>\n      <td>ID, Global Health, VHF, Pandemic Prep, Emergin...</td>\n      <td>2019-03-25 04:14:29</td>\n      <td>21924</td>\n      <td>593</td>\n      <td>7815</td>\n      <td>True</td>\n      <td>2020-12-12 20:04:29</td>\n      <td>There have not been many bright days in 2020 b...</td>\n      <td>['BidenHarris', 'Election2020']</td>\n      <td>Twitter for iPhone</td>\n      <td>2</td>\n      <td>22</td>\n      <td>False</td>\n    </tr>\n    <tr>\n      <th>8</th>\n      <td>1337850023531347969</td>\n      <td>Erin Despas</td>\n      <td>NaN</td>\n      <td>Designing&amp;selling on Teespring. Like 90s Disne...</td>\n      <td>2009-10-30 17:53:54</td>\n      <td>887</td>\n      <td>1515</td>\n      <td>9639</td>\n      <td>False</td>\n      <td>2020-12-12 20:01:16</td>\n      <td>Covid vaccine; You getting it?\\n\\n #CovidVacci...</td>\n      <td>['CovidVaccine', 'covid19', 'PfizerBioNTech', ...</td>\n      <td>Twitter Web App</td>\n      <td>2</td>\n      <td>1</td>\n      <td>False</td>\n    </tr>\n    <tr>\n      <th>9</th>\n      <td>1337842295857623042</td>\n      <td>Ch.Amjad Ali</td>\n      <td>Islamabad</td>\n      <td>#ProudPakistani #LovePakArmy #PMIK @insafiansp...</td>\n      <td>2012-11-12 04:18:12</td>\n      <td>671</td>\n      <td>2368</td>\n      <td>20469</td>\n      <td>False</td>\n      <td>2020-12-12 19:30:33</td>\n      <td>#CovidVaccine \\n\\nStates will start getting #C...</td>\n      <td>['CovidVaccine', 'COVID19Vaccine', 'US', 'paku...</td>\n      <td>Twitter Web App</td>\n      <td>0</td>\n      <td>0</td>\n      <td>False</td>\n    </tr>\n  </tbody>\n</table>\n</div>"
     },
     "metadata": {},
     "execution_count": 28
    }
   ],
   "source": [
    "# First 10 Rows\n",
    "tweets.head(10)"
   ]
  },
  {
   "cell_type": "code",
   "execution_count": 29,
   "metadata": {},
   "outputs": [
    {
     "output_type": "execute_result",
     "data": {
      "text/plain": [
       "                       id          user_name         user_location  \\\n",
       "6699  1366844645674807300       Maggie McFly           Windham, CT   \n",
       "6700  1366843634620973058     David Williams          Georgia, USA   \n",
       "6701  1366841327762223108             Kate 😷           Chicago, IL   \n",
       "6702  1366839546416144395                Kat            Austin, TX   \n",
       "6703  1366834425636470795          Mary Coll     Limerick, Ireland   \n",
       "6704  1366828736616751106  Bernardo Pimentel  Hamburg, Deutschland   \n",
       "6705  1366827957134630912    Chitown Buckeye                   NaN   \n",
       "6706  1366824521215393800               Irry   Manchester, England   \n",
       "6707  1366823817881018380             Geoffo                 Tewks   \n",
       "6708  1366787836096245769          Gulf News  United Arab Emirates   \n",
       "\n",
       "                                       user_description         user_created  \\\n",
       "6699  Mom, Veteran, sports fan, casino employee, art...  2009-07-31 02:44:50   \n",
       "6700  College Professor/Saints Fan/Internet Radio St...  2011-02-15 14:49:02   \n",
       "6701  Daughter, sister, aunt, flygirl. Activist, adv...  2014-08-10 17:51:46   \n",
       "6702  Progressive feminist; US Army Veteran; LGBTQ &...  2008-01-15 00:19:22   \n",
       "6703  Unpredictable when provoked. Will always give ...  2017-09-07 21:24:01   \n",
       "6704  Neurology resident & stroke scientist working ...  2019-04-13 09:01:06   \n",
       "6705  Political junkie turned activist thanks to ill...  2014-10-08 03:16:56   \n",
       "6706  Speak less than you know,\\nHave more than you ...  2013-10-22 08:33:19   \n",
       "6707                                                NaN  2009-05-27 21:17:26   \n",
       "6708  We don't just cover the news - we uncover the ...  2009-02-11 08:21:32   \n",
       "\n",
       "      user_followers  user_friends  user_favourites  user_verified  \\\n",
       "6699             110           273             4507          False   \n",
       "6700             234          1788             6064          False   \n",
       "6701              86           589            11069          False   \n",
       "6702             791           606            42277          False   \n",
       "6703             667           140             5343          False   \n",
       "6704              73           148              385          False   \n",
       "6705             346           321            62716          False   \n",
       "6706             668           328            10460          False   \n",
       "6707             253           838              744          False   \n",
       "6708         1200531           231              823           True   \n",
       "\n",
       "                     date                                               text  \\\n",
       "6699  2021-03-02 20:15:32  1st dose of the #PfizerBioNTech #COVID19 vacci...   \n",
       "6700  2021-03-02 20:11:31  Shout out to @cvspharmacy for the exceptionall...   \n",
       "6701  2021-03-02 20:02:21  Get your vaccine. Wear your mask. #COVID19Vacc...   \n",
       "6702  2021-03-02 19:55:17  Covid-19 Live Updates: Merck Will Help Manufac...   \n",
       "6703  2021-03-02 19:34:56  My Mam is vaccinated! Feels like we just won t...   \n",
       "6704  2021-03-02 19:12:19  getting the 2nd vaccine shot against COVID is ...   \n",
       "6705  2021-03-02 19:09:14  Just got dose 1 of my vaccine! Thanks #PfizerB...   \n",
       "6706  2021-03-02 18:55:34  Just vaccinating away. Wbu? #GetVaccinated #va...   \n",
       "6707  2021-03-02 18:52:47  @MattHancock why do both of your friends keep ...   \n",
       "6708  2021-03-02 16:29:48  The #DubaiHealthAuthority has expanded the age...   \n",
       "\n",
       "                                               hashtags               source  \\\n",
       "6699                      ['PfizerBioNTech', 'COVID19']   Twitter for iPhone   \n",
       "6700            ['PfizerBioNTech', 'Lanett', 'Alabama']   Twitter for iPhone   \n",
       "6701  ['COVID19Vaccine', 'PfizerBioNTech', 'firstdos...   Twitter for iPhone   \n",
       "6702                                                NaN      Twitter Web App   \n",
       "6703                                                NaN      Twitter Web App   \n",
       "6704                                                NaN   Twitter for iPhone   \n",
       "6705                                 ['PfizerBioNTech']   Twitter for iPhone   \n",
       "6706  ['GetVaccinated', 'vaccine', 'Pharmacist', 'Pf...  Twitter for Android   \n",
       "6707                                                NaN   Twitter for iPhone   \n",
       "6708         ['DubaiHealthAuthority', 'PfizerBioNTech']            TweetDeck   \n",
       "\n",
       "      retweets  favorites  is_retweet  \n",
       "6699         2          7       False  \n",
       "6700         0          0       False  \n",
       "6701         0          1       False  \n",
       "6702         0          0       False  \n",
       "6703         1        185       False  \n",
       "6704         0          1       False  \n",
       "6705         0          0       False  \n",
       "6706         0          1       False  \n",
       "6707         0          0       False  \n",
       "6708         4          9       False  "
      ],
      "text/html": "<div>\n<style scoped>\n    .dataframe tbody tr th:only-of-type {\n        vertical-align: middle;\n    }\n\n    .dataframe tbody tr th {\n        vertical-align: top;\n    }\n\n    .dataframe thead th {\n        text-align: right;\n    }\n</style>\n<table border=\"1\" class=\"dataframe\">\n  <thead>\n    <tr style=\"text-align: right;\">\n      <th></th>\n      <th>id</th>\n      <th>user_name</th>\n      <th>user_location</th>\n      <th>user_description</th>\n      <th>user_created</th>\n      <th>user_followers</th>\n      <th>user_friends</th>\n      <th>user_favourites</th>\n      <th>user_verified</th>\n      <th>date</th>\n      <th>text</th>\n      <th>hashtags</th>\n      <th>source</th>\n      <th>retweets</th>\n      <th>favorites</th>\n      <th>is_retweet</th>\n    </tr>\n  </thead>\n  <tbody>\n    <tr>\n      <th>6699</th>\n      <td>1366844645674807300</td>\n      <td>Maggie McFly</td>\n      <td>Windham, CT</td>\n      <td>Mom, Veteran, sports fan, casino employee, art...</td>\n      <td>2009-07-31 02:44:50</td>\n      <td>110</td>\n      <td>273</td>\n      <td>4507</td>\n      <td>False</td>\n      <td>2021-03-02 20:15:32</td>\n      <td>1st dose of the #PfizerBioNTech #COVID19 vacci...</td>\n      <td>['PfizerBioNTech', 'COVID19']</td>\n      <td>Twitter for iPhone</td>\n      <td>2</td>\n      <td>7</td>\n      <td>False</td>\n    </tr>\n    <tr>\n      <th>6700</th>\n      <td>1366843634620973058</td>\n      <td>David Williams</td>\n      <td>Georgia, USA</td>\n      <td>College Professor/Saints Fan/Internet Radio St...</td>\n      <td>2011-02-15 14:49:02</td>\n      <td>234</td>\n      <td>1788</td>\n      <td>6064</td>\n      <td>False</td>\n      <td>2021-03-02 20:11:31</td>\n      <td>Shout out to @cvspharmacy for the exceptionall...</td>\n      <td>['PfizerBioNTech', 'Lanett', 'Alabama']</td>\n      <td>Twitter for iPhone</td>\n      <td>0</td>\n      <td>0</td>\n      <td>False</td>\n    </tr>\n    <tr>\n      <th>6701</th>\n      <td>1366841327762223108</td>\n      <td>Kate 😷</td>\n      <td>Chicago, IL</td>\n      <td>Daughter, sister, aunt, flygirl. Activist, adv...</td>\n      <td>2014-08-10 17:51:46</td>\n      <td>86</td>\n      <td>589</td>\n      <td>11069</td>\n      <td>False</td>\n      <td>2021-03-02 20:02:21</td>\n      <td>Get your vaccine. Wear your mask. #COVID19Vacc...</td>\n      <td>['COVID19Vaccine', 'PfizerBioNTech', 'firstdos...</td>\n      <td>Twitter for iPhone</td>\n      <td>0</td>\n      <td>1</td>\n      <td>False</td>\n    </tr>\n    <tr>\n      <th>6702</th>\n      <td>1366839546416144395</td>\n      <td>Kat</td>\n      <td>Austin, TX</td>\n      <td>Progressive feminist; US Army Veteran; LGBTQ &amp;...</td>\n      <td>2008-01-15 00:19:22</td>\n      <td>791</td>\n      <td>606</td>\n      <td>42277</td>\n      <td>False</td>\n      <td>2021-03-02 19:55:17</td>\n      <td>Covid-19 Live Updates: Merck Will Help Manufac...</td>\n      <td>NaN</td>\n      <td>Twitter Web App</td>\n      <td>0</td>\n      <td>0</td>\n      <td>False</td>\n    </tr>\n    <tr>\n      <th>6703</th>\n      <td>1366834425636470795</td>\n      <td>Mary Coll</td>\n      <td>Limerick, Ireland</td>\n      <td>Unpredictable when provoked. Will always give ...</td>\n      <td>2017-09-07 21:24:01</td>\n      <td>667</td>\n      <td>140</td>\n      <td>5343</td>\n      <td>False</td>\n      <td>2021-03-02 19:34:56</td>\n      <td>My Mam is vaccinated! Feels like we just won t...</td>\n      <td>NaN</td>\n      <td>Twitter Web App</td>\n      <td>1</td>\n      <td>185</td>\n      <td>False</td>\n    </tr>\n    <tr>\n      <th>6704</th>\n      <td>1366828736616751106</td>\n      <td>Bernardo Pimentel</td>\n      <td>Hamburg, Deutschland</td>\n      <td>Neurology resident &amp; stroke scientist working ...</td>\n      <td>2019-04-13 09:01:06</td>\n      <td>73</td>\n      <td>148</td>\n      <td>385</td>\n      <td>False</td>\n      <td>2021-03-02 19:12:19</td>\n      <td>getting the 2nd vaccine shot against COVID is ...</td>\n      <td>NaN</td>\n      <td>Twitter for iPhone</td>\n      <td>0</td>\n      <td>1</td>\n      <td>False</td>\n    </tr>\n    <tr>\n      <th>6705</th>\n      <td>1366827957134630912</td>\n      <td>Chitown Buckeye</td>\n      <td>NaN</td>\n      <td>Political junkie turned activist thanks to ill...</td>\n      <td>2014-10-08 03:16:56</td>\n      <td>346</td>\n      <td>321</td>\n      <td>62716</td>\n      <td>False</td>\n      <td>2021-03-02 19:09:14</td>\n      <td>Just got dose 1 of my vaccine! Thanks #PfizerB...</td>\n      <td>['PfizerBioNTech']</td>\n      <td>Twitter for iPhone</td>\n      <td>0</td>\n      <td>0</td>\n      <td>False</td>\n    </tr>\n    <tr>\n      <th>6706</th>\n      <td>1366824521215393800</td>\n      <td>Irry</td>\n      <td>Manchester, England</td>\n      <td>Speak less than you know,\\nHave more than you ...</td>\n      <td>2013-10-22 08:33:19</td>\n      <td>668</td>\n      <td>328</td>\n      <td>10460</td>\n      <td>False</td>\n      <td>2021-03-02 18:55:34</td>\n      <td>Just vaccinating away. Wbu? #GetVaccinated #va...</td>\n      <td>['GetVaccinated', 'vaccine', 'Pharmacist', 'Pf...</td>\n      <td>Twitter for Android</td>\n      <td>0</td>\n      <td>1</td>\n      <td>False</td>\n    </tr>\n    <tr>\n      <th>6707</th>\n      <td>1366823817881018380</td>\n      <td>Geoffo</td>\n      <td>Tewks</td>\n      <td>NaN</td>\n      <td>2009-05-27 21:17:26</td>\n      <td>253</td>\n      <td>838</td>\n      <td>744</td>\n      <td>False</td>\n      <td>2021-03-02 18:52:47</td>\n      <td>@MattHancock why do both of your friends keep ...</td>\n      <td>NaN</td>\n      <td>Twitter for iPhone</td>\n      <td>0</td>\n      <td>0</td>\n      <td>False</td>\n    </tr>\n    <tr>\n      <th>6708</th>\n      <td>1366787836096245769</td>\n      <td>Gulf News</td>\n      <td>United Arab Emirates</td>\n      <td>We don't just cover the news - we uncover the ...</td>\n      <td>2009-02-11 08:21:32</td>\n      <td>1200531</td>\n      <td>231</td>\n      <td>823</td>\n      <td>True</td>\n      <td>2021-03-02 16:29:48</td>\n      <td>The #DubaiHealthAuthority has expanded the age...</td>\n      <td>['DubaiHealthAuthority', 'PfizerBioNTech']</td>\n      <td>TweetDeck</td>\n      <td>4</td>\n      <td>9</td>\n      <td>False</td>\n    </tr>\n  </tbody>\n</table>\n</div>"
     },
     "metadata": {},
     "execution_count": 29
    }
   ],
   "source": [
    "# Last 10 Rows\n",
    "tweets.tail(10)"
   ]
  },
  {
   "cell_type": "code",
   "execution_count": 8,
   "metadata": {},
   "outputs": [
    {
     "output_type": "execute_result",
     "data": {
      "text/plain": [
       "                 id  user_followers  user_friends  user_favourites  \\\n",
       "count  6.709000e+03    6.709000e+03   6709.000000      6709.000000   \n",
       "mean   1.350583e+18    3.681724e+04   1170.554330     14160.786406   \n",
       "std    8.659664e+15    3.093354e+05   2656.089377     41346.447171   \n",
       "min    1.337728e+18    0.000000e+00      0.000000         0.000000   \n",
       "25%    1.343515e+18    1.120000e+02    165.000000       405.000000   \n",
       "50%    1.349406e+18    4.860000e+02    465.000000      2251.000000   \n",
       "75%    1.356300e+18    2.117000e+03   1246.000000     10878.000000   \n",
       "max    1.369615e+18    1.371493e+07  99129.000000    924667.000000   \n",
       "\n",
       "          retweets    favorites  \n",
       "count  6709.000000  6709.000000  \n",
       "mean      1.604412     9.352064  \n",
       "std      14.059918    64.180006  \n",
       "min       0.000000     0.000000  \n",
       "25%       0.000000     0.000000  \n",
       "50%       0.000000     1.000000  \n",
       "75%       1.000000     4.000000  \n",
       "max     678.000000  2315.000000  "
      ],
      "text/html": "<div>\n<style scoped>\n    .dataframe tbody tr th:only-of-type {\n        vertical-align: middle;\n    }\n\n    .dataframe tbody tr th {\n        vertical-align: top;\n    }\n\n    .dataframe thead th {\n        text-align: right;\n    }\n</style>\n<table border=\"1\" class=\"dataframe\">\n  <thead>\n    <tr style=\"text-align: right;\">\n      <th></th>\n      <th>id</th>\n      <th>user_followers</th>\n      <th>user_friends</th>\n      <th>user_favourites</th>\n      <th>retweets</th>\n      <th>favorites</th>\n    </tr>\n  </thead>\n  <tbody>\n    <tr>\n      <th>count</th>\n      <td>6.709000e+03</td>\n      <td>6.709000e+03</td>\n      <td>6709.000000</td>\n      <td>6709.000000</td>\n      <td>6709.000000</td>\n      <td>6709.000000</td>\n    </tr>\n    <tr>\n      <th>mean</th>\n      <td>1.350583e+18</td>\n      <td>3.681724e+04</td>\n      <td>1170.554330</td>\n      <td>14160.786406</td>\n      <td>1.604412</td>\n      <td>9.352064</td>\n    </tr>\n    <tr>\n      <th>std</th>\n      <td>8.659664e+15</td>\n      <td>3.093354e+05</td>\n      <td>2656.089377</td>\n      <td>41346.447171</td>\n      <td>14.059918</td>\n      <td>64.180006</td>\n    </tr>\n    <tr>\n      <th>min</th>\n      <td>1.337728e+18</td>\n      <td>0.000000e+00</td>\n      <td>0.000000</td>\n      <td>0.000000</td>\n      <td>0.000000</td>\n      <td>0.000000</td>\n    </tr>\n    <tr>\n      <th>25%</th>\n      <td>1.343515e+18</td>\n      <td>1.120000e+02</td>\n      <td>165.000000</td>\n      <td>405.000000</td>\n      <td>0.000000</td>\n      <td>0.000000</td>\n    </tr>\n    <tr>\n      <th>50%</th>\n      <td>1.349406e+18</td>\n      <td>4.860000e+02</td>\n      <td>465.000000</td>\n      <td>2251.000000</td>\n      <td>0.000000</td>\n      <td>1.000000</td>\n    </tr>\n    <tr>\n      <th>75%</th>\n      <td>1.356300e+18</td>\n      <td>2.117000e+03</td>\n      <td>1246.000000</td>\n      <td>10878.000000</td>\n      <td>1.000000</td>\n      <td>4.000000</td>\n    </tr>\n    <tr>\n      <th>max</th>\n      <td>1.369615e+18</td>\n      <td>1.371493e+07</td>\n      <td>99129.000000</td>\n      <td>924667.000000</td>\n      <td>678.000000</td>\n      <td>2315.000000</td>\n    </tr>\n  </tbody>\n</table>\n</div>"
     },
     "metadata": {},
     "execution_count": 8
    }
   ],
   "source": [
    "# Basic Statistics\n",
    "tweets.describe()"
   ]
  },
  {
   "cell_type": "code",
   "execution_count": 9,
   "metadata": {},
   "outputs": [
    {
     "output_type": "execute_result",
     "data": {
      "text/plain": [
       "id                   int64\n",
       "user_name           object\n",
       "user_location       object\n",
       "user_description    object\n",
       "user_created        object\n",
       "user_followers       int64\n",
       "user_friends         int64\n",
       "user_favourites      int64\n",
       "user_verified         bool\n",
       "date                object\n",
       "text                object\n",
       "hashtags            object\n",
       "source              object\n",
       "retweets             int64\n",
       "favorites            int64\n",
       "is_retweet            bool\n",
       "dtype: object"
      ]
     },
     "metadata": {},
     "execution_count": 9
    }
   ],
   "source": [
    "# Data Types\n",
    "tweets.dtypes"
   ]
  },
  {
   "cell_type": "code",
   "execution_count": 16,
   "metadata": {},
   "outputs": [
    {
     "output_type": "execute_result",
     "data": {
      "text/plain": [
       "id                     0\n",
       "user_name              0\n",
       "user_location       1366\n",
       "user_description     420\n",
       "user_created           0\n",
       "user_followers         0\n",
       "user_friends           0\n",
       "user_favourites        0\n",
       "user_verified          0\n",
       "date                   0\n",
       "text                   0\n",
       "hashtags            1658\n",
       "source                 1\n",
       "retweets               0\n",
       "favorites              0\n",
       "is_retweet             0\n",
       "dtype: int64"
      ]
     },
     "metadata": {},
     "execution_count": 16
    }
   ],
   "source": [
    "# Checking for missing Values\n",
    "tweets.isnull().sum()"
   ]
  },
  {
   "cell_type": "code",
   "execution_count": 25,
   "metadata": {},
   "outputs": [
    {
     "output_type": "execute_result",
     "data": {
      "text/plain": [
       "' \\n\\nInitial Obervations\\n\\n1. Data set has 16 colums and 6709 rows.\\n2. Following Columns have missing values  = [user_location, user_description, hashtags, source].\\n3. Most of the Data is either of String or Integer Data type.\\n4. Some of the text data contain emojis.\\n\\n'"
      ]
     },
     "metadata": {},
     "execution_count": 25
    }
   ],
   "source": [
    "''' \n",
    "\n",
    "Initial Obervations\n",
    "\n",
    "1. Data set has 16 colums and 6709 rows.\n",
    "2. Following Columns have missing values  = [user_location, user_description, hashtags, source].\n",
    "3. Most of the Data is either of String or Integer Data type.\n",
    "4. Some of the text data contain emojis.\n",
    "5. The user_location column has absurd locations such as \"Your Bed\" or \" The D\".\n",
    "\n",
    "'''"
   ]
  },
  {
   "cell_type": "code",
   "execution_count": null,
   "metadata": {},
   "outputs": [],
   "source": []
  }
 ]
}